{
 "cells": [
  {
   "cell_type": "code",
   "execution_count": 1,
   "id": "541b540e-4a5d-4194-8f3d-48512198d425",
   "metadata": {},
   "outputs": [],
   "source": [
    "import sklearn\n",
    "import pandas as pd\n",
    "    "
   ]
  },
  {
   "cell_type": "code",
   "execution_count": 2,
   "id": "73fbc37c-7adb-45f1-ab32-a46118017cf7",
   "metadata": {},
   "outputs": [],
   "source": [
    "fdf=pd.read_csv(r'C:\\Users\\user\\Desktop\\Varsha\\\\processed_training.csv')"
   ]
  },
  {
   "cell_type": "code",
   "execution_count": 3,
   "id": "cdfacc57-7aa0-4851-a735-2a172f4074fe",
   "metadata": {},
   "outputs": [
    {
     "data": {
      "text/html": [
       "<div>\n",
       "<style scoped>\n",
       "    .dataframe tbody tr th:only-of-type {\n",
       "        vertical-align: middle;\n",
       "    }\n",
       "\n",
       "    .dataframe tbody tr th {\n",
       "        vertical-align: top;\n",
       "    }\n",
       "\n",
       "    .dataframe thead th {\n",
       "        text-align: right;\n",
       "    }\n",
       "</style>\n",
       "<table border=\"1\" class=\"dataframe\">\n",
       "  <thead>\n",
       "    <tr style=\"text-align: right;\">\n",
       "      <th></th>\n",
       "      <th>Major code stored  as  workover/drilling</th>\n",
       "      <th>Cde</th>\n",
       "      <th>Service hours type</th>\n",
       "      <th>Minor Repair / Tripping / Complication</th>\n",
       "      <th>Service hours type_lowercase</th>\n",
       "    </tr>\n",
       "  </thead>\n",
       "  <tbody>\n",
       "    <tr>\n",
       "      <th>0</th>\n",
       "      <td>RDRP</td>\n",
       "      <td>1A</td>\n",
       "      <td>RIG CARRIER MOVED TO NEW SITE</td>\n",
       "      <td>NaN</td>\n",
       "      <td>rig carrier moved to new site</td>\n",
       "    </tr>\n",
       "    <tr>\n",
       "      <th>1</th>\n",
       "      <td>OUC</td>\n",
       "      <td>24J</td>\n",
       "      <td>DWS UNDER MAJOR REPAIR &amp; WAITG FOR COMP OF CIV...</td>\n",
       "      <td>NaN</td>\n",
       "      <td>dws under major repair waitg for comp of civ job</td>\n",
       "    </tr>\n",
       "    <tr>\n",
       "      <th>2</th>\n",
       "      <td>OUC</td>\n",
       "      <td>24J</td>\n",
       "      <td>DWS UNDER MAJOR REPAIR &amp; WAITG FOR COMP OF CIV...</td>\n",
       "      <td>NaN</td>\n",
       "      <td>dws under major repair waitg for comp of civ job</td>\n",
       "    </tr>\n",
       "    <tr>\n",
       "      <th>3</th>\n",
       "      <td>OUC</td>\n",
       "      <td>24J</td>\n",
       "      <td>DWS UNDER MAJOR REPAIR &amp; WAITG FOR COMP OF CIV...</td>\n",
       "      <td>NaN</td>\n",
       "      <td>dws under major repair waitg for comp of civ job</td>\n",
       "    </tr>\n",
       "    <tr>\n",
       "      <th>4</th>\n",
       "      <td>OUC</td>\n",
       "      <td>24J</td>\n",
       "      <td>DWS UNDER MAJOR REPAIR &amp; WAITG FOR COMP OF CIV...</td>\n",
       "      <td>NaN</td>\n",
       "      <td>dws under major repair waitg for comp of civ job</td>\n",
       "    </tr>\n",
       "  </tbody>\n",
       "</table>\n",
       "</div>"
      ],
      "text/plain": [
       "  Major code stored  as  workover/drilling  Cde  \\\n",
       "0                                     RDRP   1A   \n",
       "1                                      OUC  24J   \n",
       "2                                      OUC  24J   \n",
       "3                                      OUC  24J   \n",
       "4                                      OUC  24J   \n",
       "\n",
       "                                  Service hours type  \\\n",
       "0                      RIG CARRIER MOVED TO NEW SITE   \n",
       "1  DWS UNDER MAJOR REPAIR & WAITG FOR COMP OF CIV...   \n",
       "2  DWS UNDER MAJOR REPAIR & WAITG FOR COMP OF CIV...   \n",
       "3  DWS UNDER MAJOR REPAIR & WAITG FOR COMP OF CIV...   \n",
       "4  DWS UNDER MAJOR REPAIR & WAITG FOR COMP OF CIV...   \n",
       "\n",
       "  Minor Repair / Tripping / Complication  \\\n",
       "0                                    NaN   \n",
       "1                                    NaN   \n",
       "2                                    NaN   \n",
       "3                                    NaN   \n",
       "4                                    NaN   \n",
       "\n",
       "                       Service hours type_lowercase  \n",
       "0                     rig carrier moved to new site  \n",
       "1  dws under major repair waitg for comp of civ job  \n",
       "2  dws under major repair waitg for comp of civ job  \n",
       "3  dws under major repair waitg for comp of civ job  \n",
       "4  dws under major repair waitg for comp of civ job  "
      ]
     },
     "execution_count": 3,
     "metadata": {},
     "output_type": "execute_result"
    }
   ],
   "source": [
    "fdf.head()"
   ]
  },
  {
   "cell_type": "code",
   "execution_count": 4,
   "id": "8cbd534d-fae7-4307-9c7a-6dd8a3c38e10",
   "metadata": {},
   "outputs": [
    {
     "data": {
      "text/plain": [
       "(291489, 5)"
      ]
     },
     "execution_count": 4,
     "metadata": {},
     "output_type": "execute_result"
    }
   ],
   "source": [
    "fdf.shape"
   ]
  },
  {
   "cell_type": "code",
   "execution_count": 5,
   "id": "b600d810-07d5-416b-9003-a4cf5c01f235",
   "metadata": {},
   "outputs": [
    {
     "data": {
      "text/plain": [
       "Index(['Major code stored  as  workover/drilling', 'Cde', 'Service hours type',\n",
       "       'Minor Repair / Tripping / Complication',\n",
       "       'Service hours type_lowercase'],\n",
       "      dtype='object')"
      ]
     },
     "execution_count": 5,
     "metadata": {},
     "output_type": "execute_result"
    }
   ],
   "source": [
    "fdf.columns"
   ]
  },
  {
   "cell_type": "code",
   "execution_count": 6,
   "id": "fb7950d1-138f-4b5e-bac9-69ff3d60bd19",
   "metadata": {},
   "outputs": [
    {
     "data": {
      "text/plain": [
       "Cde\n",
       "6A     67930\n",
       "5A     38754\n",
       "2A     22671\n",
       "23A    13612\n",
       "11A    13301\n",
       "       ...  \n",
       "23I       76\n",
       "7B        70\n",
       "11B       56\n",
       "24K       45\n",
       "21J       10\n",
       "Name: count, Length: 73, dtype: int64"
      ]
     },
     "execution_count": 6,
     "metadata": {},
     "output_type": "execute_result"
    }
   ],
   "source": [
    "fdf['Cde'].value_counts()"
   ]
  },
  {
   "cell_type": "code",
   "execution_count": 7,
   "id": "3e860c04-10a3-477c-b9e8-c803fc29db46",
   "metadata": {},
   "outputs": [],
   "source": [
    "from sklearn.preprocessing import LabelEncoder"
   ]
  },
  {
   "cell_type": "code",
   "execution_count": 8,
   "id": "89f515c0-7233-4a49-9660-9410276fbbb6",
   "metadata": {},
   "outputs": [],
   "source": [
    "le = LabelEncoder()"
   ]
  },
  {
   "cell_type": "code",
   "execution_count": 9,
   "id": "9f2d15fc-9f13-473b-ab13-1442063a892d",
   "metadata": {},
   "outputs": [],
   "source": [
    "fdf.loc[:, 'label_encoded'] = le.fit_transform(fdf['Cde'])"
   ]
  },
  {
   "cell_type": "code",
   "execution_count": 10,
   "id": "44780ca2-8587-4900-9b41-bee98a07600a",
   "metadata": {},
   "outputs": [
    {
     "data": {
      "text/plain": [
       "Index(['Major code stored  as  workover/drilling', 'Cde', 'Service hours type',\n",
       "       'Minor Repair / Tripping / Complication',\n",
       "       'Service hours type_lowercase', 'label_encoded'],\n",
       "      dtype='object')"
      ]
     },
     "execution_count": 10,
     "metadata": {},
     "output_type": "execute_result"
    }
   ],
   "source": [
    "fdf.columns"
   ]
  },
  {
   "cell_type": "code",
   "execution_count": 11,
   "id": "90b4efa8-87fa-4550-b0d7-cc908c0b322b",
   "metadata": {},
   "outputs": [],
   "source": [
    "from sklearn.model_selection import train_test_split\n",
    "\n",
    "\n",
    "X = fdf.drop(columns=['label_encoded'])  # Features\n",
    "y = fdf['label_encoded']  # Target\n",
    "\n",
    "# Perform stratified split\n",
    "X_train, X_test, y_train, y_test = train_test_split(\n",
    "    X, y, \n",
    "    test_size=0.3,  # 30% test set\n",
    "    stratify=y,     # Ensure class distribution is preserved\n",
    "    random_state=42\n",
    ")\n",
    "\n",
    "# Combine features and target back into DataFrames\n",
    "train_df = X_train.copy()\n",
    "train_df['label_encoded'] = y_train\n",
    "\n",
    "test_df = X_test.copy()\n",
    "test_df['label_encoded'] = y_test\n"
   ]
  },
  {
   "cell_type": "code",
   "execution_count": 12,
   "id": "322224f9-4aaf-49d2-8973-fe63816bacce",
   "metadata": {},
   "outputs": [
    {
     "name": "stdout",
     "output_type": "stream",
     "text": [
      "label_encoded\n",
      "65    0.233045\n",
      "64    0.132953\n",
      "59    0.077778\n",
      "41    0.046696\n",
      "1     0.045633\n",
      "        ...   \n",
      "49    0.000260\n",
      "67    0.000240\n",
      "2     0.000191\n",
      "58    0.000157\n",
      "29    0.000034\n",
      "Name: proportion, Length: 73, dtype: float64\n",
      "label_encoded\n",
      "65    0.233044\n",
      "64    0.132949\n",
      "59    0.077773\n",
      "41    0.046703\n",
      "1     0.045628\n",
      "        ...   \n",
      "49    0.000263\n",
      "67    0.000240\n",
      "2     0.000194\n",
      "58    0.000149\n",
      "29    0.000034\n",
      "Name: proportion, Length: 73, dtype: float64\n"
     ]
    }
   ],
   "source": [
    "# Verify class distribution\n",
    "print(y_train.value_counts(normalize=True))\n",
    "print(y_test.value_counts(normalize=True))\n"
   ]
  },
  {
   "cell_type": "code",
   "execution_count": 23,
   "id": "cfac22fe-ecd8-42df-a30e-d946e834172a",
   "metadata": {},
   "outputs": [
    {
     "name": "stdout",
     "output_type": "stream",
     "text": [
      "Requirement already satisfied: ipywidgets in d:\\hehe\\envs\\pytorch\\lib\\site-packages (8.1.5)\n",
      "Requirement already satisfied: comm>=0.1.3 in d:\\hehe\\envs\\pytorch\\lib\\site-packages (from ipywidgets) (0.2.1)\n",
      "Requirement already satisfied: ipython>=6.1.0 in d:\\hehe\\envs\\pytorch\\lib\\site-packages (from ipywidgets) (8.25.0)\n",
      "Requirement already satisfied: traitlets>=4.3.1 in d:\\hehe\\envs\\pytorch\\lib\\site-packages (from ipywidgets) (5.14.3)\n",
      "Requirement already satisfied: widgetsnbextension~=4.0.12 in d:\\hehe\\envs\\pytorch\\lib\\site-packages (from ipywidgets) (4.0.13)\n",
      "Requirement already satisfied: jupyterlab-widgets~=3.0.12 in d:\\hehe\\envs\\pytorch\\lib\\site-packages (from ipywidgets) (3.0.13)\n",
      "Requirement already satisfied: decorator in d:\\hehe\\envs\\pytorch\\lib\\site-packages (from ipython>=6.1.0->ipywidgets) (5.1.1)\n",
      "Requirement already satisfied: jedi>=0.16 in d:\\hehe\\envs\\pytorch\\lib\\site-packages (from ipython>=6.1.0->ipywidgets) (0.19.1)\n",
      "Requirement already satisfied: matplotlib-inline in d:\\hehe\\envs\\pytorch\\lib\\site-packages (from ipython>=6.1.0->ipywidgets) (0.1.6)\n",
      "Requirement already satisfied: prompt-toolkit<3.1.0,>=3.0.41 in d:\\hehe\\envs\\pytorch\\lib\\site-packages (from ipython>=6.1.0->ipywidgets) (3.0.43)\n",
      "Requirement already satisfied: pygments>=2.4.0 in d:\\hehe\\envs\\pytorch\\lib\\site-packages (from ipython>=6.1.0->ipywidgets) (2.15.1)\n",
      "Requirement already satisfied: stack-data in d:\\hehe\\envs\\pytorch\\lib\\site-packages (from ipython>=6.1.0->ipywidgets) (0.2.0)\n",
      "Requirement already satisfied: colorama in d:\\hehe\\envs\\pytorch\\lib\\site-packages (from ipython>=6.1.0->ipywidgets) (0.4.6)\n",
      "Requirement already satisfied: parso<0.9.0,>=0.8.3 in d:\\hehe\\envs\\pytorch\\lib\\site-packages (from jedi>=0.16->ipython>=6.1.0->ipywidgets) (0.8.3)\n",
      "Requirement already satisfied: wcwidth in d:\\hehe\\envs\\pytorch\\lib\\site-packages (from prompt-toolkit<3.1.0,>=3.0.41->ipython>=6.1.0->ipywidgets) (0.2.5)\n",
      "Requirement already satisfied: executing in d:\\hehe\\envs\\pytorch\\lib\\site-packages (from stack-data->ipython>=6.1.0->ipywidgets) (0.8.3)\n",
      "Requirement already satisfied: asttokens in d:\\hehe\\envs\\pytorch\\lib\\site-packages (from stack-data->ipython>=6.1.0->ipywidgets) (2.0.5)\n",
      "Requirement already satisfied: pure-eval in d:\\hehe\\envs\\pytorch\\lib\\site-packages (from stack-data->ipython>=6.1.0->ipywidgets) (0.2.2)\n",
      "Requirement already satisfied: six in d:\\hehe\\envs\\pytorch\\lib\\site-packages (from asttokens->stack-data->ipython>=6.1.0->ipywidgets) (1.16.0)\n"
     ]
    },
    {
     "name": "stderr",
     "output_type": "stream",
     "text": [
      "usage: jupyter [-h] [--version] [--config-dir] [--data-dir] [--runtime-dir]\n",
      "               [--paths] [--json] [--debug]\n",
      "               [subcommand]\n",
      "\n",
      "Jupyter: Interactive Computing\n",
      "\n",
      "positional arguments:\n",
      "  subcommand     the subcommand to launch\n",
      "\n",
      "options:\n",
      "  -h, --help     show this help message and exit\n",
      "  --version      show the versions of core jupyter packages and exit\n",
      "  --config-dir   show Jupyter config dir\n",
      "  --data-dir     show Jupyter data dir\n",
      "  --runtime-dir  show Jupyter runtime dir\n",
      "  --paths        show all Jupyter paths. Add --json for machine-readable\n",
      "                 format.\n",
      "  --json         output paths as machine-readable json\n",
      "  --debug        output debug information about paths\n",
      "\n",
      "Available subcommands: console contrib dejavu events execute kernel kernelspec\n",
      "lab labextension labhub migrate nbconvert nbextensions_configurator notebook\n",
      "qtconsole run script server troubleshoot trust\n",
      "\n",
      "Jupyter command `jupyter-nbextension` not found.\n"
     ]
    }
   ],
   "source": [
    "!pip install ipywidgets --upgrade\n",
    "!jupyter nbextension enable --py widgetsnbextension"
   ]
  },
  {
   "cell_type": "code",
   "execution_count": 24,
   "id": "f65858dc-baaf-498e-9ce9-2ea3e95a17f3",
   "metadata": {},
   "outputs": [
    {
     "name": "stdout",
     "output_type": "stream",
     "text": [
      "Requirement already satisfied: jupyter-contrib-nbextensions in d:\\hehe\\envs\\pytorch\\lib\\site-packages (0.7.0)\n",
      "Requirement already satisfied: ipython-genutils in d:\\hehe\\envs\\pytorch\\lib\\site-packages (from jupyter-contrib-nbextensions) (0.2.0)\n",
      "Requirement already satisfied: jupyter-contrib-core>=0.3.3 in d:\\hehe\\envs\\pytorch\\lib\\site-packages (from jupyter-contrib-nbextensions) (0.4.2)\n",
      "Requirement already satisfied: jupyter-core in d:\\hehe\\envs\\pytorch\\lib\\site-packages (from jupyter-contrib-nbextensions) (5.7.2)\n",
      "Requirement already satisfied: jupyter-highlight-selected-word>=0.1.1 in d:\\hehe\\envs\\pytorch\\lib\\site-packages (from jupyter-contrib-nbextensions) (0.2.0)\n",
      "Requirement already satisfied: jupyter-nbextensions-configurator>=0.4.0 in d:\\hehe\\envs\\pytorch\\lib\\site-packages (from jupyter-contrib-nbextensions) (0.6.4)\n",
      "Requirement already satisfied: nbconvert>=6.0 in d:\\hehe\\envs\\pytorch\\lib\\site-packages (from jupyter-contrib-nbextensions) (7.10.0)\n",
      "Requirement already satisfied: notebook>=6.0 in d:\\hehe\\envs\\pytorch\\lib\\site-packages (from jupyter-contrib-nbextensions) (7.0.8)\n",
      "Requirement already satisfied: tornado in d:\\hehe\\envs\\pytorch\\lib\\site-packages (from jupyter-contrib-nbextensions) (6.4.1)\n",
      "Requirement already satisfied: traitlets>=4.1 in d:\\hehe\\envs\\pytorch\\lib\\site-packages (from jupyter-contrib-nbextensions) (5.14.3)\n",
      "Requirement already satisfied: lxml in d:\\hehe\\envs\\pytorch\\lib\\site-packages (from jupyter-contrib-nbextensions) (5.3.0)\n",
      "Requirement already satisfied: setuptools in d:\\hehe\\envs\\pytorch\\lib\\site-packages (from jupyter-contrib-core>=0.3.3->jupyter-contrib-nbextensions) (72.1.0)\n",
      "Requirement already satisfied: jupyter-server in d:\\hehe\\envs\\pytorch\\lib\\site-packages (from jupyter-nbextensions-configurator>=0.4.0->jupyter-contrib-nbextensions) (2.14.1)\n",
      "Requirement already satisfied: pyyaml in d:\\hehe\\envs\\pytorch\\lib\\site-packages (from jupyter-nbextensions-configurator>=0.4.0->jupyter-contrib-nbextensions) (6.0.1)\n",
      "Requirement already satisfied: beautifulsoup4 in d:\\hehe\\envs\\pytorch\\lib\\site-packages (from nbconvert>=6.0->jupyter-contrib-nbextensions) (4.12.3)\n",
      "Requirement already satisfied: bleach!=5.0.0 in d:\\hehe\\envs\\pytorch\\lib\\site-packages (from nbconvert>=6.0->jupyter-contrib-nbextensions) (4.1.0)\n",
      "Requirement already satisfied: defusedxml in d:\\hehe\\envs\\pytorch\\lib\\site-packages (from nbconvert>=6.0->jupyter-contrib-nbextensions) (0.7.1)\n",
      "Requirement already satisfied: jinja2>=3.0 in d:\\hehe\\envs\\pytorch\\lib\\site-packages (from nbconvert>=6.0->jupyter-contrib-nbextensions) (3.1.4)\n",
      "Requirement already satisfied: jupyterlab-pygments in d:\\hehe\\envs\\pytorch\\lib\\site-packages (from nbconvert>=6.0->jupyter-contrib-nbextensions) (0.1.2)\n",
      "Requirement already satisfied: markupsafe>=2.0 in d:\\hehe\\envs\\pytorch\\lib\\site-packages (from nbconvert>=6.0->jupyter-contrib-nbextensions) (2.1.3)\n",
      "Requirement already satisfied: mistune<4,>=2.0.3 in d:\\hehe\\envs\\pytorch\\lib\\site-packages (from nbconvert>=6.0->jupyter-contrib-nbextensions) (2.0.4)\n",
      "Requirement already satisfied: nbclient>=0.5.0 in d:\\hehe\\envs\\pytorch\\lib\\site-packages (from nbconvert>=6.0->jupyter-contrib-nbextensions) (0.8.0)\n",
      "Requirement already satisfied: nbformat>=5.7 in d:\\hehe\\envs\\pytorch\\lib\\site-packages (from nbconvert>=6.0->jupyter-contrib-nbextensions) (5.9.2)\n",
      "Requirement already satisfied: packaging in d:\\hehe\\envs\\pytorch\\lib\\site-packages (from nbconvert>=6.0->jupyter-contrib-nbextensions) (24.1)\n",
      "Requirement already satisfied: pandocfilters>=1.4.1 in d:\\hehe\\envs\\pytorch\\lib\\site-packages (from nbconvert>=6.0->jupyter-contrib-nbextensions) (1.5.0)\n",
      "Requirement already satisfied: pygments>=2.4.1 in d:\\hehe\\envs\\pytorch\\lib\\site-packages (from nbconvert>=6.0->jupyter-contrib-nbextensions) (2.15.1)\n",
      "Requirement already satisfied: tinycss2 in d:\\hehe\\envs\\pytorch\\lib\\site-packages (from nbconvert>=6.0->jupyter-contrib-nbextensions) (1.2.1)\n",
      "Requirement already satisfied: platformdirs>=2.5 in d:\\hehe\\envs\\pytorch\\lib\\site-packages (from jupyter-core->jupyter-contrib-nbextensions) (3.10.0)\n",
      "Requirement already satisfied: pywin32>=300 in d:\\hehe\\envs\\pytorch\\lib\\site-packages (from jupyter-core->jupyter-contrib-nbextensions) (305.1)\n",
      "Requirement already satisfied: jupyterlab-server<3,>=2.22.1 in d:\\hehe\\envs\\pytorch\\lib\\site-packages (from notebook>=6.0->jupyter-contrib-nbextensions) (2.25.1)\n",
      "Requirement already satisfied: jupyterlab<4.1,>=4.0.2 in d:\\hehe\\envs\\pytorch\\lib\\site-packages (from notebook>=6.0->jupyter-contrib-nbextensions) (4.0.11)\n",
      "Requirement already satisfied: notebook-shim<0.3,>=0.2 in d:\\hehe\\envs\\pytorch\\lib\\site-packages (from notebook>=6.0->jupyter-contrib-nbextensions) (0.2.3)\n",
      "Requirement already satisfied: six>=1.9.0 in d:\\hehe\\envs\\pytorch\\lib\\site-packages (from bleach!=5.0.0->nbconvert>=6.0->jupyter-contrib-nbextensions) (1.16.0)\n",
      "Requirement already satisfied: webencodings in d:\\hehe\\envs\\pytorch\\lib\\site-packages (from bleach!=5.0.0->nbconvert>=6.0->jupyter-contrib-nbextensions) (0.5.1)\n",
      "Requirement already satisfied: anyio>=3.1.0 in d:\\hehe\\envs\\pytorch\\lib\\site-packages (from jupyter-server->jupyter-nbextensions-configurator>=0.4.0->jupyter-contrib-nbextensions) (4.2.0)\n",
      "Requirement already satisfied: argon2-cffi>=21.1 in d:\\hehe\\envs\\pytorch\\lib\\site-packages (from jupyter-server->jupyter-nbextensions-configurator>=0.4.0->jupyter-contrib-nbextensions) (21.3.0)\n",
      "Requirement already satisfied: jupyter-client>=7.4.4 in d:\\hehe\\envs\\pytorch\\lib\\site-packages (from jupyter-server->jupyter-nbextensions-configurator>=0.4.0->jupyter-contrib-nbextensions) (8.6.0)\n",
      "Requirement already satisfied: jupyter-events>=0.9.0 in d:\\hehe\\envs\\pytorch\\lib\\site-packages (from jupyter-server->jupyter-nbextensions-configurator>=0.4.0->jupyter-contrib-nbextensions) (0.10.0)\n",
      "Requirement already satisfied: jupyter-server-terminals>=0.4.4 in d:\\hehe\\envs\\pytorch\\lib\\site-packages (from jupyter-server->jupyter-nbextensions-configurator>=0.4.0->jupyter-contrib-nbextensions) (0.4.4)\n",
      "Requirement already satisfied: overrides>=5.0 in d:\\hehe\\envs\\pytorch\\lib\\site-packages (from jupyter-server->jupyter-nbextensions-configurator>=0.4.0->jupyter-contrib-nbextensions) (7.4.0)\n",
      "Requirement already satisfied: prometheus-client>=0.9 in d:\\hehe\\envs\\pytorch\\lib\\site-packages (from jupyter-server->jupyter-nbextensions-configurator>=0.4.0->jupyter-contrib-nbextensions) (0.14.1)\n",
      "Requirement already satisfied: pywinpty>=2.0.1 in d:\\hehe\\envs\\pytorch\\lib\\site-packages (from jupyter-server->jupyter-nbextensions-configurator>=0.4.0->jupyter-contrib-nbextensions) (2.0.10)\n",
      "Requirement already satisfied: pyzmq>=24 in d:\\hehe\\envs\\pytorch\\lib\\site-packages (from jupyter-server->jupyter-nbextensions-configurator>=0.4.0->jupyter-contrib-nbextensions) (25.1.2)\n",
      "Requirement already satisfied: send2trash>=1.8.2 in d:\\hehe\\envs\\pytorch\\lib\\site-packages (from jupyter-server->jupyter-nbextensions-configurator>=0.4.0->jupyter-contrib-nbextensions) (1.8.2)\n",
      "Requirement already satisfied: terminado>=0.8.3 in d:\\hehe\\envs\\pytorch\\lib\\site-packages (from jupyter-server->jupyter-nbextensions-configurator>=0.4.0->jupyter-contrib-nbextensions) (0.17.1)\n",
      "Requirement already satisfied: websocket-client>=1.7 in d:\\hehe\\envs\\pytorch\\lib\\site-packages (from jupyter-server->jupyter-nbextensions-configurator>=0.4.0->jupyter-contrib-nbextensions) (1.8.0)\n",
      "Requirement already satisfied: async-lru>=1.0.0 in d:\\hehe\\envs\\pytorch\\lib\\site-packages (from jupyterlab<4.1,>=4.0.2->notebook>=6.0->jupyter-contrib-nbextensions) (2.0.4)\n",
      "Requirement already satisfied: ipykernel in d:\\hehe\\envs\\pytorch\\lib\\site-packages (from jupyterlab<4.1,>=4.0.2->notebook>=6.0->jupyter-contrib-nbextensions) (6.28.0)\n",
      "Requirement already satisfied: jupyter-lsp>=2.0.0 in d:\\hehe\\envs\\pytorch\\lib\\site-packages (from jupyterlab<4.1,>=4.0.2->notebook>=6.0->jupyter-contrib-nbextensions) (2.2.0)\n",
      "Requirement already satisfied: babel>=2.10 in d:\\hehe\\envs\\pytorch\\lib\\site-packages (from jupyterlab-server<3,>=2.22.1->notebook>=6.0->jupyter-contrib-nbextensions) (2.11.0)\n",
      "Requirement already satisfied: json5>=0.9.0 in d:\\hehe\\envs\\pytorch\\lib\\site-packages (from jupyterlab-server<3,>=2.22.1->notebook>=6.0->jupyter-contrib-nbextensions) (0.9.6)\n",
      "Requirement already satisfied: jsonschema>=4.18.0 in d:\\hehe\\envs\\pytorch\\lib\\site-packages (from jupyterlab-server<3,>=2.22.1->notebook>=6.0->jupyter-contrib-nbextensions) (4.19.2)\n",
      "Requirement already satisfied: requests>=2.31 in d:\\hehe\\envs\\pytorch\\lib\\site-packages (from jupyterlab-server<3,>=2.22.1->notebook>=6.0->jupyter-contrib-nbextensions) (2.32.3)\n",
      "Requirement already satisfied: fastjsonschema in d:\\hehe\\envs\\pytorch\\lib\\site-packages (from nbformat>=5.7->nbconvert>=6.0->jupyter-contrib-nbextensions) (2.16.2)\n",
      "Requirement already satisfied: soupsieve>1.2 in d:\\hehe\\envs\\pytorch\\lib\\site-packages (from beautifulsoup4->nbconvert>=6.0->jupyter-contrib-nbextensions) (2.5)\n",
      "Requirement already satisfied: idna>=2.8 in d:\\hehe\\envs\\pytorch\\lib\\site-packages (from anyio>=3.1.0->jupyter-server->jupyter-nbextensions-configurator>=0.4.0->jupyter-contrib-nbextensions) (3.7)\n",
      "Requirement already satisfied: sniffio>=1.1 in d:\\hehe\\envs\\pytorch\\lib\\site-packages (from anyio>=3.1.0->jupyter-server->jupyter-nbextensions-configurator>=0.4.0->jupyter-contrib-nbextensions) (1.3.0)\n",
      "Requirement already satisfied: argon2-cffi-bindings in d:\\hehe\\envs\\pytorch\\lib\\site-packages (from argon2-cffi>=21.1->jupyter-server->jupyter-nbextensions-configurator>=0.4.0->jupyter-contrib-nbextensions) (21.2.0)\n",
      "Requirement already satisfied: pytz>=2015.7 in d:\\hehe\\envs\\pytorch\\lib\\site-packages (from babel>=2.10->jupyterlab-server<3,>=2.22.1->notebook>=6.0->jupyter-contrib-nbextensions) (2024.1)\n",
      "Requirement already satisfied: attrs>=22.2.0 in d:\\hehe\\envs\\pytorch\\lib\\site-packages (from jsonschema>=4.18.0->jupyterlab-server<3,>=2.22.1->notebook>=6.0->jupyter-contrib-nbextensions) (23.1.0)\n",
      "Requirement already satisfied: jsonschema-specifications>=2023.03.6 in d:\\hehe\\envs\\pytorch\\lib\\site-packages (from jsonschema>=4.18.0->jupyterlab-server<3,>=2.22.1->notebook>=6.0->jupyter-contrib-nbextensions) (2023.7.1)\n",
      "Requirement already satisfied: referencing>=0.28.4 in d:\\hehe\\envs\\pytorch\\lib\\site-packages (from jsonschema>=4.18.0->jupyterlab-server<3,>=2.22.1->notebook>=6.0->jupyter-contrib-nbextensions) (0.30.2)\n",
      "Requirement already satisfied: rpds-py>=0.7.1 in d:\\hehe\\envs\\pytorch\\lib\\site-packages (from jsonschema>=4.18.0->jupyterlab-server<3,>=2.22.1->notebook>=6.0->jupyter-contrib-nbextensions) (0.10.6)\n",
      "Requirement already satisfied: python-dateutil>=2.8.2 in d:\\hehe\\envs\\pytorch\\lib\\site-packages (from jupyter-client>=7.4.4->jupyter-server->jupyter-nbextensions-configurator>=0.4.0->jupyter-contrib-nbextensions) (2.9.0.post0)\n",
      "Requirement already satisfied: python-json-logger>=2.0.4 in d:\\hehe\\envs\\pytorch\\lib\\site-packages (from jupyter-events>=0.9.0->jupyter-server->jupyter-nbextensions-configurator>=0.4.0->jupyter-contrib-nbextensions) (2.0.7)\n",
      "Requirement already satisfied: rfc3339-validator in d:\\hehe\\envs\\pytorch\\lib\\site-packages (from jupyter-events>=0.9.0->jupyter-server->jupyter-nbextensions-configurator>=0.4.0->jupyter-contrib-nbextensions) (0.1.4)\n",
      "Requirement already satisfied: rfc3986-validator>=0.1.1 in d:\\hehe\\envs\\pytorch\\lib\\site-packages (from jupyter-events>=0.9.0->jupyter-server->jupyter-nbextensions-configurator>=0.4.0->jupyter-contrib-nbextensions) (0.1.1)\n",
      "Requirement already satisfied: charset-normalizer<4,>=2 in d:\\hehe\\envs\\pytorch\\lib\\site-packages (from requests>=2.31->jupyterlab-server<3,>=2.22.1->notebook>=6.0->jupyter-contrib-nbextensions) (3.3.2)\n",
      "Requirement already satisfied: urllib3<3,>=1.21.1 in d:\\hehe\\envs\\pytorch\\lib\\site-packages (from requests>=2.31->jupyterlab-server<3,>=2.22.1->notebook>=6.0->jupyter-contrib-nbextensions) (2.2.2)\n",
      "Requirement already satisfied: certifi>=2017.4.17 in d:\\hehe\\envs\\pytorch\\lib\\site-packages (from requests>=2.31->jupyterlab-server<3,>=2.22.1->notebook>=6.0->jupyter-contrib-nbextensions) (2024.8.30)\n",
      "Requirement already satisfied: comm>=0.1.1 in d:\\hehe\\envs\\pytorch\\lib\\site-packages (from ipykernel->jupyterlab<4.1,>=4.0.2->notebook>=6.0->jupyter-contrib-nbextensions) (0.2.1)\n",
      "Requirement already satisfied: debugpy>=1.6.5 in d:\\hehe\\envs\\pytorch\\lib\\site-packages (from ipykernel->jupyterlab<4.1,>=4.0.2->notebook>=6.0->jupyter-contrib-nbextensions) (1.6.7)\n",
      "Requirement already satisfied: ipython>=7.23.1 in d:\\hehe\\envs\\pytorch\\lib\\site-packages (from ipykernel->jupyterlab<4.1,>=4.0.2->notebook>=6.0->jupyter-contrib-nbextensions) (8.25.0)\n",
      "Requirement already satisfied: matplotlib-inline>=0.1 in d:\\hehe\\envs\\pytorch\\lib\\site-packages (from ipykernel->jupyterlab<4.1,>=4.0.2->notebook>=6.0->jupyter-contrib-nbextensions) (0.1.6)\n",
      "Requirement already satisfied: nest-asyncio in d:\\hehe\\envs\\pytorch\\lib\\site-packages (from ipykernel->jupyterlab<4.1,>=4.0.2->notebook>=6.0->jupyter-contrib-nbextensions) (1.6.0)\n",
      "Requirement already satisfied: psutil in d:\\hehe\\envs\\pytorch\\lib\\site-packages (from ipykernel->jupyterlab<4.1,>=4.0.2->notebook>=6.0->jupyter-contrib-nbextensions) (5.9.0)\n",
      "Requirement already satisfied: decorator in d:\\hehe\\envs\\pytorch\\lib\\site-packages (from ipython>=7.23.1->ipykernel->jupyterlab<4.1,>=4.0.2->notebook>=6.0->jupyter-contrib-nbextensions) (5.1.1)\n",
      "Requirement already satisfied: jedi>=0.16 in d:\\hehe\\envs\\pytorch\\lib\\site-packages (from ipython>=7.23.1->ipykernel->jupyterlab<4.1,>=4.0.2->notebook>=6.0->jupyter-contrib-nbextensions) (0.19.1)\n",
      "Requirement already satisfied: prompt-toolkit<3.1.0,>=3.0.41 in d:\\hehe\\envs\\pytorch\\lib\\site-packages (from ipython>=7.23.1->ipykernel->jupyterlab<4.1,>=4.0.2->notebook>=6.0->jupyter-contrib-nbextensions) (3.0.43)\n",
      "Requirement already satisfied: stack-data in d:\\hehe\\envs\\pytorch\\lib\\site-packages (from ipython>=7.23.1->ipykernel->jupyterlab<4.1,>=4.0.2->notebook>=6.0->jupyter-contrib-nbextensions) (0.2.0)\n",
      "Requirement already satisfied: colorama in d:\\hehe\\envs\\pytorch\\lib\\site-packages (from ipython>=7.23.1->ipykernel->jupyterlab<4.1,>=4.0.2->notebook>=6.0->jupyter-contrib-nbextensions) (0.4.6)\n",
      "Requirement already satisfied: fqdn in d:\\hehe\\envs\\pytorch\\lib\\site-packages (from jsonschema[format-nongpl]>=4.18.0->jupyter-events>=0.9.0->jupyter-server->jupyter-nbextensions-configurator>=0.4.0->jupyter-contrib-nbextensions) (1.5.1)\n",
      "Requirement already satisfied: isoduration in d:\\hehe\\envs\\pytorch\\lib\\site-packages (from jsonschema[format-nongpl]>=4.18.0->jupyter-events>=0.9.0->jupyter-server->jupyter-nbextensions-configurator>=0.4.0->jupyter-contrib-nbextensions) (20.11.0)\n",
      "Requirement already satisfied: jsonpointer>1.13 in d:\\hehe\\envs\\pytorch\\lib\\site-packages (from jsonschema[format-nongpl]>=4.18.0->jupyter-events>=0.9.0->jupyter-server->jupyter-nbextensions-configurator>=0.4.0->jupyter-contrib-nbextensions) (3.0.0)\n",
      "Requirement already satisfied: uri-template in d:\\hehe\\envs\\pytorch\\lib\\site-packages (from jsonschema[format-nongpl]>=4.18.0->jupyter-events>=0.9.0->jupyter-server->jupyter-nbextensions-configurator>=0.4.0->jupyter-contrib-nbextensions) (1.3.0)\n",
      "Requirement already satisfied: webcolors>=1.11 in d:\\hehe\\envs\\pytorch\\lib\\site-packages (from jsonschema[format-nongpl]>=4.18.0->jupyter-events>=0.9.0->jupyter-server->jupyter-nbextensions-configurator>=0.4.0->jupyter-contrib-nbextensions) (24.8.0)\n",
      "Requirement already satisfied: cffi>=1.0.1 in d:\\hehe\\envs\\pytorch\\lib\\site-packages (from argon2-cffi-bindings->argon2-cffi>=21.1->jupyter-server->jupyter-nbextensions-configurator>=0.4.0->jupyter-contrib-nbextensions) (1.16.0)\n",
      "Requirement already satisfied: pycparser in d:\\hehe\\envs\\pytorch\\lib\\site-packages (from cffi>=1.0.1->argon2-cffi-bindings->argon2-cffi>=21.1->jupyter-server->jupyter-nbextensions-configurator>=0.4.0->jupyter-contrib-nbextensions) (2.21)\n",
      "Requirement already satisfied: parso<0.9.0,>=0.8.3 in d:\\hehe\\envs\\pytorch\\lib\\site-packages (from jedi>=0.16->ipython>=7.23.1->ipykernel->jupyterlab<4.1,>=4.0.2->notebook>=6.0->jupyter-contrib-nbextensions) (0.8.3)\n",
      "Requirement already satisfied: wcwidth in d:\\hehe\\envs\\pytorch\\lib\\site-packages (from prompt-toolkit<3.1.0,>=3.0.41->ipython>=7.23.1->ipykernel->jupyterlab<4.1,>=4.0.2->notebook>=6.0->jupyter-contrib-nbextensions) (0.2.5)\n",
      "Requirement already satisfied: arrow>=0.15.0 in d:\\hehe\\envs\\pytorch\\lib\\site-packages (from isoduration->jsonschema[format-nongpl]>=4.18.0->jupyter-events>=0.9.0->jupyter-server->jupyter-nbextensions-configurator>=0.4.0->jupyter-contrib-nbextensions) (1.2.3)\n",
      "Requirement already satisfied: executing in d:\\hehe\\envs\\pytorch\\lib\\site-packages (from stack-data->ipython>=7.23.1->ipykernel->jupyterlab<4.1,>=4.0.2->notebook>=6.0->jupyter-contrib-nbextensions) (0.8.3)\n",
      "Requirement already satisfied: asttokens in d:\\hehe\\envs\\pytorch\\lib\\site-packages (from stack-data->ipython>=7.23.1->ipykernel->jupyterlab<4.1,>=4.0.2->notebook>=6.0->jupyter-contrib-nbextensions) (2.0.5)\n",
      "Requirement already satisfied: pure-eval in d:\\hehe\\envs\\pytorch\\lib\\site-packages (from stack-data->ipython>=7.23.1->ipykernel->jupyterlab<4.1,>=4.0.2->notebook>=6.0->jupyter-contrib-nbextensions) (0.2.2)\n"
     ]
    }
   ],
   "source": [
    "!pip install jupyter-contrib-nbextensions\n"
   ]
  },
  {
   "cell_type": "code",
   "execution_count": 25,
   "id": "1658a548-409c-43fb-86f2-59525b129a75",
   "metadata": {},
   "outputs": [
    {
     "name": "stderr",
     "output_type": "stream",
     "text": [
      "Traceback (most recent call last):\n",
      "  File \"D:\\hehe\\envs\\pytorch\\Lib\\site-packages\\jupyter_contrib_core\\notebook_compat\\nbextensions.py\", line 6, in <module>\n",
      "    from notebook.extensions import BaseExtensionApp\n",
      "ModuleNotFoundError: No module named 'notebook.extensions'\n",
      "\n",
      "During handling of the above exception, another exception occurred:\n",
      "\n",
      "Traceback (most recent call last):\n",
      "  File \"D:\\hehe\\envs\\pytorch\\Lib\\site-packages\\jupyter_contrib_core\\notebook_compat\\nbextensions.py\", line 10, in <module>\n",
      "    from notebook.nbextensions import BaseNBExtensionApp\n",
      "ModuleNotFoundError: No module named 'notebook.nbextensions'\n",
      "\n",
      "During handling of the above exception, another exception occurred:\n",
      "\n",
      "Traceback (most recent call last):\n",
      "  File \"<frozen runpy>\", line 198, in _run_module_as_main\n",
      "  File \"<frozen runpy>\", line 88, in _run_code\n",
      "  File \"D:\\hehe\\envs\\pytorch\\Scripts\\jupyter-contrib.EXE\\__main__.py\", line 7, in <module>\n",
      "  File \"D:\\hehe\\envs\\pytorch\\Lib\\site-packages\\jupyter_core\\application.py\", line 283, in launch_instance\n",
      "    super().launch_instance(argv=argv, **kwargs)\n",
      "  File \"D:\\hehe\\envs\\pytorch\\Lib\\site-packages\\traitlets\\config\\application.py\", line 1073, in launch_instance\n",
      "    app = cls.instance(**kwargs)\n",
      "          ^^^^^^^^^^^^^^^^^^^^^^\n",
      "  File \"D:\\hehe\\envs\\pytorch\\Lib\\site-packages\\traitlets\\config\\configurable.py\", line 583, in instance\n",
      "    inst = cls(*args, **kwargs)\n",
      "           ^^^^^^^^^^^^^^^^^^^^\n",
      "  File \"D:\\hehe\\envs\\pytorch\\Lib\\site-packages\\jupyter_contrib_core\\application.py\", line 27, in __init__\n",
      "    self._refresh_subcommands()\n",
      "  File \"D:\\hehe\\envs\\pytorch\\Lib\\site-packages\\jupyter_contrib_core\\application.py\", line 43, in _refresh_subcommands\n",
      "    get_subcommands_dict = entrypoint.load()\n",
      "                           ^^^^^^^^^^^^^^^^^\n",
      "  File \"D:\\hehe\\envs\\pytorch\\Lib\\site-packages\\pkg_resources\\__init__.py\", line 2771, in load\n",
      "    return self.resolve()\n",
      "           ^^^^^^^^^^^^^^\n",
      "  File \"D:\\hehe\\envs\\pytorch\\Lib\\site-packages\\pkg_resources\\__init__.py\", line 2777, in resolve\n",
      "    module = __import__(self.module_name, fromlist=['__name__'], level=0)\n",
      "             ^^^^^^^^^^^^^^^^^^^^^^^^^^^^^^^^^^^^^^^^^^^^^^^^^^^^^^^^^^^^\n",
      "  File \"D:\\hehe\\envs\\pytorch\\Lib\\site-packages\\jupyter_contrib_nbextensions\\application.py\", line 7, in <module>\n",
      "    from jupyter_contrib_core.notebook_compat.nbextensions import ArgumentConflict\n",
      "  File \"D:\\hehe\\envs\\pytorch\\Lib\\site-packages\\jupyter_contrib_core\\notebook_compat\\nbextensions.py\", line 12, in <module>\n",
      "    from ._compat.nbextensions import BaseNBExtensionApp\n",
      "  File \"D:\\hehe\\envs\\pytorch\\Lib\\site-packages\\jupyter_contrib_core\\notebook_compat\\_compat\\nbextensions.py\", line 35, in <module>\n",
      "    from notebook.nbextensions import (\n",
      "ModuleNotFoundError: No module named 'notebook.nbextensions'\n"
     ]
    }
   ],
   "source": [
    "!jupyter contrib nbextension install --user\n"
   ]
  },
  {
   "cell_type": "code",
   "execution_count": 14,
   "id": "0b97fa97-f833-4676-bdd8-0b3f36709fb4",
   "metadata": {
    "scrolled": true
   },
   "outputs": [
    {
     "name": "stdout",
     "output_type": "stream",
     "text": [
      "{'input_ids': [101, 2326, 2847, 2828, 1035, 2896, 18382, 102], 'attention_mask': [1, 1, 1, 1, 1, 1, 1, 1]}\n"
     ]
    }
   ],
   "source": [
    "from transformers import DistilBertTokenizer\n",
    "\n",
    "tokenizer = DistilBertTokenizer.from_pretrained('distilbert-base-uncased')\n",
    "tokens = tokenizer('Service hours type_lowercase')\n",
    "print(tokens)\n"
   ]
  },
  {
   "cell_type": "code",
   "execution_count": 15,
   "id": "f6033bce-5e0e-4a2d-bc14-e876a57f8caa",
   "metadata": {},
   "outputs": [
    {
     "name": "stdout",
     "output_type": "stream",
     "text": [
      "49\n",
      "17\n"
     ]
    }
   ],
   "source": [
    "print(train_df['Service hours type_lowercase'].isnull().sum())\n",
    "print(test_df['Service hours type_lowercase'].isnull().sum())\n"
   ]
  },
  {
   "cell_type": "code",
   "execution_count": 16,
   "id": "2121992f-4c0e-4c11-9031-58e7eee950cc",
   "metadata": {},
   "outputs": [],
   "source": [
    "# Drop null values from the 'Service hours type_lowercase' column\n",
    "train_df = train_df.dropna(subset=['Service hours type_lowercase'])\n",
    "test_df = test_df.dropna(subset=['Service hours type_lowercase'])\n",
    "\n",
    "# Now you can tokenize the data\n",
    "train_encodings = tokenizer(list(train_df['Service hours type_lowercase']), truncation=True, padding=True, max_length=128)\n",
    "test_encodings = tokenizer(list(test_df['Service hours type_lowercase']), truncation=True, padding=True, max_length=128)\n"
   ]
  },
  {
   "cell_type": "code",
   "execution_count": 18,
   "id": "35faeb4f-1dc1-4ba2-a068-7f51318cc64f",
   "metadata": {},
   "outputs": [],
   "source": [
    "import torch\n",
    "class CustomDataset(torch.utils.data.Dataset):\n",
    "    def __init__(self, encodings, labels):\n",
    "        self.encodings = encodings\n",
    "        self.labels = labels\n",
    "\n",
    "    def __getitem__(self, idx):\n",
    "        item = {key: torch.tensor(val[idx]) for key, val in self.encodings.items()}\n",
    "        item['labels'] = torch.tensor(self.labels[idx])\n",
    "        return item\n",
    "\n",
    "    def __len__(self):\n",
    "        return len(self.labels)\n",
    "\n",
    "# Create PyTorch datasets\n",
    "train_dataset = CustomDataset(train_encodings, list(train_df['label_encoded']))\n",
    "test_dataset = CustomDataset(test_encodings, list(test_df['label_encoded']))\n",
    "\n",
    "# Number of labels\n",
    "num_labels = len(train_df['label_encoded'].unique())"
   ]
  },
  {
   "cell_type": "code",
   "execution_count": 19,
   "id": "146433fa-fd4c-4877-a8c3-dd7769996c8b",
   "metadata": {},
   "outputs": [
    {
     "data": {
      "text/plain": [
       "73"
      ]
     },
     "execution_count": 19,
     "metadata": {},
     "output_type": "execute_result"
    }
   ],
   "source": [
    "num_labels"
   ]
  },
  {
   "cell_type": "code",
   "execution_count": 20,
   "id": "e075345c-c716-409a-9c7b-67cf918e70ec",
   "metadata": {},
   "outputs": [
    {
     "data": {
      "text/plain": [
       "73"
      ]
     },
     "execution_count": 20,
     "metadata": {},
     "output_type": "execute_result"
    }
   ],
   "source": [
    "num_labels_test=len(test_df['label_encoded'].unique())\n",
    "num_labels_test"
   ]
  },
  {
   "cell_type": "code",
   "execution_count": 21,
   "id": "ae8782ac-a12c-4f5d-a01b-9e0f2cc7a02a",
   "metadata": {},
   "outputs": [
    {
     "data": {
      "text/plain": [
       "(203993, 6)"
      ]
     },
     "execution_count": 21,
     "metadata": {},
     "output_type": "execute_result"
    }
   ],
   "source": [
    "train_df.shape"
   ]
  },
  {
   "cell_type": "code",
   "execution_count": 22,
   "id": "e98a8b26-3baa-4b5e-9909-b87b894ab0de",
   "metadata": {},
   "outputs": [
    {
     "data": {
      "text/plain": [
       "(87430, 6)"
      ]
     },
     "execution_count": 22,
     "metadata": {},
     "output_type": "execute_result"
    }
   ],
   "source": [
    "test_df.shape"
   ]
  },
  {
   "cell_type": "code",
   "execution_count": 23,
   "id": "01c98939-8310-4833-a39c-0ade94b8b39d",
   "metadata": {},
   "outputs": [
    {
     "name": "stdout",
     "output_type": "stream",
     "text": [
      "203993\n",
      "87430\n"
     ]
    }
   ],
   "source": [
    "print(len(train_dataset))\n",
    "print(len(test_dataset))\n"
   ]
  },
  {
   "cell_type": "code",
   "execution_count": 24,
   "id": "eaa6548d-d5b8-4a84-af27-f48e59b9a2e4",
   "metadata": {},
   "outputs": [
    {
     "name": "stdout",
     "output_type": "stream",
     "text": [
      "Major code stored  as  workover/drilling         0\n",
      "Cde                                              0\n",
      "Service hours type                               0\n",
      "Minor Repair / Tripping / Complication      140709\n",
      "Service hours type_lowercase                     0\n",
      "label_encoded                                    0\n",
      "dtype: int64\n",
      "Major code stored  as  workover/drilling        0\n",
      "Cde                                             0\n",
      "Service hours type                              0\n",
      "Minor Repair / Tripping / Complication      60461\n",
      "Service hours type_lowercase                    0\n",
      "label_encoded                                   0\n",
      "dtype: int64\n"
     ]
    }
   ],
   "source": [
    "print(train_df.isnull().sum())\n",
    "print(test_df.isnull().sum())\n"
   ]
  },
  {
   "cell_type": "code",
   "execution_count": 85,
   "id": "94193930-ff57-471e-b49a-1fb979c44aa9",
   "metadata": {},
   "outputs": [
    {
     "name": "stdout",
     "output_type": "stream",
     "text": [
      "Requirement already satisfied: transformers in d:\\hehe\\envs\\pytorch\\lib\\site-packages (4.44.2)Note: you may need to restart the kernel to use updated packages.\n",
      "\n",
      "Requirement already satisfied: accelerate in d:\\hehe\\envs\\pytorch\\lib\\site-packages (0.34.2)\n",
      "Requirement already satisfied: filelock in d:\\hehe\\envs\\pytorch\\lib\\site-packages (from transformers) (3.13.1)\n",
      "Requirement already satisfied: huggingface-hub<1.0,>=0.23.2 in d:\\hehe\\envs\\pytorch\\lib\\site-packages (from transformers) (0.24.6)\n",
      "Requirement already satisfied: numpy>=1.17 in d:\\hehe\\envs\\pytorch\\lib\\site-packages (from transformers) (1.26.4)\n",
      "Requirement already satisfied: packaging>=20.0 in d:\\hehe\\envs\\pytorch\\lib\\site-packages (from transformers) (24.1)\n",
      "Requirement already satisfied: pyyaml>=5.1 in d:\\hehe\\envs\\pytorch\\lib\\site-packages (from transformers) (6.0.1)\n",
      "Requirement already satisfied: regex!=2019.12.17 in d:\\hehe\\envs\\pytorch\\lib\\site-packages (from transformers) (2024.7.24)\n",
      "Requirement already satisfied: requests in d:\\hehe\\envs\\pytorch\\lib\\site-packages (from transformers) (2.32.3)\n",
      "Requirement already satisfied: tokenizers<0.20,>=0.19 in d:\\hehe\\envs\\pytorch\\lib\\site-packages (from transformers) (0.19.1)\n",
      "Requirement already satisfied: safetensors>=0.4.1 in d:\\hehe\\envs\\pytorch\\lib\\site-packages (from transformers) (0.4.5)\n",
      "Requirement already satisfied: tqdm>=4.27 in d:\\hehe\\envs\\pytorch\\lib\\site-packages (from transformers) (4.66.5)\n",
      "Requirement already satisfied: psutil in d:\\hehe\\envs\\pytorch\\lib\\site-packages (from accelerate) (5.9.0)\n",
      "Requirement already satisfied: torch>=1.10.0 in d:\\hehe\\envs\\pytorch\\lib\\site-packages (from accelerate) (2.4.1)\n",
      "Requirement already satisfied: fsspec>=2023.5.0 in d:\\hehe\\envs\\pytorch\\lib\\site-packages (from huggingface-hub<1.0,>=0.23.2->transformers) (2024.5.0)\n",
      "Requirement already satisfied: typing-extensions>=3.7.4.3 in d:\\hehe\\envs\\pytorch\\lib\\site-packages (from huggingface-hub<1.0,>=0.23.2->transformers) (4.11.0)\n",
      "Requirement already satisfied: sympy in d:\\hehe\\envs\\pytorch\\lib\\site-packages (from torch>=1.10.0->accelerate) (1.13.2)\n",
      "Requirement already satisfied: networkx in d:\\hehe\\envs\\pytorch\\lib\\site-packages (from torch>=1.10.0->accelerate) (3.2.1)\n",
      "Requirement already satisfied: jinja2 in d:\\hehe\\envs\\pytorch\\lib\\site-packages (from torch>=1.10.0->accelerate) (3.1.4)\n",
      "Requirement already satisfied: setuptools in d:\\hehe\\envs\\pytorch\\lib\\site-packages (from torch>=1.10.0->accelerate) (72.1.0)\n",
      "Requirement already satisfied: colorama in d:\\hehe\\envs\\pytorch\\lib\\site-packages (from tqdm>=4.27->transformers) (0.4.6)\n",
      "Requirement already satisfied: charset-normalizer<4,>=2 in d:\\hehe\\envs\\pytorch\\lib\\site-packages (from requests->transformers) (3.3.2)\n",
      "Requirement already satisfied: idna<4,>=2.5 in d:\\hehe\\envs\\pytorch\\lib\\site-packages (from requests->transformers) (3.7)\n",
      "Requirement already satisfied: urllib3<3,>=1.21.1 in d:\\hehe\\envs\\pytorch\\lib\\site-packages (from requests->transformers) (2.2.2)\n",
      "Requirement already satisfied: certifi>=2017.4.17 in d:\\hehe\\envs\\pytorch\\lib\\site-packages (from requests->transformers) (2024.8.30)\n",
      "Requirement already satisfied: MarkupSafe>=2.0 in d:\\hehe\\envs\\pytorch\\lib\\site-packages (from jinja2->torch>=1.10.0->accelerate) (2.1.3)\n",
      "Requirement already satisfied: mpmath<1.4,>=1.1.0 in d:\\hehe\\envs\\pytorch\\lib\\site-packages (from sympy->torch>=1.10.0->accelerate) (1.3.0)\n"
     ]
    }
   ],
   "source": [
    "pip install --upgrade transformers accelerate\n"
   ]
  },
  {
   "cell_type": "code",
   "execution_count": 25,
   "id": "fee49c97-2a7b-4f99-a3da-9193984a4180",
   "metadata": {},
   "outputs": [
    {
     "name": "stdout",
     "output_type": "stream",
     "text": [
      "203993 203993\n",
      "87430 87430\n"
     ]
    }
   ],
   "source": [
    "print(len(train_encodings['input_ids']), len(train_dataset))\n",
    "print(len(test_encodings['input_ids']), len(test_dataset))\n"
   ]
  },
  {
   "cell_type": "code",
   "execution_count": 26,
   "id": "6fac16ec-283b-4174-bd87-cb936894f305",
   "metadata": {},
   "outputs": [
    {
     "name": "stdout",
     "output_type": "stream",
     "text": [
      "label_encoded\n",
      "65    47545\n",
      "64    27120\n",
      "59    15868\n",
      "41     9528\n",
      "1      9306\n",
      "      ...  \n",
      "49       53\n",
      "67       49\n",
      "2        39\n",
      "58       32\n",
      "29        7\n",
      "Name: count, Length: 73, dtype: int64\n",
      "label_encoded\n",
      "65    20372\n",
      "64    11624\n",
      "59     6801\n",
      "41     4084\n",
      "1      3990\n",
      "      ...  \n",
      "49       23\n",
      "67       21\n",
      "2        17\n",
      "58       13\n",
      "29        3\n",
      "Name: count, Length: 73, dtype: int64\n"
     ]
    }
   ],
   "source": [
    "print(train_df['label_encoded'].value_counts())\n",
    "print(test_df['label_encoded'].value_counts())\n"
   ]
  },
  {
   "cell_type": "code",
   "execution_count": 27,
   "id": "ad98e64e-bef7-40b5-a094-400b9a5f8782",
   "metadata": {},
   "outputs": [],
   "source": [
    "from sklearn.metrics import accuracy_score\n",
    "import numpy as np\n",
    "\n",
    "def compute_metrics(p):\n",
    "    predictions = np.argmax(p.predictions, axis=1)\n",
    "    accuracy = accuracy_score(p.label_ids, predictions)\n",
    "    return {\n",
    "        'accuracy': accuracy,\n",
    "    }\n"
   ]
  },
  {
   "cell_type": "code",
   "execution_count": 29,
   "id": "486ac786-8ec1-4863-96fb-0f282ea00e88",
   "metadata": {},
   "outputs": [],
   "source": [
    "import torch\n",
    "import torch.nn.functional as F\n",
    "from torch.utils.data import DataLoader\n",
    "from sklearn.metrics import accuracy_score\n",
    "import numpy as np\n",
    "import matplotlib.pyplot as plt\n",
    "from tqdm import tqdm\n",
    "from transformers import DistilBertTokenizer, DistilBertForSequenceClassification, AdamW\n"
   ]
  },
  {
   "cell_type": "code",
   "execution_count": 30,
   "id": "14ef2274-3322-41c4-b656-222ad0c6b870",
   "metadata": {},
   "outputs": [],
   "source": [
    "class BalancedCrossEntropyLoss(torch.nn.Module):\n",
    "    def __init__(self, class_weights):\n",
    "        super(BalancedCrossEntropyLoss, self).__init__()\n",
    "        self.class_weights = class_weights\n",
    "\n",
    "    def forward(self, inputs, targets):\n",
    "        return F.cross_entropy(inputs, targets, weight=self.class_weights)"
   ]
  },
  {
   "cell_type": "code",
   "execution_count": 32,
   "id": "68120752-19af-471d-a157-9e522d5529a3",
   "metadata": {},
   "outputs": [
    {
     "name": "stderr",
     "output_type": "stream",
     "text": [
      "Some weights of DistilBertForSequenceClassification were not initialized from the model checkpoint at distilbert-base-uncased and are newly initialized: ['classifier.bias', 'classifier.weight', 'pre_classifier.bias', 'pre_classifier.weight']\n",
      "You should probably TRAIN this model on a down-stream task to be able to use it for predictions and inference.\n"
     ]
    }
   ],
   "source": [
    "model_name = 'distilbert-base-uncased'\n",
    "tokenizer = DistilBertTokenizer.from_pretrained(model_name)\n",
    "model = DistilBertForSequenceClassification.from_pretrained(model_name, num_labels=num_labels)\n"
   ]
  },
  {
   "cell_type": "code",
   "execution_count": 33,
   "id": "1916c38e-0a06-4aa1-a8b0-e37c11b075b5",
   "metadata": {},
   "outputs": [
    {
     "data": {
      "text/plain": [
       "DistilBertForSequenceClassification(\n",
       "  (distilbert): DistilBertModel(\n",
       "    (embeddings): Embeddings(\n",
       "      (word_embeddings): Embedding(30522, 768, padding_idx=0)\n",
       "      (position_embeddings): Embedding(512, 768)\n",
       "      (LayerNorm): LayerNorm((768,), eps=1e-12, elementwise_affine=True)\n",
       "      (dropout): Dropout(p=0.1, inplace=False)\n",
       "    )\n",
       "    (transformer): Transformer(\n",
       "      (layer): ModuleList(\n",
       "        (0-5): 6 x TransformerBlock(\n",
       "          (attention): MultiHeadSelfAttention(\n",
       "            (dropout): Dropout(p=0.1, inplace=False)\n",
       "            (q_lin): Linear(in_features=768, out_features=768, bias=True)\n",
       "            (k_lin): Linear(in_features=768, out_features=768, bias=True)\n",
       "            (v_lin): Linear(in_features=768, out_features=768, bias=True)\n",
       "            (out_lin): Linear(in_features=768, out_features=768, bias=True)\n",
       "          )\n",
       "          (sa_layer_norm): LayerNorm((768,), eps=1e-12, elementwise_affine=True)\n",
       "          (ffn): FFN(\n",
       "            (dropout): Dropout(p=0.1, inplace=False)\n",
       "            (lin1): Linear(in_features=768, out_features=3072, bias=True)\n",
       "            (lin2): Linear(in_features=3072, out_features=768, bias=True)\n",
       "            (activation): GELUActivation()\n",
       "          )\n",
       "          (output_layer_norm): LayerNorm((768,), eps=1e-12, elementwise_affine=True)\n",
       "        )\n",
       "      )\n",
       "    )\n",
       "  )\n",
       "  (pre_classifier): Linear(in_features=768, out_features=768, bias=True)\n",
       "  (classifier): Linear(in_features=768, out_features=73, bias=True)\n",
       "  (dropout): Dropout(p=0.2, inplace=False)\n",
       ")"
      ]
     },
     "execution_count": 33,
     "metadata": {},
     "output_type": "execute_result"
    }
   ],
   "source": [
    "device = torch.device(\"cuda\" if torch.cuda.is_available() else \"cpu\")\n",
    "model.to(device)"
   ]
  },
  {
   "cell_type": "code",
   "execution_count": 37,
   "id": "6f0f89c2-cad6-4bf5-8497-2abc628cdf09",
   "metadata": {},
   "outputs": [],
   "source": [
    "def compute_class_weights(dataset):\n",
    "    class_counts = [0] * num_labels\n",
    "    for sample in dataset:\n",
    "        class_counts[sample['labels']] += 1\n",
    "    total_samples = sum(class_counts)\n",
    "    class_weights = [total_samples / count for count in class_counts]\n",
    "    return torch.FloatTensor(class_weights).to(device)\n",
    "\n",
    "class_weights = compute_class_weights(train_dataset)\n",
    "criterion = BalancedCrossEntropyLoss(class_weights)"
   ]
  },
  {
   "cell_type": "code",
   "execution_count": 36,
   "id": "bbc21b96-3b24-482b-a8d4-22c5aa8f377b",
   "metadata": {},
   "outputs": [
    {
     "name": "stdout",
     "output_type": "stream",
     "text": [
      "{'input_ids': tensor([  101,  9530,  2102,  2094, 13433, 13433, 11631,  1052, 21638,  2007,\n",
      "        24709, 26419,  2290, 25510,  2078,  1038,  3270,   102,     0,     0,\n",
      "            0,     0,     0,     0,     0,     0,     0,     0,     0]), 'attention_mask': tensor([1, 1, 1, 1, 1, 1, 1, 1, 1, 1, 1, 1, 1, 1, 1, 1, 1, 1, 0, 0, 0, 0, 0, 0,\n",
      "        0, 0, 0, 0, 0]), 'labels': tensor(65)}\n"
     ]
    }
   ],
   "source": [
    "print(train_dataset[0])"
   ]
  },
  {
   "cell_type": "code",
   "execution_count": 38,
   "id": "2c574c5a-3cd9-4597-bea7-c3a349c099e8",
   "metadata": {},
   "outputs": [
    {
     "name": "stderr",
     "output_type": "stream",
     "text": [
      "D:\\hehe\\envs\\pytorch\\Lib\\site-packages\\transformers\\optimization.py:591: FutureWarning: This implementation of AdamW is deprecated and will be removed in a future version. Use the PyTorch implementation torch.optim.AdamW instead, or set `no_deprecation_warning=True` to disable this warning\n",
      "  warnings.warn(\n"
     ]
    }
   ],
   "source": [
    "train_loader = DataLoader(train_dataset, batch_size=16, shuffle=True)\n",
    "test_loader = DataLoader(test_dataset, batch_size=16, shuffle=False)\n",
    "\n",
    "# Optimizer\n",
    "optimizer = AdamW(model.parameters(), lr=5e-5)"
   ]
  },
  {
   "cell_type": "code",
   "execution_count": 39,
   "id": "9ad3eb74-1450-478b-8428-94251f6c8e4c",
   "metadata": {},
   "outputs": [
    {
     "name": "stderr",
     "output_type": "stream",
     "text": [
      "Training Epoch 1: 100%|██████████| 12750/12750 [08:43<00:00, 24.34it/s]\n"
     ]
    },
    {
     "name": "stdout",
     "output_type": "stream",
     "text": [
      "Epoch 1, Loss: 1.7593, Accuracy: 0.6767\n"
     ]
    },
    {
     "name": "stderr",
     "output_type": "stream",
     "text": [
      "Training Epoch 2: 100%|██████████| 12750/12750 [08:40<00:00, 24.51it/s]\n"
     ]
    },
    {
     "name": "stdout",
     "output_type": "stream",
     "text": [
      "Epoch 2, Loss: 1.2205, Accuracy: 0.7301\n"
     ]
    },
    {
     "name": "stderr",
     "output_type": "stream",
     "text": [
      "Training Epoch 3: 100%|██████████| 12750/12750 [08:33<00:00, 24.81it/s]\n"
     ]
    },
    {
     "name": "stdout",
     "output_type": "stream",
     "text": [
      "Epoch 3, Loss: 1.0426, Accuracy: 0.7445\n"
     ]
    },
    {
     "name": "stderr",
     "output_type": "stream",
     "text": [
      "Training Epoch 4: 100%|██████████| 12750/12750 [08:31<00:00, 24.92it/s]\n"
     ]
    },
    {
     "name": "stdout",
     "output_type": "stream",
     "text": [
      "Epoch 4, Loss: 0.9019, Accuracy: 0.7536\n"
     ]
    },
    {
     "name": "stderr",
     "output_type": "stream",
     "text": [
      "Training Epoch 5: 100%|██████████| 12750/12750 [08:28<00:00, 25.06it/s]\n"
     ]
    },
    {
     "name": "stdout",
     "output_type": "stream",
     "text": [
      "Epoch 5, Loss: 0.8082, Accuracy: 0.7632\n"
     ]
    },
    {
     "name": "stderr",
     "output_type": "stream",
     "text": [
      "Training Epoch 6: 100%|██████████| 12750/12750 [08:30<00:00, 24.97it/s]\n"
     ]
    },
    {
     "name": "stdout",
     "output_type": "stream",
     "text": [
      "Epoch 6, Loss: 0.7390, Accuracy: 0.7683\n"
     ]
    },
    {
     "name": "stderr",
     "output_type": "stream",
     "text": [
      "Training Epoch 7: 100%|██████████| 12750/12750 [08:27<00:00, 25.13it/s]\n"
     ]
    },
    {
     "name": "stdout",
     "output_type": "stream",
     "text": [
      "Epoch 7, Loss: 0.6725, Accuracy: 0.7776\n"
     ]
    },
    {
     "name": "stderr",
     "output_type": "stream",
     "text": [
      "Training Epoch 8: 100%|██████████| 12750/12750 [08:31<00:00, 24.91it/s]\n"
     ]
    },
    {
     "name": "stdout",
     "output_type": "stream",
     "text": [
      "Epoch 8, Loss: 0.6269, Accuracy: 0.7843\n"
     ]
    },
    {
     "name": "stderr",
     "output_type": "stream",
     "text": [
      "Training Epoch 9: 100%|██████████| 12750/12750 [08:32<00:00, 24.86it/s]\n"
     ]
    },
    {
     "name": "stdout",
     "output_type": "stream",
     "text": [
      "Epoch 9, Loss: 0.5867, Accuracy: 0.7914\n"
     ]
    },
    {
     "name": "stderr",
     "output_type": "stream",
     "text": [
      "Training Epoch 10: 100%|██████████| 12750/12750 [08:30<00:00, 24.99it/s]\n"
     ]
    },
    {
     "name": "stdout",
     "output_type": "stream",
     "text": [
      "Epoch 10, Loss: 0.5485, Accuracy: 0.7969\n"
     ]
    },
    {
     "name": "stderr",
     "output_type": "stream",
     "text": [
      "Training Epoch 11: 100%|██████████| 12750/12750 [08:30<00:00, 24.96it/s]\n"
     ]
    },
    {
     "name": "stdout",
     "output_type": "stream",
     "text": [
      "Epoch 11, Loss: 0.5254, Accuracy: 0.8018\n"
     ]
    },
    {
     "name": "stderr",
     "output_type": "stream",
     "text": [
      "Training Epoch 12: 100%|██████████| 12750/12750 [08:30<00:00, 24.96it/s]\n"
     ]
    },
    {
     "name": "stdout",
     "output_type": "stream",
     "text": [
      "Epoch 12, Loss: 0.4950, Accuracy: 0.8081\n"
     ]
    },
    {
     "name": "stderr",
     "output_type": "stream",
     "text": [
      "Training Epoch 13: 100%|██████████| 12750/12750 [08:31<00:00, 24.92it/s]\n"
     ]
    },
    {
     "name": "stdout",
     "output_type": "stream",
     "text": [
      "Epoch 13, Loss: 0.4854, Accuracy: 0.8117\n"
     ]
    },
    {
     "name": "stderr",
     "output_type": "stream",
     "text": [
      "Training Epoch 14: 100%|██████████| 12750/12750 [08:30<00:00, 24.97it/s]\n"
     ]
    },
    {
     "name": "stdout",
     "output_type": "stream",
     "text": [
      "Epoch 14, Loss: 0.4649, Accuracy: 0.8132\n"
     ]
    },
    {
     "name": "stderr",
     "output_type": "stream",
     "text": [
      "Training Epoch 15: 100%|██████████| 12750/12750 [08:46<00:00, 24.23it/s]\n"
     ]
    },
    {
     "name": "stdout",
     "output_type": "stream",
     "text": [
      "Epoch 15, Loss: 0.4460, Accuracy: 0.8179\n"
     ]
    },
    {
     "name": "stderr",
     "output_type": "stream",
     "text": [
      "Training Epoch 16: 100%|██████████| 12750/12750 [08:41<00:00, 24.43it/s]\n"
     ]
    },
    {
     "name": "stdout",
     "output_type": "stream",
     "text": [
      "Epoch 16, Loss: 0.4270, Accuracy: 0.8209\n"
     ]
    },
    {
     "name": "stderr",
     "output_type": "stream",
     "text": [
      "Training Epoch 17: 100%|██████████| 12750/12750 [08:43<00:00, 24.36it/s]\n"
     ]
    },
    {
     "name": "stdout",
     "output_type": "stream",
     "text": [
      "Epoch 17, Loss: 0.4267, Accuracy: 0.8216\n"
     ]
    },
    {
     "name": "stderr",
     "output_type": "stream",
     "text": [
      "Training Epoch 18: 100%|██████████| 12750/12750 [08:41<00:00, 24.43it/s]\n"
     ]
    },
    {
     "name": "stdout",
     "output_type": "stream",
     "text": [
      "Epoch 18, Loss: 0.4071, Accuracy: 0.8251\n"
     ]
    },
    {
     "name": "stderr",
     "output_type": "stream",
     "text": [
      "Training Epoch 19: 100%|██████████| 12750/12750 [08:42<00:00, 24.42it/s]\n"
     ]
    },
    {
     "name": "stdout",
     "output_type": "stream",
     "text": [
      "Epoch 19, Loss: 0.4017, Accuracy: 0.8293\n"
     ]
    },
    {
     "name": "stderr",
     "output_type": "stream",
     "text": [
      "Training Epoch 20: 100%|██████████| 12750/12750 [08:42<00:00, 24.38it/s]\n"
     ]
    },
    {
     "name": "stdout",
     "output_type": "stream",
     "text": [
      "Epoch 20, Loss: 0.3846, Accuracy: 0.8321\n"
     ]
    },
    {
     "name": "stderr",
     "output_type": "stream",
     "text": [
      "Training Epoch 21: 100%|██████████| 12750/12750 [08:43<00:00, 24.34it/s]\n"
     ]
    },
    {
     "name": "stdout",
     "output_type": "stream",
     "text": [
      "Epoch 21, Loss: 0.3803, Accuracy: 0.8374\n"
     ]
    },
    {
     "name": "stderr",
     "output_type": "stream",
     "text": [
      "Training Epoch 22: 100%|██████████| 12750/12750 [08:43<00:00, 24.37it/s]\n"
     ]
    },
    {
     "name": "stdout",
     "output_type": "stream",
     "text": [
      "Epoch 22, Loss: 0.3716, Accuracy: 0.8384\n"
     ]
    },
    {
     "name": "stderr",
     "output_type": "stream",
     "text": [
      "Training Epoch 23: 100%|██████████| 12750/12750 [08:46<00:00, 24.21it/s]\n"
     ]
    },
    {
     "name": "stdout",
     "output_type": "stream",
     "text": [
      "Epoch 23, Loss: 0.3706, Accuracy: 0.8390\n"
     ]
    },
    {
     "name": "stderr",
     "output_type": "stream",
     "text": [
      "Training Epoch 24: 100%|██████████| 12750/12750 [08:42<00:00, 24.41it/s]\n"
     ]
    },
    {
     "name": "stdout",
     "output_type": "stream",
     "text": [
      "Epoch 24, Loss: 0.3590, Accuracy: 0.8416\n"
     ]
    },
    {
     "name": "stderr",
     "output_type": "stream",
     "text": [
      "Training Epoch 25: 100%|██████████| 12750/12750 [08:35<00:00, 24.73it/s]\n"
     ]
    },
    {
     "name": "stdout",
     "output_type": "stream",
     "text": [
      "Epoch 25, Loss: 0.3599, Accuracy: 0.8420\n"
     ]
    },
    {
     "name": "stderr",
     "output_type": "stream",
     "text": [
      "Training Epoch 26: 100%|██████████| 12750/12750 [08:41<00:00, 24.43it/s]\n"
     ]
    },
    {
     "name": "stdout",
     "output_type": "stream",
     "text": [
      "Epoch 26, Loss: 0.3511, Accuracy: 0.8470\n"
     ]
    },
    {
     "name": "stderr",
     "output_type": "stream",
     "text": [
      "Training Epoch 27: 100%|██████████| 12750/12750 [08:43<00:00, 24.36it/s]\n"
     ]
    },
    {
     "name": "stdout",
     "output_type": "stream",
     "text": [
      "Epoch 27, Loss: 0.3447, Accuracy: 0.8482\n"
     ]
    },
    {
     "name": "stderr",
     "output_type": "stream",
     "text": [
      "Training Epoch 28: 100%|██████████| 12750/12750 [08:43<00:00, 24.34it/s]\n"
     ]
    },
    {
     "name": "stdout",
     "output_type": "stream",
     "text": [
      "Epoch 28, Loss: 0.3396, Accuracy: 0.8497\n"
     ]
    },
    {
     "name": "stderr",
     "output_type": "stream",
     "text": [
      "Training Epoch 29: 100%|██████████| 12750/12750 [08:42<00:00, 24.40it/s]\n"
     ]
    },
    {
     "name": "stdout",
     "output_type": "stream",
     "text": [
      "Epoch 29, Loss: 0.3374, Accuracy: 0.8499\n"
     ]
    },
    {
     "name": "stderr",
     "output_type": "stream",
     "text": [
      "Training Epoch 30: 100%|██████████| 12750/12750 [08:44<00:00, 24.33it/s]"
     ]
    },
    {
     "name": "stdout",
     "output_type": "stream",
     "text": [
      "Epoch 30, Loss: 0.3374, Accuracy: 0.8526\n"
     ]
    },
    {
     "name": "stderr",
     "output_type": "stream",
     "text": [
      "\n"
     ]
    }
   ],
   "source": [
    "epoch_losses = []\n",
    "epoch_accuracies = []\n",
    "\n",
    "num_epochs = 30\n",
    "for epoch in range(num_epochs):\n",
    "    model.train()  # Set the model to training mode\n",
    "    total_loss = 0\n",
    "    correct_predictions = 0\n",
    "    total_samples = 0\n",
    "    \n",
    "    for batch in tqdm(train_loader, desc=f\"Training Epoch {epoch + 1}\"):\n",
    "        optimizer.zero_grad()  # Zero the gradients\n",
    "        input_ids = batch['input_ids'].to(device)\n",
    "        attention_mask = batch['attention_mask'].to(device)\n",
    "        labels = batch['labels'].to(device)\n",
    "        \n",
    "        # Forward pass\n",
    "        outputs = model(input_ids, attention_mask=attention_mask)\n",
    "        logits = outputs.logits\n",
    "        \n",
    "        # Compute loss\n",
    "        loss = criterion(logits, labels)\n",
    "        \n",
    "        # Backward pass\n",
    "        loss.backward()\n",
    "        optimizer.step()\n",
    "        \n",
    "        total_loss += loss.item()\n",
    "        \n",
    "        # Calculate accuracy\n",
    "        predictions = torch.argmax(logits, dim=1)\n",
    "        correct_predictions += (predictions == labels).sum().item()\n",
    "        total_samples += labels.size(0)\n",
    "    \n",
    "    # Calculate average loss and accuracy for the epoch\n",
    "    avg_loss = total_loss / len(train_loader)\n",
    "    accuracy = correct_predictions / total_samples\n",
    "    \n",
    "    epoch_losses.append(avg_loss)\n",
    "    epoch_accuracies.append(accuracy)\n",
    "    \n",
    "    print(f\"Epoch {epoch + 1}, Loss: {avg_loss:.4f}, Accuracy: {accuracy:.4f}\")\n"
   ]
  },
  {
   "cell_type": "code",
   "execution_count": 40,
   "id": "a06427ef-732a-4a2e-a4e9-d8107591bc53",
   "metadata": {},
   "outputs": [
    {
     "name": "stdout",
     "output_type": "stream",
     "text": [
      "Model saved at: C:\\Users\\user\\Desktop\\Varsha\\model_feedbackloop_balancedcel.pth\n"
     ]
    }
   ],
   "source": [
    "#save model!!!\n",
    "# Define the path to save the model\n",
    "model_save_path = r\"C:\\Users\\user\\Desktop\\Varsha\\model_feedbackloop_balancedcel.pth\"\n",
    "\n",
    "# Save the model state dictionary\n",
    "torch.save(model.state_dict(), model_save_path)\n",
    "\n",
    "print(f\"Model saved at: {model_save_path}\")\n"
   ]
  },
  {
   "cell_type": "code",
   "execution_count": 42,
   "id": "9ed183c5-29c6-4d1f-9962-05bfc338ca8c",
   "metadata": {},
   "outputs": [
    {
     "name": "stderr",
     "output_type": "stream",
     "text": [
      "Training Epoch 32: 100%|██████████| 12750/12750 [08:44<00:00, 24.33it/s]\n"
     ]
    },
    {
     "name": "stdout",
     "output_type": "stream",
     "text": [
      "Epoch 32, Loss: 0.3319, Accuracy: 0.8541\n"
     ]
    },
    {
     "name": "stderr",
     "output_type": "stream",
     "text": [
      "Training Epoch 33: 100%|██████████| 12750/12750 [08:43<00:00, 24.34it/s]\n"
     ]
    },
    {
     "name": "stdout",
     "output_type": "stream",
     "text": [
      "Epoch 33, Loss: 0.3246, Accuracy: 0.8558\n"
     ]
    },
    {
     "name": "stderr",
     "output_type": "stream",
     "text": [
      "Training Epoch 34: 100%|██████████| 12750/12750 [08:44<00:00, 24.32it/s]\n"
     ]
    },
    {
     "name": "stdout",
     "output_type": "stream",
     "text": [
      "Epoch 34, Loss: 0.3277, Accuracy: 0.8548\n"
     ]
    },
    {
     "name": "stderr",
     "output_type": "stream",
     "text": [
      "Training Epoch 35: 100%|██████████| 12750/12750 [08:45<00:00, 24.24it/s]\n"
     ]
    },
    {
     "name": "stdout",
     "output_type": "stream",
     "text": [
      "Epoch 35, Loss: 0.3165, Accuracy: 0.8586\n"
     ]
    },
    {
     "name": "stderr",
     "output_type": "stream",
     "text": [
      "Training Epoch 36: 100%|██████████| 12750/12750 [08:45<00:00, 24.27it/s]\n"
     ]
    },
    {
     "name": "stdout",
     "output_type": "stream",
     "text": [
      "Epoch 36, Loss: 0.3274, Accuracy: 0.8587\n"
     ]
    },
    {
     "name": "stderr",
     "output_type": "stream",
     "text": [
      "Training Epoch 37: 100%|██████████| 12750/12750 [08:45<00:00, 24.27it/s]\n"
     ]
    },
    {
     "name": "stdout",
     "output_type": "stream",
     "text": [
      "Epoch 37, Loss: 0.3183, Accuracy: 0.8579\n"
     ]
    },
    {
     "name": "stderr",
     "output_type": "stream",
     "text": [
      "Training Epoch 38: 100%|██████████| 12750/12750 [08:39<00:00, 24.56it/s]\n"
     ]
    },
    {
     "name": "stdout",
     "output_type": "stream",
     "text": [
      "Epoch 38, Loss: 0.3112, Accuracy: 0.8622\n"
     ]
    },
    {
     "name": "stderr",
     "output_type": "stream",
     "text": [
      "Training Epoch 39: 100%|██████████| 12750/12750 [08:32<00:00, 24.88it/s]\n"
     ]
    },
    {
     "name": "stdout",
     "output_type": "stream",
     "text": [
      "Epoch 39, Loss: 0.3171, Accuracy: 0.8610\n"
     ]
    },
    {
     "name": "stderr",
     "output_type": "stream",
     "text": [
      "Training Epoch 40: 100%|██████████| 12750/12750 [08:32<00:00, 24.88it/s]\n"
     ]
    },
    {
     "name": "stdout",
     "output_type": "stream",
     "text": [
      "Epoch 40, Loss: 0.3086, Accuracy: 0.8654\n"
     ]
    },
    {
     "name": "stderr",
     "output_type": "stream",
     "text": [
      "Training Epoch 41: 100%|██████████| 12750/12750 [08:29<00:00, 25.00it/s]\n"
     ]
    },
    {
     "name": "stdout",
     "output_type": "stream",
     "text": [
      "Epoch 41, Loss: 0.3110, Accuracy: 0.8629\n"
     ]
    },
    {
     "name": "stderr",
     "output_type": "stream",
     "text": [
      "Training Epoch 42: 100%|██████████| 12750/12750 [08:29<00:00, 25.01it/s]\n"
     ]
    },
    {
     "name": "stdout",
     "output_type": "stream",
     "text": [
      "Epoch 42, Loss: 0.3068, Accuracy: 0.8634\n"
     ]
    },
    {
     "name": "stderr",
     "output_type": "stream",
     "text": [
      "Training Epoch 43: 100%|██████████| 12750/12750 [08:31<00:00, 24.93it/s]\n"
     ]
    },
    {
     "name": "stdout",
     "output_type": "stream",
     "text": [
      "Epoch 43, Loss: 0.3051, Accuracy: 0.8666\n"
     ]
    },
    {
     "name": "stderr",
     "output_type": "stream",
     "text": [
      "Training Epoch 44: 100%|██████████| 12750/12750 [08:32<00:00, 24.89it/s]\n"
     ]
    },
    {
     "name": "stdout",
     "output_type": "stream",
     "text": [
      "Epoch 44, Loss: 0.3027, Accuracy: 0.8654\n"
     ]
    },
    {
     "name": "stderr",
     "output_type": "stream",
     "text": [
      "Training Epoch 45: 100%|██████████| 12750/12750 [08:28<00:00, 25.09it/s]\n"
     ]
    },
    {
     "name": "stdout",
     "output_type": "stream",
     "text": [
      "Epoch 45, Loss: 0.2997, Accuracy: 0.8689\n"
     ]
    },
    {
     "name": "stderr",
     "output_type": "stream",
     "text": [
      "Training Epoch 46: 100%|██████████| 12750/12750 [08:29<00:00, 25.01it/s]\n"
     ]
    },
    {
     "name": "stdout",
     "output_type": "stream",
     "text": [
      "Epoch 46, Loss: 0.3021, Accuracy: 0.8699\n"
     ]
    },
    {
     "name": "stderr",
     "output_type": "stream",
     "text": [
      "Training Epoch 47: 100%|██████████| 12750/12750 [08:28<00:00, 25.10it/s]\n"
     ]
    },
    {
     "name": "stdout",
     "output_type": "stream",
     "text": [
      "Epoch 47, Loss: 0.2915, Accuracy: 0.8700\n"
     ]
    },
    {
     "name": "stderr",
     "output_type": "stream",
     "text": [
      "Training Epoch 48: 100%|██████████| 12750/12750 [08:30<00:00, 24.98it/s]\n"
     ]
    },
    {
     "name": "stdout",
     "output_type": "stream",
     "text": [
      "Epoch 48, Loss: 0.2975, Accuracy: 0.8683\n"
     ]
    },
    {
     "name": "stderr",
     "output_type": "stream",
     "text": [
      "Training Epoch 49: 100%|██████████| 12750/12750 [08:32<00:00, 24.89it/s]\n"
     ]
    },
    {
     "name": "stdout",
     "output_type": "stream",
     "text": [
      "Epoch 49, Loss: 0.3013, Accuracy: 0.8714\n"
     ]
    },
    {
     "name": "stderr",
     "output_type": "stream",
     "text": [
      "Training Epoch 50: 100%|██████████| 12750/12750 [08:33<00:00, 24.82it/s]\n"
     ]
    },
    {
     "name": "stdout",
     "output_type": "stream",
     "text": [
      "Epoch 50, Loss: 0.2886, Accuracy: 0.8723\n"
     ]
    },
    {
     "name": "stderr",
     "output_type": "stream",
     "text": [
      "Training Epoch 51: 100%|██████████| 12750/12750 [08:31<00:00, 24.91it/s]\n"
     ]
    },
    {
     "name": "stdout",
     "output_type": "stream",
     "text": [
      "Epoch 51, Loss: 0.2964, Accuracy: 0.8691\n"
     ]
    },
    {
     "name": "stderr",
     "output_type": "stream",
     "text": [
      "Training Epoch 52: 100%|██████████| 12750/12750 [08:28<00:00, 25.06it/s]\n"
     ]
    },
    {
     "name": "stdout",
     "output_type": "stream",
     "text": [
      "Epoch 52, Loss: 0.2882, Accuracy: 0.8695\n"
     ]
    },
    {
     "name": "stderr",
     "output_type": "stream",
     "text": [
      "Training Epoch 53: 100%|██████████| 12750/12750 [08:28<00:00, 25.06it/s]\n"
     ]
    },
    {
     "name": "stdout",
     "output_type": "stream",
     "text": [
      "Epoch 53, Loss: 0.2957, Accuracy: 0.8738\n"
     ]
    },
    {
     "name": "stderr",
     "output_type": "stream",
     "text": [
      "Training Epoch 54: 100%|██████████| 12750/12750 [08:29<00:00, 25.00it/s]\n"
     ]
    },
    {
     "name": "stdout",
     "output_type": "stream",
     "text": [
      "Epoch 54, Loss: 0.2934, Accuracy: 0.8732\n"
     ]
    },
    {
     "name": "stderr",
     "output_type": "stream",
     "text": [
      "Training Epoch 55: 100%|██████████| 12750/12750 [08:28<00:00, 25.05it/s]\n"
     ]
    },
    {
     "name": "stdout",
     "output_type": "stream",
     "text": [
      "Epoch 55, Loss: 0.3027, Accuracy: 0.8735\n"
     ]
    },
    {
     "name": "stderr",
     "output_type": "stream",
     "text": [
      "Training Epoch 56: 100%|██████████| 12750/12750 [08:29<00:00, 25.04it/s]\n"
     ]
    },
    {
     "name": "stdout",
     "output_type": "stream",
     "text": [
      "Epoch 56, Loss: 0.2892, Accuracy: 0.8732\n"
     ]
    },
    {
     "name": "stderr",
     "output_type": "stream",
     "text": [
      "Training Epoch 57: 100%|██████████| 12750/12750 [08:34<00:00, 24.79it/s]\n"
     ]
    },
    {
     "name": "stdout",
     "output_type": "stream",
     "text": [
      "Epoch 57, Loss: 0.2799, Accuracy: 0.8763\n"
     ]
    },
    {
     "name": "stderr",
     "output_type": "stream",
     "text": [
      "Training Epoch 58: 100%|██████████| 12750/12750 [08:37<00:00, 24.62it/s]\n"
     ]
    },
    {
     "name": "stdout",
     "output_type": "stream",
     "text": [
      "Epoch 58, Loss: 0.2888, Accuracy: 0.8746\n"
     ]
    },
    {
     "name": "stderr",
     "output_type": "stream",
     "text": [
      "Training Epoch 59: 100%|██████████| 12750/12750 [08:40<00:00, 24.49it/s]\n"
     ]
    },
    {
     "name": "stdout",
     "output_type": "stream",
     "text": [
      "Epoch 59, Loss: 0.2897, Accuracy: 0.8749\n"
     ]
    },
    {
     "name": "stderr",
     "output_type": "stream",
     "text": [
      "Training Epoch 60: 100%|██████████| 12750/12750 [08:41<00:00, 24.46it/s]\n"
     ]
    },
    {
     "name": "stdout",
     "output_type": "stream",
     "text": [
      "Epoch 60, Loss: 0.2878, Accuracy: 0.8748\n"
     ]
    },
    {
     "name": "stderr",
     "output_type": "stream",
     "text": [
      "Training Epoch 61: 100%|██████████| 12750/12750 [08:40<00:00, 24.52it/s]"
     ]
    },
    {
     "name": "stdout",
     "output_type": "stream",
     "text": [
      "Epoch 61, Loss: 0.2789, Accuracy: 0.8784\n"
     ]
    },
    {
     "name": "stderr",
     "output_type": "stream",
     "text": [
      "\n"
     ]
    }
   ],
   "source": [
    "for epoch in range(31, 61):\n",
    "    model.train()  # Set the model to training mode\n",
    "    total_loss = 0\n",
    "    correct_predictions = 0\n",
    "    total_samples = 0\n",
    "    \n",
    "    for batch in tqdm(train_loader, desc=f\"Training Epoch {epoch + 1}\"):\n",
    "        optimizer.zero_grad()  # Zero the gradients\n",
    "        input_ids = batch['input_ids'].to(device)\n",
    "        attention_mask = batch['attention_mask'].to(device)\n",
    "        labels = batch['labels'].to(device)\n",
    "        \n",
    "        # Forward pass\n",
    "        outputs = model(input_ids, attention_mask=attention_mask)\n",
    "        logits = outputs.logits\n",
    "        \n",
    "        # Compute loss\n",
    "        loss = criterion(logits, labels)\n",
    "        \n",
    "        # Backward pass\n",
    "        loss.backward()\n",
    "        optimizer.step()\n",
    "        \n",
    "        total_loss += loss.item()\n",
    "        \n",
    "        # Calculate accuracy\n",
    "        predictions = torch.argmax(logits, dim=1)\n",
    "        correct_predictions += (predictions == labels).sum().item()\n",
    "        total_samples += labels.size(0)\n",
    "    \n",
    "    # Calculate average loss and accuracy for the epoch\n",
    "    avg_loss = total_loss / len(train_loader)\n",
    "    accuracy = correct_predictions / total_samples\n",
    "    \n",
    "    epoch_losses.append(avg_loss)\n",
    "    epoch_accuracies.append(accuracy)\n",
    "    \n",
    "    print(f\"Epoch {epoch + 1}, Loss: {avg_loss:.4f}, Accuracy: {accuracy:.4f}\")\n"
   ]
  },
  {
   "cell_type": "code",
   "execution_count": 43,
   "id": "14ad4ba7-10ac-4652-a5cc-0530379d6226",
   "metadata": {},
   "outputs": [
    {
     "name": "stdout",
     "output_type": "stream",
     "text": [
      "Model saved at: C:\\Users\\user\\Desktop\\Varsha\\model_feedbackloop_balancedcel.pth\n"
     ]
    }
   ],
   "source": [
    "#save model!!!\n",
    "# Define the path to save the model\n",
    "model_save_path = r\"C:\\Users\\user\\Desktop\\Varsha\\model_feedbackloop_balancedcel.pth\"\n",
    "\n",
    "# Save the model state dictionary\n",
    "torch.save(model.state_dict(), model_save_path)\n",
    "\n",
    "print(f\"Model saved at: {model_save_path}\")\n"
   ]
  },
  {
   "cell_type": "code",
   "execution_count": 44,
   "id": "12e0a0f8-a205-43e4-a6c4-359671559e4b",
   "metadata": {},
   "outputs": [
    {
     "name": "stderr",
     "output_type": "stream",
     "text": [
      "Evaluating: 100%|██████████| 5465/5465 [01:01<00:00, 88.44it/s]\n"
     ]
    },
    {
     "name": "stdout",
     "output_type": "stream",
     "text": [
      "Test Accuracy: 0.7570\n",
      "              precision    recall  f1-score   support\n",
      "\n",
      "           0       0.66      0.85      0.74       487\n",
      "           1       0.84      0.81      0.82      3990\n",
      "           2       0.14      0.29      0.19        17\n",
      "           3       0.77      0.85      0.81      1932\n",
      "           4       0.55      0.78      0.65      1446\n",
      "           5       0.68      0.83      0.74      1049\n",
      "           6       0.89      0.93      0.91      1637\n",
      "           7       0.83      0.84      0.83      3655\n",
      "           8       0.66      0.82      0.73      1583\n",
      "           9       0.83      0.85      0.84      2660\n",
      "          10       0.43      0.69      0.53      1463\n",
      "          11       0.27      0.36      0.31       354\n",
      "          12       0.40      0.53      0.46      1001\n",
      "          13       0.41      0.49      0.44       256\n",
      "          14       0.72      0.66      0.69       110\n",
      "          15       0.44      0.57      0.50       772\n",
      "          16       0.81      0.74      0.77      2898\n",
      "          17       0.36      0.37      0.36       115\n",
      "          18       0.50      0.32      0.39        31\n",
      "          19       0.65      0.91      0.76        46\n",
      "          20       0.42      0.44      0.43        85\n",
      "          21       0.84      0.81      0.82       486\n",
      "          22       0.60      0.64      0.62        64\n",
      "          23       0.53      0.75      0.62        51\n",
      "          24       0.70      0.73      0.72       733\n",
      "          25       0.72      0.93      0.81       249\n",
      "          26       0.52      0.83      0.64       179\n",
      "          27       0.53      0.70      0.60        27\n",
      "          28       0.66      0.70      0.68        44\n",
      "          29       0.33      0.33      0.33         3\n",
      "          30       0.48      0.52      0.50       235\n",
      "          31       0.47      0.61      0.53       564\n",
      "          32       0.58      0.70      0.64       817\n",
      "          33       0.55      0.67      0.60       668\n",
      "          34       0.30      0.36      0.33       683\n",
      "          35       0.45      0.65      0.53       618\n",
      "          36       0.25      0.43      0.32       157\n",
      "          37       0.20      0.43      0.27       480\n",
      "          38       0.08      0.38      0.13       218\n",
      "          39       0.22      0.30      0.25       148\n",
      "          40       0.25      0.43      0.32       260\n",
      "          41       0.90      0.79      0.84      4084\n",
      "          42       0.71      0.44      0.55       286\n",
      "          43       0.15      0.45      0.23       104\n",
      "          44       0.21      0.29      0.24        52\n",
      "          45       0.22      0.45      0.29       251\n",
      "          46       0.37      0.57      0.45       101\n",
      "          47       0.34      0.54      0.42        94\n",
      "          48       0.57      0.77      0.66        35\n",
      "          49       0.36      0.43      0.39        23\n",
      "          50       0.82      0.87      0.84      1172\n",
      "          51       0.83      0.80      0.81        54\n",
      "          52       0.38      0.74      0.50        58\n",
      "          53       0.95      0.92      0.93       452\n",
      "          54       0.92      0.94      0.93       290\n",
      "          55       0.88      0.86      0.87       635\n",
      "          56       0.80      0.92      0.86        53\n",
      "          57       0.72      0.77      0.74       630\n",
      "          58       0.47      0.62      0.53        13\n",
      "          59       0.97      0.94      0.96      6801\n",
      "          60       0.34      0.54      0.42        39\n",
      "          61       0.63      0.63      0.63       106\n",
      "          62       0.54      0.76      0.63       573\n",
      "          63       0.48      0.79      0.60       217\n",
      "          64       0.92      0.77      0.83     11624\n",
      "          65       0.93      0.71      0.81     20372\n",
      "          66       0.58      0.51      0.55       892\n",
      "          67       0.22      0.38      0.28        21\n",
      "          68       0.50      0.55      0.52      1473\n",
      "          69       0.78      0.76      0.77      3134\n",
      "          70       0.65      0.76      0.70       709\n",
      "          71       0.28      0.54      0.37       100\n",
      "          72       0.92      0.97      0.94       711\n",
      "\n",
      "    accuracy                           0.76     87430\n",
      "   macro avg       0.56      0.65      0.59     87430\n",
      "weighted avg       0.80      0.76      0.77     87430\n",
      "\n"
     ]
    }
   ],
   "source": [
    "# Set the model to evaluation mode\n",
    "model.eval()  \n",
    "total_correct = 0\n",
    "total_samples = 0\n",
    "\n",
    "# Initialize lists to store predictions and labels for metrics if needed\n",
    "all_predictions = []\n",
    "all_labels = []\n",
    "\n",
    "# Disable gradient calculation\n",
    "with torch.no_grad():\n",
    "    for batch in tqdm(test_loader, desc=\"Evaluating\"):\n",
    "        input_ids = batch['input_ids'].to(device)\n",
    "        attention_mask = batch['attention_mask'].to(device)\n",
    "        labels = batch['labels'].to(device)\n",
    "        \n",
    "        # Forward pass\n",
    "        outputs = model(input_ids, attention_mask=attention_mask)\n",
    "        logits = outputs.logits\n",
    "        \n",
    "        # Get predictions\n",
    "        predictions = torch.argmax(logits, dim=1)\n",
    "        \n",
    "        # Store predictions and labels\n",
    "        all_predictions.extend(predictions.cpu().numpy())\n",
    "        all_labels.extend(labels.cpu().numpy())\n",
    "        \n",
    "        # Count correct predictions\n",
    "        total_correct += (predictions == labels).sum().item()\n",
    "        total_samples += labels.size(0)\n",
    "\n",
    "# Calculate accuracy\n",
    "accuracy = total_correct / total_samples\n",
    "print(f\"Test Accuracy: {accuracy:.4f}\")\n",
    "\n",
    "# Optional: If you want to compute and print other metrics like F1 score\n",
    "from sklearn.metrics import classification_report\n",
    "\n",
    "print(classification_report(all_labels, all_predictions))\n"
   ]
  },
  {
   "cell_type": "code",
   "execution_count": 45,
   "id": "945abbd0-0d0e-428d-bdd2-06a0e11b8647",
   "metadata": {},
   "outputs": [
    {
     "data": {
      "image/png": "[encoded data removed]",
      "text/plain": [
       "<Figure size 1200x500 with 2 Axes>"
      ]
     },
     "metadata": {},
     "output_type": "display_data"
    }
   ],
   "source": [
    "# Plotting the results\n",
    "plt.figure(figsize=(12, 5))\n",
    "\n",
    "# Loss plot\n",
    "plt.subplot(1, 2, 1)\n",
    "plt.plot(epoch_losses, label='Training Loss')\n",
    "plt.xlabel('Epoch')\n",
    "plt.ylabel('Loss')\n",
    "plt.title('Training Loss per Epoch')\n",
    "plt.legend()\n",
    "\n",
    "# Accuracy plot\n",
    "plt.subplot(1, 2, 2)\n",
    "plt.plot(epoch_accuracies, label='Training Accuracy')\n",
    "plt.xlabel('Epoch')\n",
    "plt.ylabel('Accuracy')\n",
    "plt.title('Training Accuracy per Epoch')\n",
    "plt.legend()\n",
    "\n",
    "plt.show()\n"
   ]
  },
  {
   "cell_type": "code",
   "execution_count": 41,
   "id": "e9bb971a-f89e-4c7d-ae38-b265bf6cd583",
   "metadata": {},
   "outputs": [
    {
     "name": "stderr",
     "output_type": "stream",
     "text": [
      "Evaluating: 100%|██████████| 5465/5465 [01:05<00:00, 83.98it/s]\n"
     ]
    },
    {
     "name": "stdout",
     "output_type": "stream",
     "text": [
      "Test Accuracy: 0.7537\n",
      "              precision    recall  f1-score   support\n",
      "\n",
      "           0       0.65      0.88      0.74       487\n",
      "           1       0.86      0.79      0.82      3990\n",
      "           2       0.08      0.29      0.12        17\n",
      "           3       0.71      0.86      0.78      1932\n",
      "           4       0.71      0.71      0.71      1446\n",
      "           5       0.72      0.86      0.78      1049\n",
      "           6       0.85      0.95      0.90      1637\n",
      "           7       0.84      0.83      0.84      3655\n",
      "           8       0.82      0.79      0.80      1583\n",
      "           9       0.81      0.90      0.85      2660\n",
      "          10       0.47      0.71      0.57      1463\n",
      "          11       0.20      0.38      0.26       354\n",
      "          12       0.38      0.50      0.43      1001\n",
      "          13       0.33      0.48      0.39       256\n",
      "          14       0.50      0.80      0.62       110\n",
      "          15       0.54      0.57      0.56       772\n",
      "          16       0.68      0.80      0.73      2898\n",
      "          17       0.24      0.48      0.32       115\n",
      "          18       0.41      0.29      0.34        31\n",
      "          19       0.71      0.87      0.78        46\n",
      "          20       0.59      0.32      0.41        85\n",
      "          21       0.82      0.84      0.83       486\n",
      "          22       0.82      0.58      0.68        64\n",
      "          23       0.83      0.69      0.75        51\n",
      "          24       0.66      0.77      0.71       733\n",
      "          25       0.88      0.93      0.90       249\n",
      "          26       0.75      0.81      0.78       179\n",
      "          27       0.48      0.74      0.58        27\n",
      "          28       0.65      0.77      0.71        44\n",
      "          29       0.33      0.33      0.33         3\n",
      "          30       0.55      0.50      0.52       235\n",
      "          31       0.27      0.69      0.39       564\n",
      "          32       0.61      0.70      0.65       817\n",
      "          33       0.36      0.77      0.49       668\n",
      "          34       0.28      0.39      0.33       683\n",
      "          35       0.59      0.63      0.61       618\n",
      "          36       0.29      0.46      0.36       157\n",
      "          37       0.29      0.40      0.34       480\n",
      "          38       0.14      0.41      0.20       218\n",
      "          39       0.25      0.36      0.29       148\n",
      "          40       0.37      0.44      0.40       260\n",
      "          41       0.91      0.76      0.83      4084\n",
      "          42       0.56      0.49      0.52       286\n",
      "          43       0.18      0.47      0.26       104\n",
      "          44       0.17      0.35      0.23        52\n",
      "          45       0.19      0.49      0.27       251\n",
      "          46       0.22      0.61      0.32       101\n",
      "          47       0.12      0.67      0.20        94\n",
      "          48       0.70      0.60      0.65        35\n",
      "          49       0.33      0.35      0.34        23\n",
      "          50       0.82      0.88      0.85      1172\n",
      "          51       0.90      0.83      0.87        54\n",
      "          52       0.82      0.64      0.72        58\n",
      "          53       0.93      0.94      0.94       452\n",
      "          54       0.91      0.96      0.93       290\n",
      "          55       0.81      0.87      0.84       635\n",
      "          56       0.76      1.00      0.86        53\n",
      "          57       0.66      0.79      0.72       630\n",
      "          58       0.29      0.62      0.39        13\n",
      "          59       0.97      0.95      0.96      6801\n",
      "          60       0.15      0.64      0.24        39\n",
      "          61       0.49      0.69      0.57       106\n",
      "          62       0.60      0.71      0.65       573\n",
      "          63       0.49      0.80      0.61       217\n",
      "          64       0.93      0.79      0.86     11624\n",
      "          65       0.93      0.69      0.79     20372\n",
      "          66       0.47      0.57      0.52       892\n",
      "          67       0.27      0.48      0.34        21\n",
      "          68       0.50      0.56      0.53      1473\n",
      "          69       0.83      0.62      0.71      3134\n",
      "          70       0.61      0.76      0.67       709\n",
      "          71       0.40      0.52      0.45       100\n",
      "          72       0.92      0.97      0.94       711\n",
      "\n",
      "    accuracy                           0.75     87430\n",
      "   macro avg       0.56      0.66      0.59     87430\n",
      "weighted avg       0.81      0.75      0.77     87430\n",
      "\n"
     ]
    }
   ],
   "source": [
    "# Set the model to evaluation mode\n",
    "model.eval()  \n",
    "total_correct = 0\n",
    "total_samples = 0\n",
    "\n",
    "# Initialize lists to store predictions and labels for metrics if needed\n",
    "all_predictions = []\n",
    "all_labels = []\n",
    "\n",
    "# Disable gradient calculation\n",
    "with torch.no_grad():\n",
    "    for batch in tqdm(test_loader, desc=\"Evaluating\"):\n",
    "        input_ids = batch['input_ids'].to(device)\n",
    "        attention_mask = batch['attention_mask'].to(device)\n",
    "        labels = batch['labels'].to(device)\n",
    "        \n",
    "        # Forward pass\n",
    "        outputs = model(input_ids, attention_mask=attention_mask)\n",
    "        logits = outputs.logits\n",
    "        \n",
    "        # Get predictions\n",
    "        predictions = torch.argmax(logits, dim=1)\n",
    "        \n",
    "        # Store predictions and labels\n",
    "        all_predictions.extend(predictions.cpu().numpy())\n",
    "        all_labels.extend(labels.cpu().numpy())\n",
    "        \n",
    "        # Count correct predictions\n",
    "        total_correct += (predictions == labels).sum().item()\n",
    "        total_samples += labels.size(0)\n",
    "\n",
    "# Calculate accuracy\n",
    "accuracy = total_correct / total_samples\n",
    "print(f\"Test Accuracy: {accuracy:.4f}\")\n",
    "\n",
    "# Optional: If you want to compute and print other metrics like F1 score\n",
    "from sklearn.metrics import classification_report\n",
    "\n",
    "print(classification_report(all_labels, all_predictions))\n"
   ]
  },
  {
   "cell_type": "code",
   "execution_count": 104,
   "id": "008241d0-da86-4adc-bc71-9e6bb4c64f13",
   "metadata": {},
   "outputs": [
    {
     "data": {
      "text/plain": [
       "DistilBertConfig {\n",
       "  \"_name_or_path\": \"distilbert-base-uncased\",\n",
       "  \"activation\": \"gelu\",\n",
       "  \"architectures\": [\n",
       "    \"DistilBertForMaskedLM\"\n",
       "  ],\n",
       "  \"attention_dropout\": 0.1,\n",
       "  \"dim\": 768,\n",
       "  \"dropout\": 0.1,\n",
       "  \"hidden_dim\": 3072,\n",
       "  \"id2label\": {\n",
       "    \"0\": \"LABEL_0\",\n",
       "    \"1\": \"LABEL_1\",\n",
       "    \"2\": \"LABEL_2\",\n",
       "    \"3\": \"LABEL_3\",\n",
       "    \"4\": \"LABEL_4\",\n",
       "    \"5\": \"LABEL_5\",\n",
       "    \"6\": \"LABEL_6\",\n",
       "    \"7\": \"LABEL_7\",\n",
       "    \"8\": \"LABEL_8\",\n",
       "    \"9\": \"LABEL_9\",\n",
       "    \"10\": \"LABEL_10\",\n",
       "    \"11\": \"LABEL_11\",\n",
       "    \"12\": \"LABEL_12\",\n",
       "    \"13\": \"LABEL_13\",\n",
       "    \"14\": \"LABEL_14\",\n",
       "    \"15\": \"LABEL_15\",\n",
       "    \"16\": \"LABEL_16\",\n",
       "    \"17\": \"LABEL_17\",\n",
       "    \"18\": \"LABEL_18\",\n",
       "    \"19\": \"LABEL_19\",\n",
       "    \"20\": \"LABEL_20\",\n",
       "    \"21\": \"LABEL_21\",\n",
       "    \"22\": \"LABEL_22\",\n",
       "    \"23\": \"LABEL_23\",\n",
       "    \"24\": \"LABEL_24\",\n",
       "    \"25\": \"LABEL_25\",\n",
       "    \"26\": \"LABEL_26\",\n",
       "    \"27\": \"LABEL_27\",\n",
       "    \"28\": \"LABEL_28\",\n",
       "    \"29\": \"LABEL_29\",\n",
       "    \"30\": \"LABEL_30\",\n",
       "    \"31\": \"LABEL_31\",\n",
       "    \"32\": \"LABEL_32\",\n",
       "    \"33\": \"LABEL_33\",\n",
       "    \"34\": \"LABEL_34\",\n",
       "    \"35\": \"LABEL_35\",\n",
       "    \"36\": \"LABEL_36\",\n",
       "    \"37\": \"LABEL_37\",\n",
       "    \"38\": \"LABEL_38\",\n",
       "    \"39\": \"LABEL_39\",\n",
       "    \"40\": \"LABEL_40\",\n",
       "    \"41\": \"LABEL_41\",\n",
       "    \"42\": \"LABEL_42\",\n",
       "    \"43\": \"LABEL_43\",\n",
       "    \"44\": \"LABEL_44\",\n",
       "    \"45\": \"LABEL_45\",\n",
       "    \"46\": \"LABEL_46\",\n",
       "    \"47\": \"LABEL_47\",\n",
       "    \"48\": \"LABEL_48\",\n",
       "    \"49\": \"LABEL_49\",\n",
       "    \"50\": \"LABEL_50\",\n",
       "    \"51\": \"LABEL_51\",\n",
       "    \"52\": \"LABEL_52\",\n",
       "    \"53\": \"LABEL_53\",\n",
       "    \"54\": \"LABEL_54\",\n",
       "    \"55\": \"LABEL_55\",\n",
       "    \"56\": \"LABEL_56\",\n",
       "    \"57\": \"LABEL_57\",\n",
       "    \"58\": \"LABEL_58\",\n",
       "    \"59\": \"LABEL_59\",\n",
       "    \"60\": \"LABEL_60\",\n",
       "    \"61\": \"LABEL_61\",\n",
       "    \"62\": \"LABEL_62\",\n",
       "    \"63\": \"LABEL_63\",\n",
       "    \"64\": \"LABEL_64\",\n",
       "    \"65\": \"LABEL_65\",\n",
       "    \"66\": \"LABEL_66\",\n",
       "    \"67\": \"LABEL_67\",\n",
       "    \"68\": \"LABEL_68\",\n",
       "    \"69\": \"LABEL_69\",\n",
       "    \"70\": \"LABEL_70\",\n",
       "    \"71\": \"LABEL_71\",\n",
       "    \"72\": \"LABEL_72\"\n",
       "  },\n",
       "  \"initializer_range\": 0.02,\n",
       "  \"label2id\": {\n",
       "    \"LABEL_0\": 0,\n",
       "    \"LABEL_1\": 1,\n",
       "    \"LABEL_10\": 10,\n",
       "    \"LABEL_11\": 11,\n",
       "    \"LABEL_12\": 12,\n",
       "    \"LABEL_13\": 13,\n",
       "    \"LABEL_14\": 14,\n",
       "    \"LABEL_15\": 15,\n",
       "    \"LABEL_16\": 16,\n",
       "    \"LABEL_17\": 17,\n",
       "    \"LABEL_18\": 18,\n",
       "    \"LABEL_19\": 19,\n",
       "    \"LABEL_2\": 2,\n",
       "    \"LABEL_20\": 20,\n",
       "    \"LABEL_21\": 21,\n",
       "    \"LABEL_22\": 22,\n",
       "    \"LABEL_23\": 23,\n",
       "    \"LABEL_24\": 24,\n",
       "    \"LABEL_25\": 25,\n",
       "    \"LABEL_26\": 26,\n",
       "    \"LABEL_27\": 27,\n",
       "    \"LABEL_28\": 28,\n",
       "    \"LABEL_29\": 29,\n",
       "    \"LABEL_3\": 3,\n",
       "    \"LABEL_30\": 30,\n",
       "    \"LABEL_31\": 31,\n",
       "    \"LABEL_32\": 32,\n",
       "    \"LABEL_33\": 33,\n",
       "    \"LABEL_34\": 34,\n",
       "    \"LABEL_35\": 35,\n",
       "    \"LABEL_36\": 36,\n",
       "    \"LABEL_37\": 37,\n",
       "    \"LABEL_38\": 38,\n",
       "    \"LABEL_39\": 39,\n",
       "    \"LABEL_4\": 4,\n",
       "    \"LABEL_40\": 40,\n",
       "    \"LABEL_41\": 41,\n",
       "    \"LABEL_42\": 42,\n",
       "    \"LABEL_43\": 43,\n",
       "    \"LABEL_44\": 44,\n",
       "    \"LABEL_45\": 45,\n",
       "    \"LABEL_46\": 46,\n",
       "    \"LABEL_47\": 47,\n",
       "    \"LABEL_48\": 48,\n",
       "    \"LABEL_49\": 49,\n",
       "    \"LABEL_5\": 5,\n",
       "    \"LABEL_50\": 50,\n",
       "    \"LABEL_51\": 51,\n",
       "    \"LABEL_52\": 52,\n",
       "    \"LABEL_53\": 53,\n",
       "    \"LABEL_54\": 54,\n",
       "    \"LABEL_55\": 55,\n",
       "    \"LABEL_56\": 56,\n",
       "    \"LABEL_57\": 57,\n",
       "    \"LABEL_58\": 58,\n",
       "    \"LABEL_59\": 59,\n",
       "    \"LABEL_6\": 6,\n",
       "    \"LABEL_60\": 60,\n",
       "    \"LABEL_61\": 61,\n",
       "    \"LABEL_62\": 62,\n",
       "    \"LABEL_63\": 63,\n",
       "    \"LABEL_64\": 64,\n",
       "    \"LABEL_65\": 65,\n",
       "    \"LABEL_66\": 66,\n",
       "    \"LABEL_67\": 67,\n",
       "    \"LABEL_68\": 68,\n",
       "    \"LABEL_69\": 69,\n",
       "    \"LABEL_7\": 7,\n",
       "    \"LABEL_70\": 70,\n",
       "    \"LABEL_71\": 71,\n",
       "    \"LABEL_72\": 72,\n",
       "    \"LABEL_8\": 8,\n",
       "    \"LABEL_9\": 9\n",
       "  },\n",
       "  \"max_position_embeddings\": 512,\n",
       "  \"model_type\": \"distilbert\",\n",
       "  \"n_heads\": 12,\n",
       "  \"n_layers\": 6,\n",
       "  \"pad_token_id\": 0,\n",
       "  \"qa_dropout\": 0.1,\n",
       "  \"seq_classif_dropout\": 0.2,\n",
       "  \"sinusoidal_pos_embds\": false,\n",
       "  \"tie_weights_\": true,\n",
       "  \"transformers_version\": \"4.44.2\",\n",
       "  \"vocab_size\": 30522\n",
       "}"
      ]
     },
     "execution_count": 104,
     "metadata": {},
     "output_type": "execute_result"
    }
   ],
   "source": [
    "model.config"
   ]
  },
  {
   "cell_type": "code",
   "execution_count": null,
   "id": "822b6006-b13b-4d0a-bf3a-844adf5f7df0",
   "metadata": {},
   "outputs": [],
   "source": []
  }
 ],
 "metadata": {
  "kernelspec": {
   "display_name": "Python 3 (ipykernel)",
   "language": "python",
   "name": "python3"
  },
  "language_info": {
   "codemirror_mode": {
    "name": "ipython",
    "version": 3
   },
   "file_extension": ".py",
   "mimetype": "text/x-python",
   "name": "python",
   "nbconvert_exporter": "python",
   "pygments_lexer": "ipython3",
   "version": "3.12.3"
  }
 },
 "nbformat": 4,
 "nbformat_minor": 5
}

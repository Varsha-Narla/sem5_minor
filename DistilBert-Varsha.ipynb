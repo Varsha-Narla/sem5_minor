{
 "cells": [
  {
   "cell_type": "code",
   "execution_count": 1,
   "id": "541b540e-4a5d-4194-8f3d-48512198d425",
   "metadata": {},
   "outputs": [],
   "source": [
    "import sklearn\n",
    "import pandas as pd\n",
    "    "
   ]
  },
  {
   "cell_type": "code",
   "execution_count": 2,
   "id": "8e10eebe-40f5-467c-b9e5-d6150ca62154",
   "metadata": {},
   "outputs": [],
   "source": [
    "file = pd.read_excel(r'C:\\Users\\user\\Desktop\\Varsha\\time balance.xlsx')"
   ]
  },
  {
   "cell_type": "code",
   "execution_count": 3,
   "id": "c833535a-e1b0-42d7-a271-00b877216dfa",
   "metadata": {},
   "outputs": [],
   "source": [
    "df = pd.DataFrame(file)\n"
   ]
  },
  {
   "cell_type": "code",
   "execution_count": 4,
   "id": "e31617b9-ca1a-4ade-92fc-6e8ecb85ae31",
   "metadata": {},
   "outputs": [
    {
     "data": {
      "text/plain": [
       "(291491, 4)"
      ]
     },
     "execution_count": 4,
     "metadata": {},
     "output_type": "execute_result"
    }
   ],
   "source": [
    "df.shape"
   ]
  },
  {
   "cell_type": "code",
   "execution_count": 5,
   "id": "f2c63ea4-a84d-4a17-aed0-82e1385bc076",
   "metadata": {},
   "outputs": [
    {
     "name": "stdout",
     "output_type": "stream",
     "text": [
      "Major code stored  as  workover/drilling         0\n",
      "Cde                                              0\n",
      "Service hours type                               0\n",
      "Minor Repair / Tripping / Complication      201202\n",
      "dtype: int64\n"
     ]
    },
    {
     "data": {
      "text/html": [
       "<div>\n",
       "<style scoped>\n",
       "    .dataframe tbody tr th:only-of-type {\n",
       "        vertical-align: middle;\n",
       "    }\n",
       "\n",
       "    .dataframe tbody tr th {\n",
       "        vertical-align: top;\n",
       "    }\n",
       "\n",
       "    .dataframe thead th {\n",
       "        text-align: right;\n",
       "    }\n",
       "</style>\n",
       "<table border=\"1\" class=\"dataframe\">\n",
       "  <thead>\n",
       "    <tr style=\"text-align: right;\">\n",
       "      <th></th>\n",
       "      <th>Major code stored  as  workover/drilling</th>\n",
       "      <th>Cde</th>\n",
       "      <th>Service hours type</th>\n",
       "      <th>Minor Repair / Tripping / Complication</th>\n",
       "    </tr>\n",
       "  </thead>\n",
       "  <tbody>\n",
       "    <tr>\n",
       "      <th>12</th>\n",
       "      <td>DTRP</td>\n",
       "      <td>6A</td>\n",
       "      <td>M/A y POOH TO SURF. B/OFF &amp; L/DN DIR ASSY.</td>\n",
       "      <td>6A01</td>\n",
       "    </tr>\n",
       "    <tr>\n",
       "      <th>20</th>\n",
       "      <td>DTRP</td>\n",
       "      <td>6A</td>\n",
       "      <td>POOH.</td>\n",
       "      <td>6A02</td>\n",
       "    </tr>\n",
       "    <tr>\n",
       "      <th>23</th>\n",
       "      <td>DTRP</td>\n",
       "      <td>6A</td>\n",
       "      <td>M/A &amp; R/I SAME BHA &amp; TAGGED BOTTOM.</td>\n",
       "      <td>6A01</td>\n",
       "    </tr>\n",
       "    <tr>\n",
       "      <th>25</th>\n",
       "      <td>DTRP</td>\n",
       "      <td>6A</td>\n",
       "      <td>M/A &amp; P/O 61 STDS + 02 SGLS OF 5” D/P.</td>\n",
       "      <td>6A02</td>\n",
       "    </tr>\n",
       "    <tr>\n",
       "      <th>28</th>\n",
       "      <td>DTRP</td>\n",
       "      <td>6A</td>\n",
       "      <td>M/A &amp; P/O TO 1650M ( INSIDE CSG SHOE)</td>\n",
       "      <td>6A01</td>\n",
       "    </tr>\n",
       "    <tr>\n",
       "      <th>...</th>\n",
       "      <td>...</td>\n",
       "      <td>...</td>\n",
       "      <td>...</td>\n",
       "      <td>...</td>\n",
       "    </tr>\n",
       "    <tr>\n",
       "      <th>291479</th>\n",
       "      <td>DTRP</td>\n",
       "      <td>6A</td>\n",
       "      <td>W/TRIP.</td>\n",
       "      <td>6A01</td>\n",
       "    </tr>\n",
       "    <tr>\n",
       "      <th>291483</th>\n",
       "      <td>PTRP</td>\n",
       "      <td>6A</td>\n",
       "      <td>WELL READY FOR PACKER SETTING JOB.</td>\n",
       "      <td>6A01</td>\n",
       "    </tr>\n",
       "    <tr>\n",
       "      <th>291486</th>\n",
       "      <td>PTRP</td>\n",
       "      <td>6A</td>\n",
       "      <td>POOH</td>\n",
       "      <td>6A02</td>\n",
       "    </tr>\n",
       "    <tr>\n",
       "      <th>291487</th>\n",
       "      <td>PTRP</td>\n",
       "      <td>6A</td>\n",
       "      <td>R/I WITH TCP GUN ASSY IS IN PROGRESS</td>\n",
       "      <td>6A01</td>\n",
       "    </tr>\n",
       "    <tr>\n",
       "      <th>291490</th>\n",
       "      <td>DTRP</td>\n",
       "      <td>6A</td>\n",
       "      <td>CRACKED POOH FOR CL</td>\n",
       "      <td>6A01</td>\n",
       "    </tr>\n",
       "  </tbody>\n",
       "</table>\n",
       "<p>90289 rows × 4 columns</p>\n",
       "</div>"
      ],
      "text/plain": [
       "       Major code stored  as  workover/drilling Cde  \\\n",
       "12                                         DTRP  6A   \n",
       "20                                         DTRP  6A   \n",
       "23                                         DTRP  6A   \n",
       "25                                         DTRP  6A   \n",
       "28                                         DTRP  6A   \n",
       "...                                         ...  ..   \n",
       "291479                                     DTRP  6A   \n",
       "291483                                     PTRP  6A   \n",
       "291486                                     PTRP  6A   \n",
       "291487                                     PTRP  6A   \n",
       "291490                                     DTRP  6A   \n",
       "\n",
       "                                Service hours type  \\\n",
       "12      M/A y POOH TO SURF. B/OFF & L/DN DIR ASSY.   \n",
       "20                                           POOH.   \n",
       "23             M/A & R/I SAME BHA & TAGGED BOTTOM.   \n",
       "25          M/A & P/O 61 STDS + 02 SGLS OF 5” D/P.   \n",
       "28           M/A & P/O TO 1650M ( INSIDE CSG SHOE)   \n",
       "...                                            ...   \n",
       "291479                                     W/TRIP.   \n",
       "291483          WELL READY FOR PACKER SETTING JOB.   \n",
       "291486                                        POOH   \n",
       "291487        R/I WITH TCP GUN ASSY IS IN PROGRESS   \n",
       "291490                         CRACKED POOH FOR CL   \n",
       "\n",
       "       Minor Repair / Tripping / Complication  \n",
       "12                                       6A01  \n",
       "20                                       6A02  \n",
       "23                                       6A01  \n",
       "25                                       6A02  \n",
       "28                                       6A01  \n",
       "...                                       ...  \n",
       "291479                                   6A01  \n",
       "291483                                   6A01  \n",
       "291486                                   6A02  \n",
       "291487                                   6A01  \n",
       "291490                                   6A01  \n",
       "\n",
       "[90289 rows x 4 columns]"
      ]
     },
     "execution_count": 5,
     "metadata": {},
     "output_type": "execute_result"
    }
   ],
   "source": [
    "print(df.isnull().sum())\n",
    "df.dropna()\n"
   ]
  },
  {
   "cell_type": "code",
   "execution_count": 6,
   "id": "ee9bfe00-0aee-4243-bd60-e7f530f989ab",
   "metadata": {},
   "outputs": [],
   "source": [
    "import re\n",
    "def preprocess_text(text):\n",
    "   if isinstance(text,str):\n",
    "      text = text.lower()  # Convert to lowercase\n",
    "      text = re.sub(r'[^\\w\\s]', '', text)  # Remove punctuation\n",
    "      text = re.sub(r'\\s+', ' ', text).strip() #Remove extra-spaces\n",
    "      return text\n",
    "\n",
    "\n",
    "\n",
    "\n",
    "# Apply text preprocessing\n",
    "df['Service hours type_lowercase'] = df['Service hours type'].apply(preprocess_text)"
   ]
  },
  {
   "cell_type": "code",
   "execution_count": 7,
   "id": "7997b377-cc68-4bc1-900c-cb8b195e27b9",
   "metadata": {},
   "outputs": [],
   "source": [
    "df['Service hours type_lowercase'] = df['Service hours type_lowercase'].apply(lambda x: str(x) if isinstance(x, str) else '')"
   ]
  },
  {
   "cell_type": "code",
   "execution_count": 8,
   "id": "2f084ec0-f4ae-4dc2-ad62-c49f1c9707a6",
   "metadata": {},
   "outputs": [
    {
     "name": "stdout",
     "output_type": "stream",
     "text": [
      "True\n"
     ]
    }
   ],
   "source": [
    "import torch \n",
    "print(torch.cuda.is_available())"
   ]
  },
  {
   "cell_type": "code",
   "execution_count": 9,
   "id": "93feab61-8e03-4da0-9519-3962584e998c",
   "metadata": {},
   "outputs": [
    {
     "data": {
      "text/html": [
       "<div>\n",
       "<style scoped>\n",
       "    .dataframe tbody tr th:only-of-type {\n",
       "        vertical-align: middle;\n",
       "    }\n",
       "\n",
       "    .dataframe tbody tr th {\n",
       "        vertical-align: top;\n",
       "    }\n",
       "\n",
       "    .dataframe thead th {\n",
       "        text-align: right;\n",
       "    }\n",
       "</style>\n",
       "<table border=\"1\" class=\"dataframe\">\n",
       "  <thead>\n",
       "    <tr style=\"text-align: right;\">\n",
       "      <th></th>\n",
       "      <th>Major code stored  as  workover/drilling</th>\n",
       "      <th>Cde</th>\n",
       "      <th>Service hours type</th>\n",
       "      <th>Minor Repair / Tripping / Complication</th>\n",
       "      <th>Service hours type_lowercase</th>\n",
       "    </tr>\n",
       "  </thead>\n",
       "  <tbody>\n",
       "    <tr>\n",
       "      <th>0</th>\n",
       "      <td>RDRP</td>\n",
       "      <td>1A</td>\n",
       "      <td>RIG CARRIER MOVED TO NEW SITE</td>\n",
       "      <td>NaN</td>\n",
       "      <td>rig carrier moved to new site</td>\n",
       "    </tr>\n",
       "    <tr>\n",
       "      <th>1</th>\n",
       "      <td>OUC</td>\n",
       "      <td>24J</td>\n",
       "      <td>DWS UNDER MAJOR REPAIR &amp; WAITG FOR COMP OF CIV...</td>\n",
       "      <td>NaN</td>\n",
       "      <td>dws under major repair waitg for comp of civ job</td>\n",
       "    </tr>\n",
       "    <tr>\n",
       "      <th>2</th>\n",
       "      <td>OUC</td>\n",
       "      <td>24J</td>\n",
       "      <td>DWS UNDER MAJOR REPAIR &amp; WAITG FOR COMP OF CIV...</td>\n",
       "      <td>NaN</td>\n",
       "      <td>dws under major repair waitg for comp of civ job</td>\n",
       "    </tr>\n",
       "    <tr>\n",
       "      <th>3</th>\n",
       "      <td>OUC</td>\n",
       "      <td>24J</td>\n",
       "      <td>DWS UNDER MAJOR REPAIR &amp; WAITG FOR COMP OF CIV...</td>\n",
       "      <td>NaN</td>\n",
       "      <td>dws under major repair waitg for comp of civ job</td>\n",
       "    </tr>\n",
       "    <tr>\n",
       "      <th>4</th>\n",
       "      <td>OUC</td>\n",
       "      <td>24J</td>\n",
       "      <td>DWS UNDER MAJOR REPAIR &amp; WAITG FOR COMP OF CIV...</td>\n",
       "      <td>NaN</td>\n",
       "      <td>dws under major repair waitg for comp of civ job</td>\n",
       "    </tr>\n",
       "  </tbody>\n",
       "</table>\n",
       "</div>"
      ],
      "text/plain": [
       "  Major code stored  as  workover/drilling  Cde  \\\n",
       "0                                     RDRP   1A   \n",
       "1                                      OUC  24J   \n",
       "2                                      OUC  24J   \n",
       "3                                      OUC  24J   \n",
       "4                                      OUC  24J   \n",
       "\n",
       "                                  Service hours type  \\\n",
       "0                      RIG CARRIER MOVED TO NEW SITE   \n",
       "1  DWS UNDER MAJOR REPAIR & WAITG FOR COMP OF CIV...   \n",
       "2  DWS UNDER MAJOR REPAIR & WAITG FOR COMP OF CIV...   \n",
       "3  DWS UNDER MAJOR REPAIR & WAITG FOR COMP OF CIV...   \n",
       "4  DWS UNDER MAJOR REPAIR & WAITG FOR COMP OF CIV...   \n",
       "\n",
       "  Minor Repair / Tripping / Complication  \\\n",
       "0                                    NaN   \n",
       "1                                    NaN   \n",
       "2                                    NaN   \n",
       "3                                    NaN   \n",
       "4                                    NaN   \n",
       "\n",
       "                       Service hours type_lowercase  \n",
       "0                     rig carrier moved to new site  \n",
       "1  dws under major repair waitg for comp of civ job  \n",
       "2  dws under major repair waitg for comp of civ job  \n",
       "3  dws under major repair waitg for comp of civ job  \n",
       "4  dws under major repair waitg for comp of civ job  "
      ]
     },
     "execution_count": 9,
     "metadata": {},
     "output_type": "execute_result"
    }
   ],
   "source": [
    "df.head()"
   ]
  },
  {
   "cell_type": "code",
   "execution_count": 10,
   "id": "e2d5e617-4fa7-4f20-9fbc-ed01b3d9469f",
   "metadata": {},
   "outputs": [],
   "source": [
    "def discard_rare_samples(df, column_name, threshold=10):\n",
    "    # Get the frequency of each unique value in the specified column\n",
    "    value_counts = df[column_name].value_counts()\n",
    "\n",
    "    # Filter the DataFrame to retain only the rows where the count is greater than or equal to the threshold\n",
    "    fdf = df[df[column_name].isin(value_counts[value_counts >= threshold].index)]\n",
    "\n",
    "    return fdf"
   ]
  },
  {
   "cell_type": "code",
   "execution_count": 11,
   "id": "d73dbc41-6c6f-4848-b699-b7632c51907d",
   "metadata": {},
   "outputs": [],
   "source": [
    "fdf = discard_rare_samples(df,'Cde',threshold =10)"
   ]
  },
  {
   "cell_type": "code",
   "execution_count": 12,
   "id": "fdd5ff5e-9013-4092-a47f-ceeb05cb67d8",
   "metadata": {},
   "outputs": [],
   "source": [
    "fdf.reset_index(drop=True, inplace=True)"
   ]
  },
  {
   "cell_type": "code",
   "execution_count": 13,
   "id": "95c1eb3c-8118-4126-a62c-f97c80bdfd79",
   "metadata": {},
   "outputs": [
    {
     "data": {
      "text/plain": [
       "(291489, 5)"
      ]
     },
     "execution_count": 13,
     "metadata": {},
     "output_type": "execute_result"
    }
   ],
   "source": [
    "fdf.shape"
   ]
  },
  {
   "cell_type": "code",
   "execution_count": 14,
   "id": "9cb984af-7d6b-429b-a9e2-59459d670347",
   "metadata": {},
   "outputs": [
    {
     "data": {
      "text/plain": [
       "Index(['Major code stored  as  workover/drilling', 'Cde', 'Service hours type',\n",
       "       'Minor Repair / Tripping / Complication',\n",
       "       'Service hours type_lowercase'],\n",
       "      dtype='object')"
      ]
     },
     "execution_count": 14,
     "metadata": {},
     "output_type": "execute_result"
    }
   ],
   "source": [
    "fdf.columns"
   ]
  },
  {
   "cell_type": "code",
   "execution_count": 15,
   "id": "77b0bf5a-6909-4a97-a329-d754bca9baf7",
   "metadata": {},
   "outputs": [
    {
     "data": {
      "text/plain": [
       "Cde\n",
       "6A     67930\n",
       "5A     38754\n",
       "2A     22671\n",
       "23A    13612\n",
       "11A    13301\n",
       "       ...  \n",
       "23I       76\n",
       "7B        70\n",
       "11B       56\n",
       "24K       45\n",
       "21J       10\n",
       "Name: count, Length: 73, dtype: int64"
      ]
     },
     "execution_count": 15,
     "metadata": {},
     "output_type": "execute_result"
    }
   ],
   "source": [
    "fdf['Cde'].value_counts()"
   ]
  },
  {
   "cell_type": "code",
   "execution_count": 16,
   "id": "3e860c04-10a3-477c-b9e8-c803fc29db46",
   "metadata": {},
   "outputs": [],
   "source": [
    "from sklearn.preprocessing import LabelEncoder"
   ]
  },
  {
   "cell_type": "code",
   "execution_count": 17,
   "id": "89f515c0-7233-4a49-9660-9410276fbbb6",
   "metadata": {},
   "outputs": [],
   "source": [
    "le = LabelEncoder()"
   ]
  },
  {
   "cell_type": "code",
   "execution_count": 19,
   "id": "9f2d15fc-9f13-473b-ab13-1442063a892d",
   "metadata": {},
   "outputs": [],
   "source": [
    "fdf.loc[:, 'label_encoded'] = le.fit_transform(fdf['Cde'])"
   ]
  },
  {
   "cell_type": "code",
   "execution_count": 20,
   "id": "44780ca2-8587-4900-9b41-bee98a07600a",
   "metadata": {},
   "outputs": [
    {
     "data": {
      "text/plain": [
       "Index(['Major code stored  as  workover/drilling', 'Cde', 'Service hours type',\n",
       "       'Minor Repair / Tripping / Complication',\n",
       "       'Service hours type_lowercase', 'label_encoded'],\n",
       "      dtype='object')"
      ]
     },
     "execution_count": 20,
     "metadata": {},
     "output_type": "execute_result"
    }
   ],
   "source": [
    "fdf.columns"
   ]
  },
  {
   "cell_type": "code",
   "execution_count": 21,
   "id": "90b4efa8-87fa-4550-b0d7-cc908c0b322b",
   "metadata": {},
   "outputs": [],
   "source": [
    "from sklearn.model_selection import train_test_split\n",
    "\n",
    "\n",
    "X = fdf.drop(columns=['label_encoded'])  # Features\n",
    "y = fdf['label_encoded']  # Target\n",
    "\n",
    "# Perform stratified split\n",
    "X_train, X_test, y_train, y_test = train_test_split(\n",
    "    X, y, \n",
    "    test_size=0.3,  # 30% test set\n",
    "    stratify=y,     # Ensure class distribution is preserved\n",
    "    random_state=42\n",
    ")\n",
    "\n",
    "# Combine features and target back into DataFrames\n",
    "train_df = X_train.copy()\n",
    "train_df['label_encoded'] = y_train\n",
    "\n",
    "test_df = X_test.copy()\n",
    "test_df['label_encoded'] = y_test\n"
   ]
  },
  {
   "cell_type": "code",
   "execution_count": 22,
   "id": "253878c5-0235-4f11-8a41-d03dc1575932",
   "metadata": {},
   "outputs": [
    {
     "name": "stdout",
     "output_type": "stream",
     "text": [
      "Class counts have been saved to 'class_counts.xlsx'.\n"
     ]
    }
   ],
   "source": [
    "import pandas as pd\n",
    "\n",
    "# Count the number of samples per class in the training set\n",
    "train_counts = train_df['label_encoded'].value_counts().sort_index()\n",
    "\n",
    "# Count the number of samples per class in the testing set\n",
    "test_counts = test_df['label_encoded'].value_counts().sort_index()\n",
    "\n",
    "# Create a DataFrame to store the counts\n",
    "class_counts_df = pd.DataFrame({\n",
    "    'Class': train_counts.index,\n",
    "    'Train_Count': train_counts.values,\n",
    "    'Test_Count': test_counts.reindex(train_counts.index, fill_value=0).values\n",
    "})\n",
    "\n",
    "# Save the DataFrame to an Excel file\n",
    "class_counts_df.to_excel(r'C:\\Users\\user\\Desktop\\Varsha/class_counts.xlsx', index=False)\n",
    "\n",
    "\n",
    "print(\"Class counts have been saved to 'class_counts.xlsx'.\")\n"
   ]
  },
  {
   "cell_type": "code",
   "execution_count": 23,
   "id": "322224f9-4aaf-49d2-8973-fe63816bacce",
   "metadata": {},
   "outputs": [
    {
     "name": "stdout",
     "output_type": "stream",
     "text": [
      "label_encoded\n",
      "65    0.233045\n",
      "64    0.132953\n",
      "59    0.077778\n",
      "41    0.046696\n",
      "1     0.045633\n",
      "        ...   \n",
      "49    0.000260\n",
      "67    0.000240\n",
      "2     0.000191\n",
      "58    0.000157\n",
      "29    0.000034\n",
      "Name: proportion, Length: 73, dtype: float64\n",
      "label_encoded\n",
      "65    0.233044\n",
      "64    0.132949\n",
      "59    0.077773\n",
      "41    0.046703\n",
      "1     0.045628\n",
      "        ...   \n",
      "49    0.000263\n",
      "67    0.000240\n",
      "2     0.000194\n",
      "58    0.000149\n",
      "29    0.000034\n",
      "Name: proportion, Length: 73, dtype: float64\n"
     ]
    }
   ],
   "source": [
    "# Verify class distribution\n",
    "print(y_train.value_counts(normalize=True))\n",
    "print(y_test.value_counts(normalize=True))\n"
   ]
  },
  {
   "cell_type": "code",
   "execution_count": 23,
   "id": "cfac22fe-ecd8-42df-a30e-d946e834172a",
   "metadata": {},
   "outputs": [
    {
     "name": "stdout",
     "output_type": "stream",
     "text": [
      "Requirement already satisfied: ipywidgets in d:\\hehe\\envs\\pytorch\\lib\\site-packages (8.1.5)\n",
      "Requirement already satisfied: comm>=0.1.3 in d:\\hehe\\envs\\pytorch\\lib\\site-packages (from ipywidgets) (0.2.1)\n",
      "Requirement already satisfied: ipython>=6.1.0 in d:\\hehe\\envs\\pytorch\\lib\\site-packages (from ipywidgets) (8.25.0)\n",
      "Requirement already satisfied: traitlets>=4.3.1 in d:\\hehe\\envs\\pytorch\\lib\\site-packages (from ipywidgets) (5.14.3)\n",
      "Requirement already satisfied: widgetsnbextension~=4.0.12 in d:\\hehe\\envs\\pytorch\\lib\\site-packages (from ipywidgets) (4.0.13)\n",
      "Requirement already satisfied: jupyterlab-widgets~=3.0.12 in d:\\hehe\\envs\\pytorch\\lib\\site-packages (from ipywidgets) (3.0.13)\n",
      "Requirement already satisfied: decorator in d:\\hehe\\envs\\pytorch\\lib\\site-packages (from ipython>=6.1.0->ipywidgets) (5.1.1)\n",
      "Requirement already satisfied: jedi>=0.16 in d:\\hehe\\envs\\pytorch\\lib\\site-packages (from ipython>=6.1.0->ipywidgets) (0.19.1)\n",
      "Requirement already satisfied: matplotlib-inline in d:\\hehe\\envs\\pytorch\\lib\\site-packages (from ipython>=6.1.0->ipywidgets) (0.1.6)\n",
      "Requirement already satisfied: prompt-toolkit<3.1.0,>=3.0.41 in d:\\hehe\\envs\\pytorch\\lib\\site-packages (from ipython>=6.1.0->ipywidgets) (3.0.43)\n",
      "Requirement already satisfied: pygments>=2.4.0 in d:\\hehe\\envs\\pytorch\\lib\\site-packages (from ipython>=6.1.0->ipywidgets) (2.15.1)\n",
      "Requirement already satisfied: stack-data in d:\\hehe\\envs\\pytorch\\lib\\site-packages (from ipython>=6.1.0->ipywidgets) (0.2.0)\n",
      "Requirement already satisfied: colorama in d:\\hehe\\envs\\pytorch\\lib\\site-packages (from ipython>=6.1.0->ipywidgets) (0.4.6)\n",
      "Requirement already satisfied: parso<0.9.0,>=0.8.3 in d:\\hehe\\envs\\pytorch\\lib\\site-packages (from jedi>=0.16->ipython>=6.1.0->ipywidgets) (0.8.3)\n",
      "Requirement already satisfied: wcwidth in d:\\hehe\\envs\\pytorch\\lib\\site-packages (from prompt-toolkit<3.1.0,>=3.0.41->ipython>=6.1.0->ipywidgets) (0.2.5)\n",
      "Requirement already satisfied: executing in d:\\hehe\\envs\\pytorch\\lib\\site-packages (from stack-data->ipython>=6.1.0->ipywidgets) (0.8.3)\n",
      "Requirement already satisfied: asttokens in d:\\hehe\\envs\\pytorch\\lib\\site-packages (from stack-data->ipython>=6.1.0->ipywidgets) (2.0.5)\n",
      "Requirement already satisfied: pure-eval in d:\\hehe\\envs\\pytorch\\lib\\site-packages (from stack-data->ipython>=6.1.0->ipywidgets) (0.2.2)\n",
      "Requirement already satisfied: six in d:\\hehe\\envs\\pytorch\\lib\\site-packages (from asttokens->stack-data->ipython>=6.1.0->ipywidgets) (1.16.0)\n"
     ]
    },
    {
     "name": "stderr",
     "output_type": "stream",
     "text": [
      "usage: jupyter [-h] [--version] [--config-dir] [--data-dir] [--runtime-dir]\n",
      "               [--paths] [--json] [--debug]\n",
      "               [subcommand]\n",
      "\n",
      "Jupyter: Interactive Computing\n",
      "\n",
      "positional arguments:\n",
      "  subcommand     the subcommand to launch\n",
      "\n",
      "options:\n",
      "  -h, --help     show this help message and exit\n",
      "  --version      show the versions of core jupyter packages and exit\n",
      "  --config-dir   show Jupyter config dir\n",
      "  --data-dir     show Jupyter data dir\n",
      "  --runtime-dir  show Jupyter runtime dir\n",
      "  --paths        show all Jupyter paths. Add --json for machine-readable\n",
      "                 format.\n",
      "  --json         output paths as machine-readable json\n",
      "  --debug        output debug information about paths\n",
      "\n",
      "Available subcommands: console contrib dejavu events execute kernel kernelspec\n",
      "lab labextension labhub migrate nbconvert nbextensions_configurator notebook\n",
      "qtconsole run script server troubleshoot trust\n",
      "\n",
      "Jupyter command `jupyter-nbextension` not found.\n"
     ]
    }
   ],
   "source": [
    "!pip install ipywidgets --upgrade\n",
    "!jupyter nbextension enable --py widgetsnbextension"
   ]
  },
  {
   "cell_type": "code",
   "execution_count": 24,
   "id": "f65858dc-baaf-498e-9ce9-2ea3e95a17f3",
   "metadata": {},
   "outputs": [
    {
     "name": "stdout",
     "output_type": "stream",
     "text": [
      "Requirement already satisfied: jupyter-contrib-nbextensions in d:\\hehe\\envs\\pytorch\\lib\\site-packages (0.7.0)\n",
      "Requirement already satisfied: ipython-genutils in d:\\hehe\\envs\\pytorch\\lib\\site-packages (from jupyter-contrib-nbextensions) (0.2.0)\n",
      "Requirement already satisfied: jupyter-contrib-core>=0.3.3 in d:\\hehe\\envs\\pytorch\\lib\\site-packages (from jupyter-contrib-nbextensions) (0.4.2)\n",
      "Requirement already satisfied: jupyter-core in d:\\hehe\\envs\\pytorch\\lib\\site-packages (from jupyter-contrib-nbextensions) (5.7.2)\n",
      "Requirement already satisfied: jupyter-highlight-selected-word>=0.1.1 in d:\\hehe\\envs\\pytorch\\lib\\site-packages (from jupyter-contrib-nbextensions) (0.2.0)\n",
      "Requirement already satisfied: jupyter-nbextensions-configurator>=0.4.0 in d:\\hehe\\envs\\pytorch\\lib\\site-packages (from jupyter-contrib-nbextensions) (0.6.4)\n",
      "Requirement already satisfied: nbconvert>=6.0 in d:\\hehe\\envs\\pytorch\\lib\\site-packages (from jupyter-contrib-nbextensions) (7.10.0)\n",
      "Requirement already satisfied: notebook>=6.0 in d:\\hehe\\envs\\pytorch\\lib\\site-packages (from jupyter-contrib-nbextensions) (7.0.8)\n",
      "Requirement already satisfied: tornado in d:\\hehe\\envs\\pytorch\\lib\\site-packages (from jupyter-contrib-nbextensions) (6.4.1)\n",
      "Requirement already satisfied: traitlets>=4.1 in d:\\hehe\\envs\\pytorch\\lib\\site-packages (from jupyter-contrib-nbextensions) (5.14.3)\n",
      "Requirement already satisfied: lxml in d:\\hehe\\envs\\pytorch\\lib\\site-packages (from jupyter-contrib-nbextensions) (5.3.0)\n",
      "Requirement already satisfied: setuptools in d:\\hehe\\envs\\pytorch\\lib\\site-packages (from jupyter-contrib-core>=0.3.3->jupyter-contrib-nbextensions) (72.1.0)\n",
      "Requirement already satisfied: jupyter-server in d:\\hehe\\envs\\pytorch\\lib\\site-packages (from jupyter-nbextensions-configurator>=0.4.0->jupyter-contrib-nbextensions) (2.14.1)\n",
      "Requirement already satisfied: pyyaml in d:\\hehe\\envs\\pytorch\\lib\\site-packages (from jupyter-nbextensions-configurator>=0.4.0->jupyter-contrib-nbextensions) (6.0.1)\n",
      "Requirement already satisfied: beautifulsoup4 in d:\\hehe\\envs\\pytorch\\lib\\site-packages (from nbconvert>=6.0->jupyter-contrib-nbextensions) (4.12.3)\n",
      "Requirement already satisfied: bleach!=5.0.0 in d:\\hehe\\envs\\pytorch\\lib\\site-packages (from nbconvert>=6.0->jupyter-contrib-nbextensions) (4.1.0)\n",
      "Requirement already satisfied: defusedxml in d:\\hehe\\envs\\pytorch\\lib\\site-packages (from nbconvert>=6.0->jupyter-contrib-nbextensions) (0.7.1)\n",
      "Requirement already satisfied: jinja2>=3.0 in d:\\hehe\\envs\\pytorch\\lib\\site-packages (from nbconvert>=6.0->jupyter-contrib-nbextensions) (3.1.4)\n",
      "Requirement already satisfied: jupyterlab-pygments in d:\\hehe\\envs\\pytorch\\lib\\site-packages (from nbconvert>=6.0->jupyter-contrib-nbextensions) (0.1.2)\n",
      "Requirement already satisfied: markupsafe>=2.0 in d:\\hehe\\envs\\pytorch\\lib\\site-packages (from nbconvert>=6.0->jupyter-contrib-nbextensions) (2.1.3)\n",
      "Requirement already satisfied: mistune<4,>=2.0.3 in d:\\hehe\\envs\\pytorch\\lib\\site-packages (from nbconvert>=6.0->jupyter-contrib-nbextensions) (2.0.4)\n",
      "Requirement already satisfied: nbclient>=0.5.0 in d:\\hehe\\envs\\pytorch\\lib\\site-packages (from nbconvert>=6.0->jupyter-contrib-nbextensions) (0.8.0)\n",
      "Requirement already satisfied: nbformat>=5.7 in d:\\hehe\\envs\\pytorch\\lib\\site-packages (from nbconvert>=6.0->jupyter-contrib-nbextensions) (5.9.2)\n",
      "Requirement already satisfied: packaging in d:\\hehe\\envs\\pytorch\\lib\\site-packages (from nbconvert>=6.0->jupyter-contrib-nbextensions) (24.1)\n",
      "Requirement already satisfied: pandocfilters>=1.4.1 in d:\\hehe\\envs\\pytorch\\lib\\site-packages (from nbconvert>=6.0->jupyter-contrib-nbextensions) (1.5.0)\n",
      "Requirement already satisfied: pygments>=2.4.1 in d:\\hehe\\envs\\pytorch\\lib\\site-packages (from nbconvert>=6.0->jupyter-contrib-nbextensions) (2.15.1)\n",
      "Requirement already satisfied: tinycss2 in d:\\hehe\\envs\\pytorch\\lib\\site-packages (from nbconvert>=6.0->jupyter-contrib-nbextensions) (1.2.1)\n",
      "Requirement already satisfied: platformdirs>=2.5 in d:\\hehe\\envs\\pytorch\\lib\\site-packages (from jupyter-core->jupyter-contrib-nbextensions) (3.10.0)\n",
      "Requirement already satisfied: pywin32>=300 in d:\\hehe\\envs\\pytorch\\lib\\site-packages (from jupyter-core->jupyter-contrib-nbextensions) (305.1)\n",
      "Requirement already satisfied: jupyterlab-server<3,>=2.22.1 in d:\\hehe\\envs\\pytorch\\lib\\site-packages (from notebook>=6.0->jupyter-contrib-nbextensions) (2.25.1)\n",
      "Requirement already satisfied: jupyterlab<4.1,>=4.0.2 in d:\\hehe\\envs\\pytorch\\lib\\site-packages (from notebook>=6.0->jupyter-contrib-nbextensions) (4.0.11)\n",
      "Requirement already satisfied: notebook-shim<0.3,>=0.2 in d:\\hehe\\envs\\pytorch\\lib\\site-packages (from notebook>=6.0->jupyter-contrib-nbextensions) (0.2.3)\n",
      "Requirement already satisfied: six>=1.9.0 in d:\\hehe\\envs\\pytorch\\lib\\site-packages (from bleach!=5.0.0->nbconvert>=6.0->jupyter-contrib-nbextensions) (1.16.0)\n",
      "Requirement already satisfied: webencodings in d:\\hehe\\envs\\pytorch\\lib\\site-packages (from bleach!=5.0.0->nbconvert>=6.0->jupyter-contrib-nbextensions) (0.5.1)\n",
      "Requirement already satisfied: anyio>=3.1.0 in d:\\hehe\\envs\\pytorch\\lib\\site-packages (from jupyter-server->jupyter-nbextensions-configurator>=0.4.0->jupyter-contrib-nbextensions) (4.2.0)\n",
      "Requirement already satisfied: argon2-cffi>=21.1 in d:\\hehe\\envs\\pytorch\\lib\\site-packages (from jupyter-server->jupyter-nbextensions-configurator>=0.4.0->jupyter-contrib-nbextensions) (21.3.0)\n",
      "Requirement already satisfied: jupyter-client>=7.4.4 in d:\\hehe\\envs\\pytorch\\lib\\site-packages (from jupyter-server->jupyter-nbextensions-configurator>=0.4.0->jupyter-contrib-nbextensions) (8.6.0)\n",
      "Requirement already satisfied: jupyter-events>=0.9.0 in d:\\hehe\\envs\\pytorch\\lib\\site-packages (from jupyter-server->jupyter-nbextensions-configurator>=0.4.0->jupyter-contrib-nbextensions) (0.10.0)\n",
      "Requirement already satisfied: jupyter-server-terminals>=0.4.4 in d:\\hehe\\envs\\pytorch\\lib\\site-packages (from jupyter-server->jupyter-nbextensions-configurator>=0.4.0->jupyter-contrib-nbextensions) (0.4.4)\n",
      "Requirement already satisfied: overrides>=5.0 in d:\\hehe\\envs\\pytorch\\lib\\site-packages (from jupyter-server->jupyter-nbextensions-configurator>=0.4.0->jupyter-contrib-nbextensions) (7.4.0)\n",
      "Requirement already satisfied: prometheus-client>=0.9 in d:\\hehe\\envs\\pytorch\\lib\\site-packages (from jupyter-server->jupyter-nbextensions-configurator>=0.4.0->jupyter-contrib-nbextensions) (0.14.1)\n",
      "Requirement already satisfied: pywinpty>=2.0.1 in d:\\hehe\\envs\\pytorch\\lib\\site-packages (from jupyter-server->jupyter-nbextensions-configurator>=0.4.0->jupyter-contrib-nbextensions) (2.0.10)\n",
      "Requirement already satisfied: pyzmq>=24 in d:\\hehe\\envs\\pytorch\\lib\\site-packages (from jupyter-server->jupyter-nbextensions-configurator>=0.4.0->jupyter-contrib-nbextensions) (25.1.2)\n",
      "Requirement already satisfied: send2trash>=1.8.2 in d:\\hehe\\envs\\pytorch\\lib\\site-packages (from jupyter-server->jupyter-nbextensions-configurator>=0.4.0->jupyter-contrib-nbextensions) (1.8.2)\n",
      "Requirement already satisfied: terminado>=0.8.3 in d:\\hehe\\envs\\pytorch\\lib\\site-packages (from jupyter-server->jupyter-nbextensions-configurator>=0.4.0->jupyter-contrib-nbextensions) (0.17.1)\n",
      "Requirement already satisfied: websocket-client>=1.7 in d:\\hehe\\envs\\pytorch\\lib\\site-packages (from jupyter-server->jupyter-nbextensions-configurator>=0.4.0->jupyter-contrib-nbextensions) (1.8.0)\n",
      "Requirement already satisfied: async-lru>=1.0.0 in d:\\hehe\\envs\\pytorch\\lib\\site-packages (from jupyterlab<4.1,>=4.0.2->notebook>=6.0->jupyter-contrib-nbextensions) (2.0.4)\n",
      "Requirement already satisfied: ipykernel in d:\\hehe\\envs\\pytorch\\lib\\site-packages (from jupyterlab<4.1,>=4.0.2->notebook>=6.0->jupyter-contrib-nbextensions) (6.28.0)\n",
      "Requirement already satisfied: jupyter-lsp>=2.0.0 in d:\\hehe\\envs\\pytorch\\lib\\site-packages (from jupyterlab<4.1,>=4.0.2->notebook>=6.0->jupyter-contrib-nbextensions) (2.2.0)\n",
      "Requirement already satisfied: babel>=2.10 in d:\\hehe\\envs\\pytorch\\lib\\site-packages (from jupyterlab-server<3,>=2.22.1->notebook>=6.0->jupyter-contrib-nbextensions) (2.11.0)\n",
      "Requirement already satisfied: json5>=0.9.0 in d:\\hehe\\envs\\pytorch\\lib\\site-packages (from jupyterlab-server<3,>=2.22.1->notebook>=6.0->jupyter-contrib-nbextensions) (0.9.6)\n",
      "Requirement already satisfied: jsonschema>=4.18.0 in d:\\hehe\\envs\\pytorch\\lib\\site-packages (from jupyterlab-server<3,>=2.22.1->notebook>=6.0->jupyter-contrib-nbextensions) (4.19.2)\n",
      "Requirement already satisfied: requests>=2.31 in d:\\hehe\\envs\\pytorch\\lib\\site-packages (from jupyterlab-server<3,>=2.22.1->notebook>=6.0->jupyter-contrib-nbextensions) (2.32.3)\n",
      "Requirement already satisfied: fastjsonschema in d:\\hehe\\envs\\pytorch\\lib\\site-packages (from nbformat>=5.7->nbconvert>=6.0->jupyter-contrib-nbextensions) (2.16.2)\n",
      "Requirement already satisfied: soupsieve>1.2 in d:\\hehe\\envs\\pytorch\\lib\\site-packages (from beautifulsoup4->nbconvert>=6.0->jupyter-contrib-nbextensions) (2.5)\n",
      "Requirement already satisfied: idna>=2.8 in d:\\hehe\\envs\\pytorch\\lib\\site-packages (from anyio>=3.1.0->jupyter-server->jupyter-nbextensions-configurator>=0.4.0->jupyter-contrib-nbextensions) (3.7)\n",
      "Requirement already satisfied: sniffio>=1.1 in d:\\hehe\\envs\\pytorch\\lib\\site-packages (from anyio>=3.1.0->jupyter-server->jupyter-nbextensions-configurator>=0.4.0->jupyter-contrib-nbextensions) (1.3.0)\n",
      "Requirement already satisfied: argon2-cffi-bindings in d:\\hehe\\envs\\pytorch\\lib\\site-packages (from argon2-cffi>=21.1->jupyter-server->jupyter-nbextensions-configurator>=0.4.0->jupyter-contrib-nbextensions) (21.2.0)\n",
      "Requirement already satisfied: pytz>=2015.7 in d:\\hehe\\envs\\pytorch\\lib\\site-packages (from babel>=2.10->jupyterlab-server<3,>=2.22.1->notebook>=6.0->jupyter-contrib-nbextensions) (2024.1)\n",
      "Requirement already satisfied: attrs>=22.2.0 in d:\\hehe\\envs\\pytorch\\lib\\site-packages (from jsonschema>=4.18.0->jupyterlab-server<3,>=2.22.1->notebook>=6.0->jupyter-contrib-nbextensions) (23.1.0)\n",
      "Requirement already satisfied: jsonschema-specifications>=2023.03.6 in d:\\hehe\\envs\\pytorch\\lib\\site-packages (from jsonschema>=4.18.0->jupyterlab-server<3,>=2.22.1->notebook>=6.0->jupyter-contrib-nbextensions) (2023.7.1)\n",
      "Requirement already satisfied: referencing>=0.28.4 in d:\\hehe\\envs\\pytorch\\lib\\site-packages (from jsonschema>=4.18.0->jupyterlab-server<3,>=2.22.1->notebook>=6.0->jupyter-contrib-nbextensions) (0.30.2)\n",
      "Requirement already satisfied: rpds-py>=0.7.1 in d:\\hehe\\envs\\pytorch\\lib\\site-packages (from jsonschema>=4.18.0->jupyterlab-server<3,>=2.22.1->notebook>=6.0->jupyter-contrib-nbextensions) (0.10.6)\n",
      "Requirement already satisfied: python-dateutil>=2.8.2 in d:\\hehe\\envs\\pytorch\\lib\\site-packages (from jupyter-client>=7.4.4->jupyter-server->jupyter-nbextensions-configurator>=0.4.0->jupyter-contrib-nbextensions) (2.9.0.post0)\n",
      "Requirement already satisfied: python-json-logger>=2.0.4 in d:\\hehe\\envs\\pytorch\\lib\\site-packages (from jupyter-events>=0.9.0->jupyter-server->jupyter-nbextensions-configurator>=0.4.0->jupyter-contrib-nbextensions) (2.0.7)\n",
      "Requirement already satisfied: rfc3339-validator in d:\\hehe\\envs\\pytorch\\lib\\site-packages (from jupyter-events>=0.9.0->jupyter-server->jupyter-nbextensions-configurator>=0.4.0->jupyter-contrib-nbextensions) (0.1.4)\n",
      "Requirement already satisfied: rfc3986-validator>=0.1.1 in d:\\hehe\\envs\\pytorch\\lib\\site-packages (from jupyter-events>=0.9.0->jupyter-server->jupyter-nbextensions-configurator>=0.4.0->jupyter-contrib-nbextensions) (0.1.1)\n",
      "Requirement already satisfied: charset-normalizer<4,>=2 in d:\\hehe\\envs\\pytorch\\lib\\site-packages (from requests>=2.31->jupyterlab-server<3,>=2.22.1->notebook>=6.0->jupyter-contrib-nbextensions) (3.3.2)\n",
      "Requirement already satisfied: urllib3<3,>=1.21.1 in d:\\hehe\\envs\\pytorch\\lib\\site-packages (from requests>=2.31->jupyterlab-server<3,>=2.22.1->notebook>=6.0->jupyter-contrib-nbextensions) (2.2.2)\n",
      "Requirement already satisfied: certifi>=2017.4.17 in d:\\hehe\\envs\\pytorch\\lib\\site-packages (from requests>=2.31->jupyterlab-server<3,>=2.22.1->notebook>=6.0->jupyter-contrib-nbextensions) (2024.8.30)\n",
      "Requirement already satisfied: comm>=0.1.1 in d:\\hehe\\envs\\pytorch\\lib\\site-packages (from ipykernel->jupyterlab<4.1,>=4.0.2->notebook>=6.0->jupyter-contrib-nbextensions) (0.2.1)\n",
      "Requirement already satisfied: debugpy>=1.6.5 in d:\\hehe\\envs\\pytorch\\lib\\site-packages (from ipykernel->jupyterlab<4.1,>=4.0.2->notebook>=6.0->jupyter-contrib-nbextensions) (1.6.7)\n",
      "Requirement already satisfied: ipython>=7.23.1 in d:\\hehe\\envs\\pytorch\\lib\\site-packages (from ipykernel->jupyterlab<4.1,>=4.0.2->notebook>=6.0->jupyter-contrib-nbextensions) (8.25.0)\n",
      "Requirement already satisfied: matplotlib-inline>=0.1 in d:\\hehe\\envs\\pytorch\\lib\\site-packages (from ipykernel->jupyterlab<4.1,>=4.0.2->notebook>=6.0->jupyter-contrib-nbextensions) (0.1.6)\n",
      "Requirement already satisfied: nest-asyncio in d:\\hehe\\envs\\pytorch\\lib\\site-packages (from ipykernel->jupyterlab<4.1,>=4.0.2->notebook>=6.0->jupyter-contrib-nbextensions) (1.6.0)\n",
      "Requirement already satisfied: psutil in d:\\hehe\\envs\\pytorch\\lib\\site-packages (from ipykernel->jupyterlab<4.1,>=4.0.2->notebook>=6.0->jupyter-contrib-nbextensions) (5.9.0)\n",
      "Requirement already satisfied: decorator in d:\\hehe\\envs\\pytorch\\lib\\site-packages (from ipython>=7.23.1->ipykernel->jupyterlab<4.1,>=4.0.2->notebook>=6.0->jupyter-contrib-nbextensions) (5.1.1)\n",
      "Requirement already satisfied: jedi>=0.16 in d:\\hehe\\envs\\pytorch\\lib\\site-packages (from ipython>=7.23.1->ipykernel->jupyterlab<4.1,>=4.0.2->notebook>=6.0->jupyter-contrib-nbextensions) (0.19.1)\n",
      "Requirement already satisfied: prompt-toolkit<3.1.0,>=3.0.41 in d:\\hehe\\envs\\pytorch\\lib\\site-packages (from ipython>=7.23.1->ipykernel->jupyterlab<4.1,>=4.0.2->notebook>=6.0->jupyter-contrib-nbextensions) (3.0.43)\n",
      "Requirement already satisfied: stack-data in d:\\hehe\\envs\\pytorch\\lib\\site-packages (from ipython>=7.23.1->ipykernel->jupyterlab<4.1,>=4.0.2->notebook>=6.0->jupyter-contrib-nbextensions) (0.2.0)\n",
      "Requirement already satisfied: colorama in d:\\hehe\\envs\\pytorch\\lib\\site-packages (from ipython>=7.23.1->ipykernel->jupyterlab<4.1,>=4.0.2->notebook>=6.0->jupyter-contrib-nbextensions) (0.4.6)\n",
      "Requirement already satisfied: fqdn in d:\\hehe\\envs\\pytorch\\lib\\site-packages (from jsonschema[format-nongpl]>=4.18.0->jupyter-events>=0.9.0->jupyter-server->jupyter-nbextensions-configurator>=0.4.0->jupyter-contrib-nbextensions) (1.5.1)\n",
      "Requirement already satisfied: isoduration in d:\\hehe\\envs\\pytorch\\lib\\site-packages (from jsonschema[format-nongpl]>=4.18.0->jupyter-events>=0.9.0->jupyter-server->jupyter-nbextensions-configurator>=0.4.0->jupyter-contrib-nbextensions) (20.11.0)\n",
      "Requirement already satisfied: jsonpointer>1.13 in d:\\hehe\\envs\\pytorch\\lib\\site-packages (from jsonschema[format-nongpl]>=4.18.0->jupyter-events>=0.9.0->jupyter-server->jupyter-nbextensions-configurator>=0.4.0->jupyter-contrib-nbextensions) (3.0.0)\n",
      "Requirement already satisfied: uri-template in d:\\hehe\\envs\\pytorch\\lib\\site-packages (from jsonschema[format-nongpl]>=4.18.0->jupyter-events>=0.9.0->jupyter-server->jupyter-nbextensions-configurator>=0.4.0->jupyter-contrib-nbextensions) (1.3.0)\n",
      "Requirement already satisfied: webcolors>=1.11 in d:\\hehe\\envs\\pytorch\\lib\\site-packages (from jsonschema[format-nongpl]>=4.18.0->jupyter-events>=0.9.0->jupyter-server->jupyter-nbextensions-configurator>=0.4.0->jupyter-contrib-nbextensions) (24.8.0)\n",
      "Requirement already satisfied: cffi>=1.0.1 in d:\\hehe\\envs\\pytorch\\lib\\site-packages (from argon2-cffi-bindings->argon2-cffi>=21.1->jupyter-server->jupyter-nbextensions-configurator>=0.4.0->jupyter-contrib-nbextensions) (1.16.0)\n",
      "Requirement already satisfied: pycparser in d:\\hehe\\envs\\pytorch\\lib\\site-packages (from cffi>=1.0.1->argon2-cffi-bindings->argon2-cffi>=21.1->jupyter-server->jupyter-nbextensions-configurator>=0.4.0->jupyter-contrib-nbextensions) (2.21)\n",
      "Requirement already satisfied: parso<0.9.0,>=0.8.3 in d:\\hehe\\envs\\pytorch\\lib\\site-packages (from jedi>=0.16->ipython>=7.23.1->ipykernel->jupyterlab<4.1,>=4.0.2->notebook>=6.0->jupyter-contrib-nbextensions) (0.8.3)\n",
      "Requirement already satisfied: wcwidth in d:\\hehe\\envs\\pytorch\\lib\\site-packages (from prompt-toolkit<3.1.0,>=3.0.41->ipython>=7.23.1->ipykernel->jupyterlab<4.1,>=4.0.2->notebook>=6.0->jupyter-contrib-nbextensions) (0.2.5)\n",
      "Requirement already satisfied: arrow>=0.15.0 in d:\\hehe\\envs\\pytorch\\lib\\site-packages (from isoduration->jsonschema[format-nongpl]>=4.18.0->jupyter-events>=0.9.0->jupyter-server->jupyter-nbextensions-configurator>=0.4.0->jupyter-contrib-nbextensions) (1.2.3)\n",
      "Requirement already satisfied: executing in d:\\hehe\\envs\\pytorch\\lib\\site-packages (from stack-data->ipython>=7.23.1->ipykernel->jupyterlab<4.1,>=4.0.2->notebook>=6.0->jupyter-contrib-nbextensions) (0.8.3)\n",
      "Requirement already satisfied: asttokens in d:\\hehe\\envs\\pytorch\\lib\\site-packages (from stack-data->ipython>=7.23.1->ipykernel->jupyterlab<4.1,>=4.0.2->notebook>=6.0->jupyter-contrib-nbextensions) (2.0.5)\n",
      "Requirement already satisfied: pure-eval in d:\\hehe\\envs\\pytorch\\lib\\site-packages (from stack-data->ipython>=7.23.1->ipykernel->jupyterlab<4.1,>=4.0.2->notebook>=6.0->jupyter-contrib-nbextensions) (0.2.2)\n"
     ]
    }
   ],
   "source": [
    "!pip install jupyter-contrib-nbextensions\n"
   ]
  },
  {
   "cell_type": "code",
   "execution_count": 25,
   "id": "1658a548-409c-43fb-86f2-59525b129a75",
   "metadata": {},
   "outputs": [
    {
     "name": "stderr",
     "output_type": "stream",
     "text": [
      "Traceback (most recent call last):\n",
      "  File \"D:\\hehe\\envs\\pytorch\\Lib\\site-packages\\jupyter_contrib_core\\notebook_compat\\nbextensions.py\", line 6, in <module>\n",
      "    from notebook.extensions import BaseExtensionApp\n",
      "ModuleNotFoundError: No module named 'notebook.extensions'\n",
      "\n",
      "During handling of the above exception, another exception occurred:\n",
      "\n",
      "Traceback (most recent call last):\n",
      "  File \"D:\\hehe\\envs\\pytorch\\Lib\\site-packages\\jupyter_contrib_core\\notebook_compat\\nbextensions.py\", line 10, in <module>\n",
      "    from notebook.nbextensions import BaseNBExtensionApp\n",
      "ModuleNotFoundError: No module named 'notebook.nbextensions'\n",
      "\n",
      "During handling of the above exception, another exception occurred:\n",
      "\n",
      "Traceback (most recent call last):\n",
      "  File \"<frozen runpy>\", line 198, in _run_module_as_main\n",
      "  File \"<frozen runpy>\", line 88, in _run_code\n",
      "  File \"D:\\hehe\\envs\\pytorch\\Scripts\\jupyter-contrib.EXE\\__main__.py\", line 7, in <module>\n",
      "  File \"D:\\hehe\\envs\\pytorch\\Lib\\site-packages\\jupyter_core\\application.py\", line 283, in launch_instance\n",
      "    super().launch_instance(argv=argv, **kwargs)\n",
      "  File \"D:\\hehe\\envs\\pytorch\\Lib\\site-packages\\traitlets\\config\\application.py\", line 1073, in launch_instance\n",
      "    app = cls.instance(**kwargs)\n",
      "          ^^^^^^^^^^^^^^^^^^^^^^\n",
      "  File \"D:\\hehe\\envs\\pytorch\\Lib\\site-packages\\traitlets\\config\\configurable.py\", line 583, in instance\n",
      "    inst = cls(*args, **kwargs)\n",
      "           ^^^^^^^^^^^^^^^^^^^^\n",
      "  File \"D:\\hehe\\envs\\pytorch\\Lib\\site-packages\\jupyter_contrib_core\\application.py\", line 27, in __init__\n",
      "    self._refresh_subcommands()\n",
      "  File \"D:\\hehe\\envs\\pytorch\\Lib\\site-packages\\jupyter_contrib_core\\application.py\", line 43, in _refresh_subcommands\n",
      "    get_subcommands_dict = entrypoint.load()\n",
      "                           ^^^^^^^^^^^^^^^^^\n",
      "  File \"D:\\hehe\\envs\\pytorch\\Lib\\site-packages\\pkg_resources\\__init__.py\", line 2771, in load\n",
      "    return self.resolve()\n",
      "           ^^^^^^^^^^^^^^\n",
      "  File \"D:\\hehe\\envs\\pytorch\\Lib\\site-packages\\pkg_resources\\__init__.py\", line 2777, in resolve\n",
      "    module = __import__(self.module_name, fromlist=['__name__'], level=0)\n",
      "             ^^^^^^^^^^^^^^^^^^^^^^^^^^^^^^^^^^^^^^^^^^^^^^^^^^^^^^^^^^^^\n",
      "  File \"D:\\hehe\\envs\\pytorch\\Lib\\site-packages\\jupyter_contrib_nbextensions\\application.py\", line 7, in <module>\n",
      "    from jupyter_contrib_core.notebook_compat.nbextensions import ArgumentConflict\n",
      "  File \"D:\\hehe\\envs\\pytorch\\Lib\\site-packages\\jupyter_contrib_core\\notebook_compat\\nbextensions.py\", line 12, in <module>\n",
      "    from ._compat.nbextensions import BaseNBExtensionApp\n",
      "  File \"D:\\hehe\\envs\\pytorch\\Lib\\site-packages\\jupyter_contrib_core\\notebook_compat\\_compat\\nbextensions.py\", line 35, in <module>\n",
      "    from notebook.nbextensions import (\n",
      "ModuleNotFoundError: No module named 'notebook.nbextensions'\n"
     ]
    }
   ],
   "source": [
    "!jupyter contrib nbextension install --user\n"
   ]
  },
  {
   "cell_type": "code",
   "execution_count": 25,
   "id": "0b97fa97-f833-4676-bdd8-0b3f36709fb4",
   "metadata": {
    "scrolled": true
   },
   "outputs": [
    {
     "name": "stdout",
     "output_type": "stream",
     "text": [
      "{'input_ids': [101, 2326, 2847, 2828, 1035, 2896, 18382, 102], 'attention_mask': [1, 1, 1, 1, 1, 1, 1, 1]}\n"
     ]
    }
   ],
   "source": [
    "from transformers import DistilBertTokenizer\n",
    "\n",
    "tokenizer = DistilBertTokenizer.from_pretrained('distilbert-base-uncased')\n",
    "tokens = tokenizer('Service hours type_lowercase')\n",
    "print(tokens)\n"
   ]
  },
  {
   "cell_type": "code",
   "execution_count": 26,
   "id": "2121992f-4c0e-4c11-9031-58e7eee950cc",
   "metadata": {},
   "outputs": [],
   "source": [
    "# Tokenize the training data\n",
    "train_encodings = tokenizer(list(train_df['Service hours type_lowercase']), truncation=True, padding=True, max_length=128)\n",
    "\n",
    "# Tokenize the testing data\n",
    "test_encodings = tokenizer(list(test_df['Service hours type_lowercase']), truncation=True, padding=True, max_length=128)\n"
   ]
  },
  {
   "cell_type": "code",
   "execution_count": 52,
   "id": "35faeb4f-1dc1-4ba2-a068-7f51318cc64f",
   "metadata": {},
   "outputs": [],
   "source": [
    "class CustomDataset(torch.utils.data.Dataset):\n",
    "    def __init__(self, encodings, labels):\n",
    "        self.encodings = encodings\n",
    "        self.labels = labels\n",
    "\n",
    "    def __getitem__(self, idx):\n",
    "        item = {key: torch.tensor(val[idx]) for key, val in self.encodings.items()}\n",
    "        item['labels'] = torch.tensor(self.labels[idx])\n",
    "        return item\n",
    "\n",
    "    def __len__(self):\n",
    "        return len(self.labels)\n",
    "\n",
    "# Create PyTorch datasets\n",
    "train_dataset = CustomDataset(train_encodings, list(train_df['label_encoded']))\n",
    "test_dataset = CustomDataset(test_encodings, list(test_df['label_encoded']))\n",
    "\n",
    "# Number of labels\n",
    "num_labels = len(train_df['label_encoded'].unique())"
   ]
  },
  {
   "cell_type": "code",
   "execution_count": 61,
   "id": "146433fa-fd4c-4877-a8c3-dd7769996c8b",
   "metadata": {},
   "outputs": [
    {
     "data": {
      "text/plain": [
       "73"
      ]
     },
     "execution_count": 61,
     "metadata": {},
     "output_type": "execute_result"
    }
   ],
   "source": [
    "num_labels"
   ]
  },
  {
   "cell_type": "code",
   "execution_count": 63,
   "id": "e075345c-c716-409a-9c7b-67cf918e70ec",
   "metadata": {},
   "outputs": [
    {
     "data": {
      "text/plain": [
       "73"
      ]
     },
     "execution_count": 63,
     "metadata": {},
     "output_type": "execute_result"
    }
   ],
   "source": [
    "num_labels_test=len(test_df['label_encoded'].unique())\n",
    "num_labels_test"
   ]
  },
  {
   "cell_type": "code",
   "execution_count": 73,
   "id": "ae8782ac-a12c-4f5d-a01b-9e0f2cc7a02a",
   "metadata": {},
   "outputs": [
    {
     "data": {
      "text/plain": [
       "(204042, 6)"
      ]
     },
     "execution_count": 73,
     "metadata": {},
     "output_type": "execute_result"
    }
   ],
   "source": [
    "train_df.shape"
   ]
  },
  {
   "cell_type": "code",
   "execution_count": 74,
   "id": "e98a8b26-3baa-4b5e-9909-b87b894ab0de",
   "metadata": {},
   "outputs": [
    {
     "data": {
      "text/plain": [
       "(87447, 6)"
      ]
     },
     "execution_count": 74,
     "metadata": {},
     "output_type": "execute_result"
    }
   ],
   "source": [
    "test_df.shape"
   ]
  },
  {
   "cell_type": "code",
   "execution_count": 75,
   "id": "01c98939-8310-4833-a39c-0ade94b8b39d",
   "metadata": {},
   "outputs": [
    {
     "name": "stdout",
     "output_type": "stream",
     "text": [
      "204042\n",
      "87447\n"
     ]
    }
   ],
   "source": [
    "print(len(train_dataset))\n",
    "print(len(test_dataset))\n"
   ]
  },
  {
   "cell_type": "code",
   "execution_count": 76,
   "id": "eaa6548d-d5b8-4a84-af27-f48e59b9a2e4",
   "metadata": {},
   "outputs": [
    {
     "name": "stdout",
     "output_type": "stream",
     "text": [
      "Major code stored  as  workover/drilling         0\n",
      "Cde                                              0\n",
      "Service hours type                               0\n",
      "Minor Repair / Tripping / Complication      140733\n",
      "Service hours type_lowercase                     0\n",
      "label_encoded                                    0\n",
      "dtype: int64\n",
      "Major code stored  as  workover/drilling        0\n",
      "Cde                                             0\n",
      "Service hours type                              0\n",
      "Minor Repair / Tripping / Complication      60467\n",
      "Service hours type_lowercase                    0\n",
      "label_encoded                                   0\n",
      "dtype: int64\n"
     ]
    }
   ],
   "source": [
    "print(train_df.isnull().sum())\n",
    "print(test_df.isnull().sum())\n"
   ]
  },
  {
   "cell_type": "code",
   "execution_count": 85,
   "id": "94193930-ff57-471e-b49a-1fb979c44aa9",
   "metadata": {},
   "outputs": [
    {
     "name": "stdout",
     "output_type": "stream",
     "text": [
      "Requirement already satisfied: transformers in d:\\hehe\\envs\\pytorch\\lib\\site-packages (4.44.2)Note: you may need to restart the kernel to use updated packages.\n",
      "\n",
      "Requirement already satisfied: accelerate in d:\\hehe\\envs\\pytorch\\lib\\site-packages (0.34.2)\n",
      "Requirement already satisfied: filelock in d:\\hehe\\envs\\pytorch\\lib\\site-packages (from transformers) (3.13.1)\n",
      "Requirement already satisfied: huggingface-hub<1.0,>=0.23.2 in d:\\hehe\\envs\\pytorch\\lib\\site-packages (from transformers) (0.24.6)\n",
      "Requirement already satisfied: numpy>=1.17 in d:\\hehe\\envs\\pytorch\\lib\\site-packages (from transformers) (1.26.4)\n",
      "Requirement already satisfied: packaging>=20.0 in d:\\hehe\\envs\\pytorch\\lib\\site-packages (from transformers) (24.1)\n",
      "Requirement already satisfied: pyyaml>=5.1 in d:\\hehe\\envs\\pytorch\\lib\\site-packages (from transformers) (6.0.1)\n",
      "Requirement already satisfied: regex!=2019.12.17 in d:\\hehe\\envs\\pytorch\\lib\\site-packages (from transformers) (2024.7.24)\n",
      "Requirement already satisfied: requests in d:\\hehe\\envs\\pytorch\\lib\\site-packages (from transformers) (2.32.3)\n",
      "Requirement already satisfied: tokenizers<0.20,>=0.19 in d:\\hehe\\envs\\pytorch\\lib\\site-packages (from transformers) (0.19.1)\n",
      "Requirement already satisfied: safetensors>=0.4.1 in d:\\hehe\\envs\\pytorch\\lib\\site-packages (from transformers) (0.4.5)\n",
      "Requirement already satisfied: tqdm>=4.27 in d:\\hehe\\envs\\pytorch\\lib\\site-packages (from transformers) (4.66.5)\n",
      "Requirement already satisfied: psutil in d:\\hehe\\envs\\pytorch\\lib\\site-packages (from accelerate) (5.9.0)\n",
      "Requirement already satisfied: torch>=1.10.0 in d:\\hehe\\envs\\pytorch\\lib\\site-packages (from accelerate) (2.4.1)\n",
      "Requirement already satisfied: fsspec>=2023.5.0 in d:\\hehe\\envs\\pytorch\\lib\\site-packages (from huggingface-hub<1.0,>=0.23.2->transformers) (2024.5.0)\n",
      "Requirement already satisfied: typing-extensions>=3.7.4.3 in d:\\hehe\\envs\\pytorch\\lib\\site-packages (from huggingface-hub<1.0,>=0.23.2->transformers) (4.11.0)\n",
      "Requirement already satisfied: sympy in d:\\hehe\\envs\\pytorch\\lib\\site-packages (from torch>=1.10.0->accelerate) (1.13.2)\n",
      "Requirement already satisfied: networkx in d:\\hehe\\envs\\pytorch\\lib\\site-packages (from torch>=1.10.0->accelerate) (3.2.1)\n",
      "Requirement already satisfied: jinja2 in d:\\hehe\\envs\\pytorch\\lib\\site-packages (from torch>=1.10.0->accelerate) (3.1.4)\n",
      "Requirement already satisfied: setuptools in d:\\hehe\\envs\\pytorch\\lib\\site-packages (from torch>=1.10.0->accelerate) (72.1.0)\n",
      "Requirement already satisfied: colorama in d:\\hehe\\envs\\pytorch\\lib\\site-packages (from tqdm>=4.27->transformers) (0.4.6)\n",
      "Requirement already satisfied: charset-normalizer<4,>=2 in d:\\hehe\\envs\\pytorch\\lib\\site-packages (from requests->transformers) (3.3.2)\n",
      "Requirement already satisfied: idna<4,>=2.5 in d:\\hehe\\envs\\pytorch\\lib\\site-packages (from requests->transformers) (3.7)\n",
      "Requirement already satisfied: urllib3<3,>=1.21.1 in d:\\hehe\\envs\\pytorch\\lib\\site-packages (from requests->transformers) (2.2.2)\n",
      "Requirement already satisfied: certifi>=2017.4.17 in d:\\hehe\\envs\\pytorch\\lib\\site-packages (from requests->transformers) (2024.8.30)\n",
      "Requirement already satisfied: MarkupSafe>=2.0 in d:\\hehe\\envs\\pytorch\\lib\\site-packages (from jinja2->torch>=1.10.0->accelerate) (2.1.3)\n",
      "Requirement already satisfied: mpmath<1.4,>=1.1.0 in d:\\hehe\\envs\\pytorch\\lib\\site-packages (from sympy->torch>=1.10.0->accelerate) (1.3.0)\n"
     ]
    }
   ],
   "source": [
    "pip install --upgrade transformers accelerate\n"
   ]
  },
  {
   "cell_type": "code",
   "execution_count": 78,
   "id": "fee49c97-2a7b-4f99-a3da-9193984a4180",
   "metadata": {},
   "outputs": [
    {
     "name": "stdout",
     "output_type": "stream",
     "text": [
      "204042 204042\n",
      "87447 87447\n"
     ]
    }
   ],
   "source": [
    "print(len(train_encodings['input_ids']), len(train_dataset))\n",
    "print(len(test_encodings['input_ids']), len(test_dataset))\n"
   ]
  },
  {
   "cell_type": "code",
   "execution_count": 79,
   "id": "6fac16ec-283b-4174-bd87-cb936894f305",
   "metadata": {},
   "outputs": [
    {
     "name": "stdout",
     "output_type": "stream",
     "text": [
      "label_encoded\n",
      "65    47551\n",
      "64    27128\n",
      "59    15870\n",
      "41     9528\n",
      "1      9311\n",
      "      ...  \n",
      "49       53\n",
      "67       49\n",
      "2        39\n",
      "58       32\n",
      "29        7\n",
      "Name: count, Length: 73, dtype: int64\n",
      "label_encoded\n",
      "65    20379\n",
      "64    11626\n",
      "59     6801\n",
      "41     4084\n",
      "1      3990\n",
      "      ...  \n",
      "49       23\n",
      "67       21\n",
      "2        17\n",
      "58       13\n",
      "29        3\n",
      "Name: count, Length: 73, dtype: int64\n"
     ]
    }
   ],
   "source": [
    "print(train_df['label_encoded'].value_counts())\n",
    "print(test_df['label_encoded'].value_counts())\n"
   ]
  },
  {
   "cell_type": "code",
   "execution_count": 91,
   "id": "ad98e64e-bef7-40b5-a094-400b9a5f8782",
   "metadata": {},
   "outputs": [],
   "source": [
    "from sklearn.metrics import accuracy_score\n",
    "import numpy as np\n",
    "\n",
    "def compute_metrics(p):\n",
    "    predictions = np.argmax(p.predictions, axis=1)\n",
    "    accuracy = accuracy_score(p.label_ids, predictions)\n",
    "    return {\n",
    "        'accuracy': accuracy,\n",
    "    }\n"
   ]
  },
  {
   "cell_type": "code",
   "execution_count": 94,
   "id": "7559daf5-8338-42db-81ae-c318fbcfbd7c",
   "metadata": {},
   "outputs": [],
   "source": [
    "from torch.utils.data import DataLoader\n",
    "\n",
    "# Create DataLoaders for training and evaluation\n",
    "train_loader = DataLoader(train_dataset, batch_size=16, shuffle=True)\n",
    "test_loader = DataLoader(test_dataset, batch_size=16, shuffle=False)\n"
   ]
  },
  {
   "cell_type": "code",
   "execution_count": 98,
   "id": "8347dbea-26cf-4220-a5bf-2cecf166ce06",
   "metadata": {},
   "outputs": [
    {
     "name": "stderr",
     "output_type": "stream",
     "text": [
      "Training Epoch 1: 100%|██████████| 12753/12753 [09:03<00:00, 23.48it/s]\n"
     ]
    },
    {
     "name": "stdout",
     "output_type": "stream",
     "text": [
      "Epoch 1, Loss: 0.219619151536845, Accuracy: 0.88572940865116\n"
     ]
    },
    {
     "name": "stderr",
     "output_type": "stream",
     "text": [
      "Training Epoch 2: 100%|██████████| 12753/12753 [08:59<00:00, 23.62it/s]\n"
     ]
    },
    {
     "name": "stdout",
     "output_type": "stream",
     "text": [
      "Epoch 2, Loss: 0.19013522535206212, Accuracy: 0.8946736456219798\n"
     ]
    },
    {
     "name": "stderr",
     "output_type": "stream",
     "text": [
      "Training Epoch 3: 100%|██████████| 12753/12753 [09:00<00:00, 23.61it/s]\n"
     ]
    },
    {
     "name": "stdout",
     "output_type": "stream",
     "text": [
      "Epoch 3, Loss: 0.16934243906189292, Accuracy: 0.9013144352633281\n"
     ]
    },
    {
     "name": "stderr",
     "output_type": "stream",
     "text": [
      "Training Epoch 4: 100%|██████████| 12753/12753 [08:58<00:00, 23.66it/s]\n"
     ]
    },
    {
     "name": "stdout",
     "output_type": "stream",
     "text": [
      "Epoch 4, Loss: 0.15268598228971536, Accuracy: 0.9067250860117034\n"
     ]
    },
    {
     "name": "stderr",
     "output_type": "stream",
     "text": [
      "Training Epoch 5: 100%|██████████| 12753/12753 [09:00<00:00, 23.59it/s]\n"
     ]
    },
    {
     "name": "stdout",
     "output_type": "stream",
     "text": [
      "Epoch 5, Loss: 0.14099406087794428, Accuracy: 0.9117828682330108\n"
     ]
    },
    {
     "name": "stderr",
     "output_type": "stream",
     "text": [
      "Training Epoch 6: 100%|██████████| 12753/12753 [09:02<00:00, 23.50it/s]\n"
     ]
    },
    {
     "name": "stdout",
     "output_type": "stream",
     "text": [
      "Epoch 6, Loss: 0.1314702839527075, Accuracy: 0.9160319934131208\n"
     ]
    },
    {
     "name": "stderr",
     "output_type": "stream",
     "text": [
      "Training Epoch 7: 100%|██████████| 12753/12753 [09:03<00:00, 23.46it/s]\n"
     ]
    },
    {
     "name": "stdout",
     "output_type": "stream",
     "text": [
      "Epoch 7, Loss: 0.12257698102728622, Accuracy: 0.9203840385802923\n"
     ]
    },
    {
     "name": "stderr",
     "output_type": "stream",
     "text": [
      "Training Epoch 8: 100%|██████████| 12753/12753 [09:02<00:00, 23.49it/s]\n"
     ]
    },
    {
     "name": "stdout",
     "output_type": "stream",
     "text": [
      "Epoch 8, Loss: 0.11645175707325953, Accuracy: 0.9231089677615393\n"
     ]
    },
    {
     "name": "stderr",
     "output_type": "stream",
     "text": [
      "Training Epoch 9: 100%|██████████| 12753/12753 [09:06<00:00, 23.32it/s]\n"
     ]
    },
    {
     "name": "stdout",
     "output_type": "stream",
     "text": [
      "Epoch 9, Loss: 0.10978621367613708, Accuracy: 0.9265004263828035\n"
     ]
    },
    {
     "name": "stderr",
     "output_type": "stream",
     "text": [
      "Training Epoch 10: 100%|██████████| 12753/12753 [09:01<00:00, 23.56it/s]\n"
     ]
    },
    {
     "name": "stdout",
     "output_type": "stream",
     "text": [
      "Epoch 10, Loss: 0.10515452509730511, Accuracy: 0.9289901098793386\n"
     ]
    },
    {
     "name": "stderr",
     "output_type": "stream",
     "text": [
      "Training Epoch 11: 100%|██████████| 12753/12753 [09:01<00:00, 23.56it/s]\n"
     ]
    },
    {
     "name": "stdout",
     "output_type": "stream",
     "text": [
      "Epoch 11, Loss: 0.1019189365639542, Accuracy: 0.9306956410935003\n"
     ]
    },
    {
     "name": "stderr",
     "output_type": "stream",
     "text": [
      "Training Epoch 12: 100%|██████████| 12753/12753 [09:00<00:00, 23.58it/s]\n"
     ]
    },
    {
     "name": "stdout",
     "output_type": "stream",
     "text": [
      "Epoch 12, Loss: 0.09828859368239097, Accuracy: 0.9329647817606179\n"
     ]
    },
    {
     "name": "stderr",
     "output_type": "stream",
     "text": [
      "Training Epoch 13: 100%|██████████| 12753/12753 [08:59<00:00, 23.62it/s]\n"
     ]
    },
    {
     "name": "stdout",
     "output_type": "stream",
     "text": [
      "Epoch 13, Loss: 0.0953424984620548, Accuracy: 0.9350770919712608\n"
     ]
    },
    {
     "name": "stderr",
     "output_type": "stream",
     "text": [
      "Training Epoch 14: 100%|██████████| 12753/12753 [09:01<00:00, 23.55it/s]\n"
     ]
    },
    {
     "name": "stdout",
     "output_type": "stream",
     "text": [
      "Epoch 14, Loss: 0.09240844317886773, Accuracy: 0.9361160937454054\n"
     ]
    },
    {
     "name": "stderr",
     "output_type": "stream",
     "text": [
      "Training Epoch 15: 100%|██████████| 12753/12753 [09:01<00:00, 23.55it/s]\n"
     ]
    },
    {
     "name": "stdout",
     "output_type": "stream",
     "text": [
      "Epoch 15, Loss: 0.09083666869004743, Accuracy: 0.9379539506572176\n"
     ]
    },
    {
     "name": "stderr",
     "output_type": "stream",
     "text": [
      "Training Epoch 16: 100%|██████████| 12753/12753 [09:00<00:00, 23.59it/s]\n"
     ]
    },
    {
     "name": "stdout",
     "output_type": "stream",
     "text": [
      "Epoch 16, Loss: 0.08767616008996515, Accuracy: 0.9408210074396448\n"
     ]
    },
    {
     "name": "stderr",
     "output_type": "stream",
     "text": [
      "Training Epoch 17: 100%|██████████| 12753/12753 [09:03<00:00, 23.48it/s]\n"
     ]
    },
    {
     "name": "stdout",
     "output_type": "stream",
     "text": [
      "Epoch 17, Loss: 0.08538892957331232, Accuracy: 0.9411738759667128\n"
     ]
    },
    {
     "name": "stderr",
     "output_type": "stream",
     "text": [
      "Training Epoch 18: 100%|██████████| 12753/12753 [09:01<00:00, 23.53it/s]\n"
     ]
    },
    {
     "name": "stdout",
     "output_type": "stream",
     "text": [
      "Epoch 18, Loss: 0.08409324959168042, Accuracy: 0.9429186147949932\n"
     ]
    },
    {
     "name": "stderr",
     "output_type": "stream",
     "text": [
      "Training Epoch 19: 100%|██████████| 12753/12753 [09:01<00:00, 23.54it/s]\n"
     ]
    },
    {
     "name": "stdout",
     "output_type": "stream",
     "text": [
      "Epoch 19, Loss: 0.08237142400231459, Accuracy: 0.9437860832573686\n"
     ]
    },
    {
     "name": "stderr",
     "output_type": "stream",
     "text": [
      "Training Epoch 20: 100%|██████████| 12753/12753 [09:01<00:00, 23.54it/s]\n"
     ]
    },
    {
     "name": "stdout",
     "output_type": "stream",
     "text": [
      "Epoch 20, Loss: 0.0810792207788107, Accuracy: 0.9440801403632585\n"
     ]
    },
    {
     "name": "stderr",
     "output_type": "stream",
     "text": [
      "Training Epoch 21: 100%|██████████| 12753/12753 [09:01<00:00, 23.54it/s]\n"
     ]
    },
    {
     "name": "stdout",
     "output_type": "stream",
     "text": [
      "Epoch 21, Loss: 0.07898104268893054, Accuracy: 0.9455161192303545\n"
     ]
    },
    {
     "name": "stderr",
     "output_type": "stream",
     "text": [
      "Training Epoch 22: 100%|██████████| 12753/12753 [09:02<00:00, 23.52it/s]\n"
     ]
    },
    {
     "name": "stdout",
     "output_type": "stream",
     "text": [
      "Epoch 22, Loss: 0.07825710862657553, Accuracy: 0.9464914086315562\n"
     ]
    },
    {
     "name": "stderr",
     "output_type": "stream",
     "text": [
      "Training Epoch 23: 100%|██████████| 12753/12753 [09:01<00:00, 23.54it/s]\n"
     ]
    },
    {
     "name": "stdout",
     "output_type": "stream",
     "text": [
      "Epoch 23, Loss: 0.0770099488934864, Accuracy: 0.9470599190362768\n"
     ]
    },
    {
     "name": "stderr",
     "output_type": "stream",
     "text": [
      "Training Epoch 24: 100%|██████████| 12753/12753 [09:01<00:00, 23.55it/s]\n"
     ]
    },
    {
     "name": "stdout",
     "output_type": "stream",
     "text": [
      "Epoch 24, Loss: 0.07749893561078146, Accuracy: 0.9476676370551161\n"
     ]
    },
    {
     "name": "stderr",
     "output_type": "stream",
     "text": [
      "Training Epoch 25: 100%|██████████| 12753/12753 [09:01<00:00, 23.55it/s]\n"
     ]
    },
    {
     "name": "stdout",
     "output_type": "stream",
     "text": [
      "Epoch 25, Loss: 0.0741070438179488, Accuracy: 0.9485155017104322\n"
     ]
    },
    {
     "name": "stderr",
     "output_type": "stream",
     "text": [
      "Training Epoch 26: 100%|██████████| 12753/12753 [08:59<00:00, 23.64it/s]\n"
     ]
    },
    {
     "name": "stdout",
     "output_type": "stream",
     "text": [
      "Epoch 26, Loss: 0.07449711721146889, Accuracy: 0.9495250977739877\n"
     ]
    },
    {
     "name": "stderr",
     "output_type": "stream",
     "text": [
      "Training Epoch 27: 100%|██████████| 12753/12753 [08:58<00:00, 23.67it/s]\n"
     ]
    },
    {
     "name": "stdout",
     "output_type": "stream",
     "text": [
      "Epoch 27, Loss: 0.07283077120008558, Accuracy: 0.9500494996128248\n"
     ]
    },
    {
     "name": "stderr",
     "output_type": "stream",
     "text": [
      "Training Epoch 28: 100%|██████████| 12753/12753 [09:01<00:00, 23.57it/s]\n"
     ]
    },
    {
     "name": "stdout",
     "output_type": "stream",
     "text": [
      "Epoch 28, Loss: 0.07214943656067202, Accuracy: 0.9517011203575735\n"
     ]
    },
    {
     "name": "stderr",
     "output_type": "stream",
     "text": [
      "Training Epoch 29: 100%|██████████| 12753/12753 [09:02<00:00, 23.51it/s]\n"
     ]
    },
    {
     "name": "stdout",
     "output_type": "stream",
     "text": [
      "Epoch 29, Loss: 0.07234036881063975, Accuracy: 0.9509267699787298\n"
     ]
    },
    {
     "name": "stderr",
     "output_type": "stream",
     "text": [
      "Training Epoch 30: 100%|██████████| 12753/12753 [09:02<00:00, 23.49it/s]\n"
     ]
    },
    {
     "name": "stdout",
     "output_type": "stream",
     "text": [
      "Epoch 30, Loss: 0.07184825590688271, Accuracy: 0.9516570117916899\n"
     ]
    }
   ],
   "source": [
    "import matplotlib.pyplot as plt\n",
    "\n",
    "# Initialize lists to store loss and accuracy\n",
    "epoch_losses = []\n",
    "epoch_accuracies = []\n",
    "\n",
    "num_epochs = 30\n",
    "for epoch in range(num_epochs):\n",
    "    model.train()  # Set the model to training mode\n",
    "    total_loss = 0\n",
    "    correct_predictions = 0\n",
    "    total_samples = 0\n",
    "    \n",
    "    for batch in tqdm(train_loader, desc=f\"Training Epoch {epoch + 1}\"):\n",
    "        optimizer.zero_grad()  # Zero the gradients\n",
    "        input_ids = batch['input_ids'].to(device)\n",
    "        attention_mask = batch['attention_mask'].to(device)\n",
    "        labels = batch['labels'].to(device)\n",
    "        \n",
    "        # Forward pass\n",
    "        outputs = model(input_ids, attention_mask=attention_mask)\n",
    "        logits = outputs.logits\n",
    "        loss_fn = FocalLoss()\n",
    "        loss = loss_fn(logits, labels)\n",
    "        \n",
    "        # Backward pass\n",
    "        loss.backward()\n",
    "        optimizer.step()\n",
    "        \n",
    "        total_loss += loss.item()\n",
    "        \n",
    "        # Calculate accuracy\n",
    "        predictions = torch.argmax(logits, dim=1)\n",
    "        correct_predictions += (predictions == labels).sum().item()\n",
    "        total_samples += labels.size(0)\n",
    "    \n",
    "    # Calculate average loss and accuracy for the epoch\n",
    "    avg_loss = total_loss / len(train_loader)\n",
    "    accuracy = correct_predictions / total_samples\n",
    "    \n",
    "    epoch_losses.append(avg_loss)\n",
    "    epoch_accuracies.append(accuracy)\n",
    "    \n",
    "    print(f\"Epoch {epoch + 1}, Loss: {avg_loss}, Accuracy: {accuracy}\")\n",
    "\n"
   ]
  },
  {
   "cell_type": "code",
   "execution_count": 99,
   "id": "14ad4ba7-10ac-4652-a5cc-0530379d6226",
   "metadata": {},
   "outputs": [
    {
     "name": "stdout",
     "output_type": "stream",
     "text": [
      "Model saved at: C:\\Users\\user\\Desktop\\Varsha\\trained_model.pth\n"
     ]
    }
   ],
   "source": [
    "#save model!!!\n",
    "# Define the path to save the model\n",
    "model_save_path = r\"C:\\Users\\user\\Desktop\\Varsha\\trained_model.pth\"\n",
    "\n",
    "# Save the model state dictionary\n",
    "torch.save(model.state_dict(), model_save_path)\n",
    "\n",
    "print(f\"Model saved at: {model_save_path}\")\n"
   ]
  },
  {
   "cell_type": "code",
   "execution_count": 100,
   "id": "945abbd0-0d0e-428d-bdd2-06a0e11b8647",
   "metadata": {},
   "outputs": [
    {
     "data": {
      "image/png": "[encoded data removed]",
      "text/plain": [
       "<Figure size 1200x500 with 2 Axes>"
      ]
     },
     "metadata": {},
     "output_type": "display_data"
    }
   ],
   "source": [
    "# Plotting the results\n",
    "plt.figure(figsize=(12, 5))\n",
    "\n",
    "# Loss plot\n",
    "plt.subplot(1, 2, 1)\n",
    "plt.plot(epoch_losses, label='Training Loss')\n",
    "plt.xlabel('Epoch')\n",
    "plt.ylabel('Loss')\n",
    "plt.title('Training Loss per Epoch')\n",
    "plt.legend()\n",
    "\n",
    "# Accuracy plot\n",
    "plt.subplot(1, 2, 2)\n",
    "plt.plot(epoch_accuracies, label='Training Accuracy')\n",
    "plt.xlabel('Epoch')\n",
    "plt.ylabel('Accuracy')\n",
    "plt.title('Training Accuracy per Epoch')\n",
    "plt.legend()\n",
    "\n",
    "plt.show()\n"
   ]
  },
  {
   "cell_type": "code",
   "execution_count": 103,
   "id": "e9bb971a-f89e-4c7d-ae38-b265bf6cd583",
   "metadata": {},
   "outputs": [
    {
     "name": "stderr",
     "output_type": "stream",
     "text": [
      "Evaluating: 100%|██████████| 5466/5466 [01:03<00:00, 85.50it/s]\n"
     ]
    },
    {
     "name": "stdout",
     "output_type": "stream",
     "text": [
      "Test Accuracy: 0.8224\n"
     ]
    },
    {
     "name": "stderr",
     "output_type": "stream",
     "text": [
      "D:\\hehe\\envs\\pytorch\\Lib\\site-packages\\sklearn\\metrics\\_classification.py:1531: UndefinedMetricWarning: Precision is ill-defined and being set to 0.0 in labels with no predicted samples. Use `zero_division` parameter to control this behavior.\n",
      "  _warn_prf(average, modifier, f\"{metric.capitalize()} is\", len(result))\n",
      "D:\\hehe\\envs\\pytorch\\Lib\\site-packages\\sklearn\\metrics\\_classification.py:1531: UndefinedMetricWarning: Precision is ill-defined and being set to 0.0 in labels with no predicted samples. Use `zero_division` parameter to control this behavior.\n",
      "  _warn_prf(average, modifier, f\"{metric.capitalize()} is\", len(result))\n",
      "D:\\hehe\\envs\\pytorch\\Lib\\site-packages\\sklearn\\metrics\\_classification.py:1531: UndefinedMetricWarning: Precision is ill-defined and being set to 0.0 in labels with no predicted samples. Use `zero_division` parameter to control this behavior.\n",
      "  _warn_prf(average, modifier, f\"{metric.capitalize()} is\", len(result))\n"
     ]
    },
    {
     "name": "stdout",
     "output_type": "stream",
     "text": [
      "              precision    recall  f1-score   support\n",
      "\n",
      "           0       0.75      0.75      0.75       487\n",
      "           1       0.88      0.88      0.88      3990\n",
      "           2       0.27      0.18      0.21        17\n",
      "           3       0.85      0.82      0.84      1934\n",
      "           4       0.77      0.72      0.74      1446\n",
      "           5       0.80      0.84      0.82      1049\n",
      "           6       0.89      0.95      0.92      1637\n",
      "           7       0.87      0.82      0.84      3656\n",
      "           8       0.85      0.74      0.79      1583\n",
      "           9       0.85      0.88      0.86      2660\n",
      "          10       0.61      0.48      0.54      1463\n",
      "          11       0.33      0.33      0.33       354\n",
      "          12       0.56      0.43      0.49      1001\n",
      "          13       0.50      0.46      0.48       256\n",
      "          14       0.71      0.72      0.71       110\n",
      "          15       0.58      0.55      0.57       772\n",
      "          16       0.75      0.82      0.78      2903\n",
      "          17       0.50      0.31      0.39       115\n",
      "          18       0.60      0.19      0.29        31\n",
      "          19       0.83      0.85      0.84        46\n",
      "          20       0.50      0.52      0.51        85\n",
      "          21       0.87      0.84      0.86       486\n",
      "          22       0.61      0.61      0.61        64\n",
      "          23       0.88      0.73      0.80        51\n",
      "          24       0.77      0.73      0.75       733\n",
      "          25       0.90      0.91      0.91       249\n",
      "          26       0.56      0.86      0.68       179\n",
      "          27       0.70      0.70      0.70        27\n",
      "          28       0.74      0.64      0.68        44\n",
      "          29       0.20      0.33      0.25         3\n",
      "          30       0.40      0.55      0.47       235\n",
      "          31       0.76      0.49      0.60       564\n",
      "          32       0.77      0.62      0.69       817\n",
      "          33       0.67      0.64      0.66       668\n",
      "          34       0.45      0.36      0.40       683\n",
      "          35       0.76      0.60      0.67       618\n",
      "          36       0.35      0.47      0.40       157\n",
      "          37       0.48      0.34      0.40       480\n",
      "          38       0.53      0.29      0.38       218\n",
      "          39       0.43      0.26      0.33       148\n",
      "          40       0.45      0.36      0.40       260\n",
      "          41       0.82      0.88      0.85      4084\n",
      "          42       0.68      0.49      0.57       286\n",
      "          43       0.47      0.20      0.28       104\n",
      "          44       0.41      0.29      0.34        52\n",
      "          45       0.46      0.26      0.34       251\n",
      "          46       0.55      0.56      0.56       101\n",
      "          47       0.60      0.40      0.48        94\n",
      "          48       0.74      0.71      0.72        35\n",
      "          49       0.53      0.35      0.42        23\n",
      "          50       0.88      0.86      0.87      1172\n",
      "          51       0.78      0.80      0.79        54\n",
      "          52       0.76      0.71      0.73        58\n",
      "          53       0.93      0.94      0.94       452\n",
      "          54       0.92      0.94      0.93       290\n",
      "          55       0.87      0.86      0.87       635\n",
      "          56       0.92      0.92      0.92        53\n",
      "          57       0.83      0.75      0.79       630\n",
      "          58       0.83      0.38      0.53        13\n",
      "          59       0.97      0.95      0.96      6801\n",
      "          60       0.88      0.38      0.54        39\n",
      "          61       0.62      0.65      0.64       106\n",
      "          62       0.75      0.64      0.69       573\n",
      "          63       0.89      0.61      0.72       217\n",
      "          64       0.88      0.93      0.90     11626\n",
      "          65       0.86      0.91      0.88     20379\n",
      "          66       0.54      0.54      0.54       892\n",
      "          67       0.00      0.00      0.00        21\n",
      "          68       0.54      0.54      0.54      1473\n",
      "          69       0.78      0.79      0.79      3134\n",
      "          70       0.71      0.73      0.72       709\n",
      "          71       0.56      0.50      0.53       100\n",
      "          72       0.92      0.96      0.94       711\n",
      "\n",
      "    accuracy                           0.82     87447\n",
      "   macro avg       0.68      0.62      0.64     87447\n",
      "weighted avg       0.82      0.82      0.82     87447\n",
      "\n"
     ]
    }
   ],
   "source": [
    "# Set the model to evaluation mode\n",
    "model.eval()  \n",
    "total_correct = 0\n",
    "total_samples = 0\n",
    "\n",
    "# Initialize lists to store predictions and labels for metrics if needed\n",
    "all_predictions = []\n",
    "all_labels = []\n",
    "\n",
    "# Disable gradient calculation\n",
    "with torch.no_grad():\n",
    "    for batch in tqdm(test_loader, desc=\"Evaluating\"):\n",
    "        input_ids = batch['input_ids'].to(device)\n",
    "        attention_mask = batch['attention_mask'].to(device)\n",
    "        labels = batch['labels'].to(device)\n",
    "        \n",
    "        # Forward pass\n",
    "        outputs = model(input_ids, attention_mask=attention_mask)\n",
    "        logits = outputs.logits\n",
    "        \n",
    "        # Get predictions\n",
    "        predictions = torch.argmax(logits, dim=1)\n",
    "        \n",
    "        # Store predictions and labels\n",
    "        all_predictions.extend(predictions.cpu().numpy())\n",
    "        all_labels.extend(labels.cpu().numpy())\n",
    "        \n",
    "        # Count correct predictions\n",
    "        total_correct += (predictions == labels).sum().item()\n",
    "        total_samples += labels.size(0)\n",
    "\n",
    "# Calculate accuracy\n",
    "accuracy = total_correct / total_samples\n",
    "print(f\"Test Accuracy: {accuracy:.4f}\")\n",
    "\n",
    "# Optional: If you want to compute and print other metrics like F1 score\n",
    "from sklearn.metrics import classification_report\n",
    "\n",
    "print(classification_report(all_labels, all_predictions))\n"
   ]
  },
  {
   "cell_type": "code",
   "execution_count": 104,
   "id": "008241d0-da86-4adc-bc71-9e6bb4c64f13",
   "metadata": {},
   "outputs": [
    {
     "data": {
      "text/plain": [
       "DistilBertConfig {\n",
       "  \"_name_or_path\": \"distilbert-base-uncased\",\n",
       "  \"activation\": \"gelu\",\n",
       "  \"architectures\": [\n",
       "    \"DistilBertForMaskedLM\"\n",
       "  ],\n",
       "  \"attention_dropout\": 0.1,\n",
       "  \"dim\": 768,\n",
       "  \"dropout\": 0.1,\n",
       "  \"hidden_dim\": 3072,\n",
       "  \"id2label\": {\n",
       "    \"0\": \"LABEL_0\",\n",
       "    \"1\": \"LABEL_1\",\n",
       "    \"2\": \"LABEL_2\",\n",
       "    \"3\": \"LABEL_3\",\n",
       "    \"4\": \"LABEL_4\",\n",
       "    \"5\": \"LABEL_5\",\n",
       "    \"6\": \"LABEL_6\",\n",
       "    \"7\": \"LABEL_7\",\n",
       "    \"8\": \"LABEL_8\",\n",
       "    \"9\": \"LABEL_9\",\n",
       "    \"10\": \"LABEL_10\",\n",
       "    \"11\": \"LABEL_11\",\n",
       "    \"12\": \"LABEL_12\",\n",
       "    \"13\": \"LABEL_13\",\n",
       "    \"14\": \"LABEL_14\",\n",
       "    \"15\": \"LABEL_15\",\n",
       "    \"16\": \"LABEL_16\",\n",
       "    \"17\": \"LABEL_17\",\n",
       "    \"18\": \"LABEL_18\",\n",
       "    \"19\": \"LABEL_19\",\n",
       "    \"20\": \"LABEL_20\",\n",
       "    \"21\": \"LABEL_21\",\n",
       "    \"22\": \"LABEL_22\",\n",
       "    \"23\": \"LABEL_23\",\n",
       "    \"24\": \"LABEL_24\",\n",
       "    \"25\": \"LABEL_25\",\n",
       "    \"26\": \"LABEL_26\",\n",
       "    \"27\": \"LABEL_27\",\n",
       "    \"28\": \"LABEL_28\",\n",
       "    \"29\": \"LABEL_29\",\n",
       "    \"30\": \"LABEL_30\",\n",
       "    \"31\": \"LABEL_31\",\n",
       "    \"32\": \"LABEL_32\",\n",
       "    \"33\": \"LABEL_33\",\n",
       "    \"34\": \"LABEL_34\",\n",
       "    \"35\": \"LABEL_35\",\n",
       "    \"36\": \"LABEL_36\",\n",
       "    \"37\": \"LABEL_37\",\n",
       "    \"38\": \"LABEL_38\",\n",
       "    \"39\": \"LABEL_39\",\n",
       "    \"40\": \"LABEL_40\",\n",
       "    \"41\": \"LABEL_41\",\n",
       "    \"42\": \"LABEL_42\",\n",
       "    \"43\": \"LABEL_43\",\n",
       "    \"44\": \"LABEL_44\",\n",
       "    \"45\": \"LABEL_45\",\n",
       "    \"46\": \"LABEL_46\",\n",
       "    \"47\": \"LABEL_47\",\n",
       "    \"48\": \"LABEL_48\",\n",
       "    \"49\": \"LABEL_49\",\n",
       "    \"50\": \"LABEL_50\",\n",
       "    \"51\": \"LABEL_51\",\n",
       "    \"52\": \"LABEL_52\",\n",
       "    \"53\": \"LABEL_53\",\n",
       "    \"54\": \"LABEL_54\",\n",
       "    \"55\": \"LABEL_55\",\n",
       "    \"56\": \"LABEL_56\",\n",
       "    \"57\": \"LABEL_57\",\n",
       "    \"58\": \"LABEL_58\",\n",
       "    \"59\": \"LABEL_59\",\n",
       "    \"60\": \"LABEL_60\",\n",
       "    \"61\": \"LABEL_61\",\n",
       "    \"62\": \"LABEL_62\",\n",
       "    \"63\": \"LABEL_63\",\n",
       "    \"64\": \"LABEL_64\",\n",
       "    \"65\": \"LABEL_65\",\n",
       "    \"66\": \"LABEL_66\",\n",
       "    \"67\": \"LABEL_67\",\n",
       "    \"68\": \"LABEL_68\",\n",
       "    \"69\": \"LABEL_69\",\n",
       "    \"70\": \"LABEL_70\",\n",
       "    \"71\": \"LABEL_71\",\n",
       "    \"72\": \"LABEL_72\"\n",
       "  },\n",
       "  \"initializer_range\": 0.02,\n",
       "  \"label2id\": {\n",
       "    \"LABEL_0\": 0,\n",
       "    \"LABEL_1\": 1,\n",
       "    \"LABEL_10\": 10,\n",
       "    \"LABEL_11\": 11,\n",
       "    \"LABEL_12\": 12,\n",
       "    \"LABEL_13\": 13,\n",
       "    \"LABEL_14\": 14,\n",
       "    \"LABEL_15\": 15,\n",
       "    \"LABEL_16\": 16,\n",
       "    \"LABEL_17\": 17,\n",
       "    \"LABEL_18\": 18,\n",
       "    \"LABEL_19\": 19,\n",
       "    \"LABEL_2\": 2,\n",
       "    \"LABEL_20\": 20,\n",
       "    \"LABEL_21\": 21,\n",
       "    \"LABEL_22\": 22,\n",
       "    \"LABEL_23\": 23,\n",
       "    \"LABEL_24\": 24,\n",
       "    \"LABEL_25\": 25,\n",
       "    \"LABEL_26\": 26,\n",
       "    \"LABEL_27\": 27,\n",
       "    \"LABEL_28\": 28,\n",
       "    \"LABEL_29\": 29,\n",
       "    \"LABEL_3\": 3,\n",
       "    \"LABEL_30\": 30,\n",
       "    \"LABEL_31\": 31,\n",
       "    \"LABEL_32\": 32,\n",
       "    \"LABEL_33\": 33,\n",
       "    \"LABEL_34\": 34,\n",
       "    \"LABEL_35\": 35,\n",
       "    \"LABEL_36\": 36,\n",
       "    \"LABEL_37\": 37,\n",
       "    \"LABEL_38\": 38,\n",
       "    \"LABEL_39\": 39,\n",
       "    \"LABEL_4\": 4,\n",
       "    \"LABEL_40\": 40,\n",
       "    \"LABEL_41\": 41,\n",
       "    \"LABEL_42\": 42,\n",
       "    \"LABEL_43\": 43,\n",
       "    \"LABEL_44\": 44,\n",
       "    \"LABEL_45\": 45,\n",
       "    \"LABEL_46\": 46,\n",
       "    \"LABEL_47\": 47,\n",
       "    \"LABEL_48\": 48,\n",
       "    \"LABEL_49\": 49,\n",
       "    \"LABEL_5\": 5,\n",
       "    \"LABEL_50\": 50,\n",
       "    \"LABEL_51\": 51,\n",
       "    \"LABEL_52\": 52,\n",
       "    \"LABEL_53\": 53,\n",
       "    \"LABEL_54\": 54,\n",
       "    \"LABEL_55\": 55,\n",
       "    \"LABEL_56\": 56,\n",
       "    \"LABEL_57\": 57,\n",
       "    \"LABEL_58\": 58,\n",
       "    \"LABEL_59\": 59,\n",
       "    \"LABEL_6\": 6,\n",
       "    \"LABEL_60\": 60,\n",
       "    \"LABEL_61\": 61,\n",
       "    \"LABEL_62\": 62,\n",
       "    \"LABEL_63\": 63,\n",
       "    \"LABEL_64\": 64,\n",
       "    \"LABEL_65\": 65,\n",
       "    \"LABEL_66\": 66,\n",
       "    \"LABEL_67\": 67,\n",
       "    \"LABEL_68\": 68,\n",
       "    \"LABEL_69\": 69,\n",
       "    \"LABEL_7\": 7,\n",
       "    \"LABEL_70\": 70,\n",
       "    \"LABEL_71\": 71,\n",
       "    \"LABEL_72\": 72,\n",
       "    \"LABEL_8\": 8,\n",
       "    \"LABEL_9\": 9\n",
       "  },\n",
       "  \"max_position_embeddings\": 512,\n",
       "  \"model_type\": \"distilbert\",\n",
       "  \"n_heads\": 12,\n",
       "  \"n_layers\": 6,\n",
       "  \"pad_token_id\": 0,\n",
       "  \"qa_dropout\": 0.1,\n",
       "  \"seq_classif_dropout\": 0.2,\n",
       "  \"sinusoidal_pos_embds\": false,\n",
       "  \"tie_weights_\": true,\n",
       "  \"transformers_version\": \"4.44.2\",\n",
       "  \"vocab_size\": 30522\n",
       "}"
      ]
     },
     "execution_count": 104,
     "metadata": {},
     "output_type": "execute_result"
    }
   ],
   "source": [
    "model.config"
   ]
  },
  {
   "cell_type": "code",
   "execution_count": null,
   "id": "822b6006-b13b-4d0a-bf3a-844adf5f7df0",
   "metadata": {},
   "outputs": [],
   "source": []
  }
 ],
 "metadata": {
  "kernelspec": {
   "display_name": "Python 3 (ipykernel)",
   "language": "python",
   "name": "python3"
  },
  "language_info": {
   "codemirror_mode": {
    "name": "ipython",
    "version": 3
   },
   "file_extension": ".py",
   "mimetype": "text/x-python",
   "name": "python",
   "nbconvert_exporter": "python",
   "pygments_lexer": "ipython3",
   "version": "3.12.3"
  }
 },
 "nbformat": 4,
 "nbformat_minor": 5
}

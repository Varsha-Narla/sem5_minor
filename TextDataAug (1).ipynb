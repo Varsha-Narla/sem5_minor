{
 "cells": [
  {
   "cell_type": "code",
   "execution_count": 1,
   "id": "924e108e-e8cf-481e-9234-ea0521124fdf",
   "metadata": {},
   "outputs": [],
   "source": [
    "import pandas as pd"
   ]
  },
  {
   "cell_type": "code",
   "execution_count": 2,
   "id": "58ad320c-f967-4860-857e-9a25bcc6cf97",
   "metadata": {},
   "outputs": [],
   "source": [
    "data=pd.read_csv(r'C:\\Users\\user\\Desktop\\Varsha\\processed_training.csv')"
   ]
  },
  {
   "cell_type": "code",
   "execution_count": 3,
   "id": "2ecb9bfb-f22d-4c97-bc25-890368a76392",
   "metadata": {},
   "outputs": [
    {
     "data": {
      "text/html": [
       "<div>\n",
       "<style scoped>\n",
       "    .dataframe tbody tr th:only-of-type {\n",
       "        vertical-align: middle;\n",
       "    }\n",
       "\n",
       "    .dataframe tbody tr th {\n",
       "        vertical-align: top;\n",
       "    }\n",
       "\n",
       "    .dataframe thead th {\n",
       "        text-align: right;\n",
       "    }\n",
       "</style>\n",
       "<table border=\"1\" class=\"dataframe\">\n",
       "  <thead>\n",
       "    <tr style=\"text-align: right;\">\n",
       "      <th></th>\n",
       "      <th>Major code stored  as  workover/drilling</th>\n",
       "      <th>Cde</th>\n",
       "      <th>Service hours type</th>\n",
       "      <th>Minor Repair / Tripping / Complication</th>\n",
       "      <th>Service hours type_lowercase</th>\n",
       "    </tr>\n",
       "  </thead>\n",
       "  <tbody>\n",
       "    <tr>\n",
       "      <th>0</th>\n",
       "      <td>RDRP</td>\n",
       "      <td>1A</td>\n",
       "      <td>RIG CARRIER MOVED TO NEW SITE</td>\n",
       "      <td>NaN</td>\n",
       "      <td>rig carrier moved to new site</td>\n",
       "    </tr>\n",
       "    <tr>\n",
       "      <th>1</th>\n",
       "      <td>OUC</td>\n",
       "      <td>24J</td>\n",
       "      <td>DWS UNDER MAJOR REPAIR &amp; WAITG FOR COMP OF CIV...</td>\n",
       "      <td>NaN</td>\n",
       "      <td>dws under major repair waitg for comp of civ job</td>\n",
       "    </tr>\n",
       "    <tr>\n",
       "      <th>2</th>\n",
       "      <td>OUC</td>\n",
       "      <td>24J</td>\n",
       "      <td>DWS UNDER MAJOR REPAIR &amp; WAITG FOR COMP OF CIV...</td>\n",
       "      <td>NaN</td>\n",
       "      <td>dws under major repair waitg for comp of civ job</td>\n",
       "    </tr>\n",
       "    <tr>\n",
       "      <th>3</th>\n",
       "      <td>OUC</td>\n",
       "      <td>24J</td>\n",
       "      <td>DWS UNDER MAJOR REPAIR &amp; WAITG FOR COMP OF CIV...</td>\n",
       "      <td>NaN</td>\n",
       "      <td>dws under major repair waitg for comp of civ job</td>\n",
       "    </tr>\n",
       "    <tr>\n",
       "      <th>4</th>\n",
       "      <td>OUC</td>\n",
       "      <td>24J</td>\n",
       "      <td>DWS UNDER MAJOR REPAIR &amp; WAITG FOR COMP OF CIV...</td>\n",
       "      <td>NaN</td>\n",
       "      <td>dws under major repair waitg for comp of civ job</td>\n",
       "    </tr>\n",
       "  </tbody>\n",
       "</table>\n",
       "</div>"
      ],
      "text/plain": [
       "  Major code stored  as  workover/drilling  Cde  \\\n",
       "0                                     RDRP   1A   \n",
       "1                                      OUC  24J   \n",
       "2                                      OUC  24J   \n",
       "3                                      OUC  24J   \n",
       "4                                      OUC  24J   \n",
       "\n",
       "                                  Service hours type  \\\n",
       "0                      RIG CARRIER MOVED TO NEW SITE   \n",
       "1  DWS UNDER MAJOR REPAIR & WAITG FOR COMP OF CIV...   \n",
       "2  DWS UNDER MAJOR REPAIR & WAITG FOR COMP OF CIV...   \n",
       "3  DWS UNDER MAJOR REPAIR & WAITG FOR COMP OF CIV...   \n",
       "4  DWS UNDER MAJOR REPAIR & WAITG FOR COMP OF CIV...   \n",
       "\n",
       "  Minor Repair / Tripping / Complication  \\\n",
       "0                                    NaN   \n",
       "1                                    NaN   \n",
       "2                                    NaN   \n",
       "3                                    NaN   \n",
       "4                                    NaN   \n",
       "\n",
       "                       Service hours type_lowercase  \n",
       "0                     rig carrier moved to new site  \n",
       "1  dws under major repair waitg for comp of civ job  \n",
       "2  dws under major repair waitg for comp of civ job  \n",
       "3  dws under major repair waitg for comp of civ job  \n",
       "4  dws under major repair waitg for comp of civ job  "
      ]
     },
     "execution_count": 3,
     "metadata": {},
     "output_type": "execute_result"
    }
   ],
   "source": [
    "data.head()"
   ]
  },
  {
   "cell_type": "code",
   "execution_count": 4,
   "id": "eef9fed4-0b96-45b8-b4c4-a9cc07608266",
   "metadata": {},
   "outputs": [
    {
     "name": "stdout",
     "output_type": "stream",
     "text": [
      "Cde\n",
      "6A     67930\n",
      "5A     38754\n",
      "2A     22671\n",
      "23A    13612\n",
      "11A    13301\n",
      "       ...  \n",
      "23I       76\n",
      "7B        70\n",
      "11B       56\n",
      "24K       45\n",
      "21J       10\n",
      "Name: count, Length: 73, dtype: int64\n"
     ]
    }
   ],
   "source": [
    "print(data['Cde'].value_counts())"
   ]
  },
  {
   "cell_type": "code",
   "execution_count": 5,
   "id": "8df6cb9f-944d-44ae-a5d9-7929450dcde3",
   "metadata": {},
   "outputs": [],
   "source": [
    "from sklearn.feature_extraction.text import TfidfVectorizer"
   ]
  },
  {
   "cell_type": "code",
   "execution_count": 22,
   "id": "627dcf9c-3ed4-4aeb-a21b-9f77ca96a040",
   "metadata": {},
   "outputs": [],
   "source": [
    "threshold=250\n",
    "minority_classes=data['Cde'].value_counts()[data['Cde'].value_counts()<threshold].index\n",
    "minority_data = data[data['Cde'].isin(minority_classes)]"
   ]
  },
  {
   "cell_type": "code",
   "execution_count": 26,
   "id": "f8cc13a0-7ea2-4c62-83b0-a351eb62dd64",
   "metadata": {},
   "outputs": [
    {
     "data": {
      "text/plain": [
       "(2098, 5)"
      ]
     },
     "execution_count": 26,
     "metadata": {},
     "output_type": "execute_result"
    }
   ],
   "source": [
    "minority_data.shape"
   ]
  },
  {
   "cell_type": "code",
   "execution_count": 27,
   "id": "af74dc49-3716-48b6-9b71-ef02a4fd5f21",
   "metadata": {},
   "outputs": [],
   "source": [
    "value_counts=minority_data['Cde'].value_counts()\n",
    "minority_classes=value_counts[value_counts < threshold].index\n"
   ]
  },
  {
   "cell_type": "code",
   "execution_count": 28,
   "id": "dcc29c9a-a6f3-419d-9599-eeaf4d6526d8",
   "metadata": {},
   "outputs": [
    {
     "data": {
      "text/plain": [
       "Index(['21C', '24C', '24B', '24H', '23D', '21D', '1D', '21I', '2B', '23H',\n",
       "       '1C', '21H', '23I', '7B', '11B', '24K', '21J'],\n",
       "      dtype='object', name='Cde')"
      ]
     },
     "execution_count": 28,
     "metadata": {},
     "output_type": "execute_result"
    }
   ],
   "source": [
    "minority_classes"
   ]
  },
  {
   "cell_type": "code",
   "execution_count": 32,
   "id": "82548212-e77d-4845-bd15-aed164da452a",
   "metadata": {},
   "outputs": [
    {
     "name": "stdout",
     "output_type": "stream",
     "text": [
      "Collecting sentence-transformers\n",
      "  Downloading sentence_transformers-3.2.1-py3-none-any.whl.metadata (10 kB)\n",
      "Requirement already satisfied: transformers<5.0.0,>=4.41.0 in d:\\hehe\\envs\\pytorch\\lib\\site-packages (from sentence-transformers) (4.44.2)\n",
      "Requirement already satisfied: tqdm in d:\\hehe\\envs\\pytorch\\lib\\site-packages (from sentence-transformers) (4.66.5)\n",
      "Requirement already satisfied: torch>=1.11.0 in d:\\hehe\\envs\\pytorch\\lib\\site-packages (from sentence-transformers) (2.4.1)\n",
      "Requirement already satisfied: scikit-learn in d:\\hehe\\envs\\pytorch\\lib\\site-packages (from sentence-transformers) (1.5.1)\n",
      "Requirement already satisfied: scipy in d:\\hehe\\envs\\pytorch\\lib\\site-packages (from sentence-transformers) (1.14.1)\n",
      "Requirement already satisfied: huggingface-hub>=0.20.0 in d:\\hehe\\envs\\pytorch\\lib\\site-packages (from sentence-transformers) (0.24.6)\n",
      "Requirement already satisfied: Pillow in d:\\hehe\\envs\\pytorch\\lib\\site-packages (from sentence-transformers) (10.4.0)\n",
      "Requirement already satisfied: filelock in d:\\hehe\\envs\\pytorch\\lib\\site-packages (from huggingface-hub>=0.20.0->sentence-transformers) (3.13.1)\n",
      "Requirement already satisfied: fsspec>=2023.5.0 in d:\\hehe\\envs\\pytorch\\lib\\site-packages (from huggingface-hub>=0.20.0->sentence-transformers) (2024.5.0)\n",
      "Requirement already satisfied: packaging>=20.9 in d:\\hehe\\envs\\pytorch\\lib\\site-packages (from huggingface-hub>=0.20.0->sentence-transformers) (24.1)\n",
      "Requirement already satisfied: pyyaml>=5.1 in d:\\hehe\\envs\\pytorch\\lib\\site-packages (from huggingface-hub>=0.20.0->sentence-transformers) (6.0.1)\n",
      "Requirement already satisfied: requests in d:\\hehe\\envs\\pytorch\\lib\\site-packages (from huggingface-hub>=0.20.0->sentence-transformers) (2.32.3)\n",
      "Requirement already satisfied: typing-extensions>=3.7.4.3 in d:\\hehe\\envs\\pytorch\\lib\\site-packages (from huggingface-hub>=0.20.0->sentence-transformers) (4.11.0)\n",
      "Requirement already satisfied: sympy in d:\\hehe\\envs\\pytorch\\lib\\site-packages (from torch>=1.11.0->sentence-transformers) (1.13.2)\n",
      "Requirement already satisfied: networkx in d:\\hehe\\envs\\pytorch\\lib\\site-packages (from torch>=1.11.0->sentence-transformers) (3.2.1)\n",
      "Requirement already satisfied: jinja2 in d:\\hehe\\envs\\pytorch\\lib\\site-packages (from torch>=1.11.0->sentence-transformers) (3.1.4)\n",
      "Requirement already satisfied: setuptools in d:\\hehe\\envs\\pytorch\\lib\\site-packages (from torch>=1.11.0->sentence-transformers) (72.1.0)\n",
      "Requirement already satisfied: colorama in d:\\hehe\\envs\\pytorch\\lib\\site-packages (from tqdm->sentence-transformers) (0.4.6)\n",
      "Requirement already satisfied: numpy>=1.17 in d:\\hehe\\envs\\pytorch\\lib\\site-packages (from transformers<5.0.0,>=4.41.0->sentence-transformers) (1.26.4)\n",
      "Requirement already satisfied: regex!=2019.12.17 in d:\\hehe\\envs\\pytorch\\lib\\site-packages (from transformers<5.0.0,>=4.41.0->sentence-transformers) (2024.7.24)\n",
      "Requirement already satisfied: tokenizers<0.20,>=0.19 in d:\\hehe\\envs\\pytorch\\lib\\site-packages (from transformers<5.0.0,>=4.41.0->sentence-transformers) (0.19.1)\n",
      "Requirement already satisfied: safetensors>=0.4.1 in d:\\hehe\\envs\\pytorch\\lib\\site-packages (from transformers<5.0.0,>=4.41.0->sentence-transformers) (0.4.5)\n",
      "Requirement already satisfied: joblib>=1.2.0 in d:\\hehe\\envs\\pytorch\\lib\\site-packages (from scikit-learn->sentence-transformers) (1.4.2)\n",
      "Requirement already satisfied: threadpoolctl>=3.1.0 in d:\\hehe\\envs\\pytorch\\lib\\site-packages (from scikit-learn->sentence-transformers) (3.5.0)\n",
      "Requirement already satisfied: MarkupSafe>=2.0 in d:\\hehe\\envs\\pytorch\\lib\\site-packages (from jinja2->torch>=1.11.0->sentence-transformers) (2.1.3)\n",
      "Requirement already satisfied: charset-normalizer<4,>=2 in d:\\hehe\\envs\\pytorch\\lib\\site-packages (from requests->huggingface-hub>=0.20.0->sentence-transformers) (3.3.2)\n",
      "Requirement already satisfied: idna<4,>=2.5 in d:\\hehe\\envs\\pytorch\\lib\\site-packages (from requests->huggingface-hub>=0.20.0->sentence-transformers) (3.7)\n",
      "Requirement already satisfied: urllib3<3,>=1.21.1 in d:\\hehe\\envs\\pytorch\\lib\\site-packages (from requests->huggingface-hub>=0.20.0->sentence-transformers) (2.2.2)\n",
      "Requirement already satisfied: certifi>=2017.4.17 in d:\\hehe\\envs\\pytorch\\lib\\site-packages (from requests->huggingface-hub>=0.20.0->sentence-transformers) (2024.8.30)\n",
      "Requirement already satisfied: mpmath<1.4,>=1.1.0 in d:\\hehe\\envs\\pytorch\\lib\\site-packages (from sympy->torch>=1.11.0->sentence-transformers) (1.3.0)\n",
      "Downloading sentence_transformers-3.2.1-py3-none-any.whl (255 kB)\n",
      "Installing collected packages: sentence-transformers\n",
      "Successfully installed sentence-transformers-3.2.1\n"
     ]
    }
   ],
   "source": [
    "!pip install sentence-transformers\n"
   ]
  },
  {
   "cell_type": "code",
   "execution_count": 33,
   "id": "0c22ef58-4ac6-41f4-8adb-06a8e1e9f284",
   "metadata": {},
   "outputs": [
    {
     "name": "stderr",
     "output_type": "stream",
     "text": [
      "D:\\hehe\\envs\\pytorch\\Lib\\site-packages\\sentence_transformers\\cross_encoder\\CrossEncoder.py:13: TqdmExperimentalWarning: Using `tqdm.autonotebook.tqdm` in notebook mode. Use `tqdm.tqdm` instead to force console mode (e.g. in jupyter console)\n",
      "  from tqdm.autonotebook import tqdm, trange\n"
     ]
    },
    {
     "data": {
      "application/vnd.jupyter.widget-view+json": {
       "model_id": "e5e3e0a2b9644428b85de517a322e13f",
       "version_major": 2,
       "version_minor": 0
      },
      "text/plain": [
       "modules.json:   0%|          | 0.00/349 [00:00<?, ?B/s]"
      ]
     },
     "metadata": {},
     "output_type": "display_data"
    },
    {
     "name": "stderr",
     "output_type": "stream",
     "text": [
      "D:\\hehe\\envs\\pytorch\\Lib\\site-packages\\huggingface_hub\\file_download.py:159: UserWarning: `huggingface_hub` cache-system uses symlinks by default to efficiently store duplicated files but your machine does not support them in C:\\Users\\user\\.cache\\huggingface\\hub\\models--sentence-transformers--all-MiniLM-L6-v2. Caching files will still work but in a degraded version that might require more space on your disk. This warning can be disabled by setting the `HF_HUB_DISABLE_SYMLINKS_WARNING` environment variable. For more details, see https://huggingface.co/docs/huggingface_hub/how-to-cache#limitations.\n",
      "To support symlinks on Windows, you either need to activate Developer Mode or to run Python as an administrator. In order to see activate developer mode, see this article: https://docs.microsoft.com/en-us/windows/apps/get-started/enable-your-device-for-development\n",
      "  warnings.warn(message)\n"
     ]
    },
    {
     "data": {
      "application/vnd.jupyter.widget-view+json": {
       "model_id": "5528c580ae3a4a5a8d245f87249c763b",
       "version_major": 2,
       "version_minor": 0
      },
      "text/plain": [
       "config_sentence_transformers.json:   0%|          | 0.00/116 [00:00<?, ?B/s]"
      ]
     },
     "metadata": {},
     "output_type": "display_data"
    },
    {
     "data": {
      "application/vnd.jupyter.widget-view+json": {
       "model_id": "c1ed18a8ab4c4d28b81469b87ec65cc9",
       "version_major": 2,
       "version_minor": 0
      },
      "text/plain": [
       "README.md:   0%|          | 0.00/10.7k [00:00<?, ?B/s]"
      ]
     },
     "metadata": {},
     "output_type": "display_data"
    },
    {
     "data": {
      "application/vnd.jupyter.widget-view+json": {
       "model_id": "09220ff8566f4d2285b36b35e265cca4",
       "version_major": 2,
       "version_minor": 0
      },
      "text/plain": [
       "sentence_bert_config.json:   0%|          | 0.00/53.0 [00:00<?, ?B/s]"
      ]
     },
     "metadata": {},
     "output_type": "display_data"
    },
    {
     "data": {
      "application/vnd.jupyter.widget-view+json": {
       "model_id": "03e37ef4282f4538aa7e7d049b07ca49",
       "version_major": 2,
       "version_minor": 0
      },
      "text/plain": [
       "config.json:   0%|          | 0.00/612 [00:00<?, ?B/s]"
      ]
     },
     "metadata": {},
     "output_type": "display_data"
    },
    {
     "data": {
      "application/vnd.jupyter.widget-view+json": {
       "model_id": "5fb4e090f9ce4f37a641d54941ce4176",
       "version_major": 2,
       "version_minor": 0
      },
      "text/plain": [
       "model.safetensors:   0%|          | 0.00/90.9M [00:00<?, ?B/s]"
      ]
     },
     "metadata": {},
     "output_type": "display_data"
    },
    {
     "data": {
      "application/vnd.jupyter.widget-view+json": {
       "model_id": "56fc71bb1d1b4cfcb02a96b709c063b0",
       "version_major": 2,
       "version_minor": 0
      },
      "text/plain": [
       "tokenizer_config.json:   0%|          | 0.00/350 [00:00<?, ?B/s]"
      ]
     },
     "metadata": {},
     "output_type": "display_data"
    },
    {
     "data": {
      "application/vnd.jupyter.widget-view+json": {
       "model_id": "c5e1b0a09db84ed29e12f572c871aa16",
       "version_major": 2,
       "version_minor": 0
      },
      "text/plain": [
       "vocab.txt:   0%|          | 0.00/232k [00:00<?, ?B/s]"
      ]
     },
     "metadata": {},
     "output_type": "display_data"
    },
    {
     "data": {
      "application/vnd.jupyter.widget-view+json": {
       "model_id": "c06d076fe502489783792a5557266cb2",
       "version_major": 2,
       "version_minor": 0
      },
      "text/plain": [
       "tokenizer.json:   0%|          | 0.00/466k [00:00<?, ?B/s]"
      ]
     },
     "metadata": {},
     "output_type": "display_data"
    },
    {
     "data": {
      "application/vnd.jupyter.widget-view+json": {
       "model_id": "a26442d4652c444884d0f879a785c2d0",
       "version_major": 2,
       "version_minor": 0
      },
      "text/plain": [
       "special_tokens_map.json:   0%|          | 0.00/112 [00:00<?, ?B/s]"
      ]
     },
     "metadata": {},
     "output_type": "display_data"
    },
    {
     "name": "stderr",
     "output_type": "stream",
     "text": [
      "D:\\hehe\\envs\\pytorch\\Lib\\site-packages\\transformers\\tokenization_utils_base.py:1601: FutureWarning: `clean_up_tokenization_spaces` was not set. It will be set to `True` by default. This behavior will be depracted in transformers v4.45, and will be then set to `False` by default. For more details check this issue: https://github.com/huggingface/transformers/issues/31884\n",
      "  warnings.warn(\n"
     ]
    },
    {
     "data": {
      "application/vnd.jupyter.widget-view+json": {
       "model_id": "12f0ec535a0d4108ab018b9d697b6dbd",
       "version_major": 2,
       "version_minor": 0
      },
      "text/plain": [
       "1_Pooling/config.json:   0%|          | 0.00/190 [00:00<?, ?B/s]"
      ]
     },
     "metadata": {},
     "output_type": "display_data"
    }
   ],
   "source": [
    "from sentence_transformers import SentenceTransformer\n",
    "from sklearn.metrics.pairwise import cosine_similarity\n",
    "import numpy as np\n",
    "import pandas as pd\n",
    "\n",
    "# Load SBERT model for sentence embeddings\n",
    "model = SentenceTransformer('all-MiniLM-L6-v2')"
   ]
  },
  {
   "cell_type": "code",
   "execution_count": 37,
   "id": "cb855511-5f92-4edd-9980-5e612598227d",
   "metadata": {},
   "outputs": [
    {
     "name": "stdout",
     "output_type": "stream",
     "text": [
      "Top-5 keywords for 21C: ['progress', 'readiness', 'civil', 'waiting', 'civilwks']\n",
      "Top-5 keywords for 24C: ['logistics', 'shortage', 'fleet', 'availability', 'tanker']\n",
      "Top-5 keywords for 24B: ['readiness', 'waiting', 'rig', 'standby', 'locationrig']\n",
      "Top-5 keywords for 24H: ['rig', 'inspectionrepaired', 'weld', 'repair', 'commissioning']\n",
      "Top-5 keywords for 23D: ['milling', 'millingwdntagged', 'millingmilled', 'millingobserved', '2865m']\n",
      "Top-5 keywords for 21D: ['waiting', 'waited', 'progress', 'waitng', 'meantime']\n",
      "Top-5 keywords for 1D: ['skidded', 'skided', 'skidedclearing', 'skid', 'skidding']\n",
      "Top-5 keywords for 21I: ['waiting', 'waited', 'ctu', 'progress', 'vesselmtime']\n",
      "Top-5 keywords for 2B: ['30conduct', '30csg', '30conductor', '30conductorx52', '30csgresumed']\n",
      "Top-5 keywords for 23H: ['frac', 'frac5', 'jobpressure', 'fracjob', 'hydfrac']\n",
      "Top-5 keywords for 1C: ['anchoring', 'rig', 'anchor4', 'anchor', 'anchor8chkd']\n",
      "Top-5 keywords for 21H: ['cementng', 'cementation', 'cementing', 'cement', 'waiting']\n",
      "Top-5 keywords for 23I: ['fish278', 'csg', '958csg', 'fishing', 'retrieve']\n",
      "Top-5 keywords for 7B: ['drill', 'drills', 'pit', 'tool', 'rig']\n",
      "Top-5 keywords for 11B: ['plt', '2130m', '21385m', 'recorded', 'f21385m']\n",
      "Top-5 keywords for 24K: ['pipe', 'rig', 'reservoir', 'flow', 'ctu']\n",
      "Top-5 keywords for 21J: ['esp', 'waiting', 'novomet', 'crew', 'comp']\n"
     ]
    }
   ],
   "source": [
    "top_k = 5\n",
    "keywords_per_class = {}\n",
    "\n",
    "for minority_class in minority_classes:\n",
    "    # Extract data for the current minority class\n",
    "    minority_class_data = data[data['Cde'] == minority_class]['Service hours type_lowercase'].tolist()\n",
    "    \n",
    "    # Generate document-level embedding for the current minority class\n",
    "    doc_embeddings = model.encode(minority_class_data)\n",
    "    Vmin = np.mean(doc_embeddings, axis=0)\n",
    "\n",
    "    # Extract unique words from the minority class vocabulary\n",
    "    vocab_min = set(word for text in minority_class_data for word in text.split())\n",
    "\n",
    "    # Generate embeddings for each word in the vocabulary\n",
    "    word_embeddings = {word: model.encode(word) for word in vocab_min}\n",
    "\n",
    "    # Calculate cosine similarity between each word embedding and Vmin\n",
    "    cos_sim_values = {word: cosine_similarity([embedding], [Vmin])[0][0] for word, embedding in word_embeddings.items()}\n",
    "\n",
    "    # Sort words by cosine similarity and select top-k as keywords\n",
    "    sorted_keywords = sorted(cos_sim_values.items(), key=lambda item: item[1], reverse=True)\n",
    "    keywords = [word for word, similarity in sorted_keywords[:top_k]]\n",
    "\n",
    "    # Store keywords for the current minority class\n",
    "    keywords_per_class[minority_class] = keywords\n",
    "\n",
    "# Output keywords for each minority class\n",
    "for minority_class, keywords in keywords_per_class.items():\n",
    "    print(f\"Top-{top_k} keywords for {minority_class}: {keywords}\")\n"
   ]
  },
  {
   "cell_type": "code",
   "execution_count": null,
   "id": "493f4d56-5f95-48d0-9a29-76258995825f",
   "metadata": {},
   "outputs": [],
   "source": []
  }
 ],
 "metadata": {
  "kernelspec": {
   "display_name": "Python 3 (ipykernel)",
   "language": "python",
   "name": "python3"
  },
  "language_info": {
   "codemirror_mode": {
    "name": "ipython",
    "version": 3
   },
   "file_extension": ".py",
   "mimetype": "text/x-python",
   "name": "python",
   "nbconvert_exporter": "python",
   "pygments_lexer": "ipython3",
   "version": "3.12.3"
  }
 },
 "nbformat": 4,
 "nbformat_minor": 5
}
